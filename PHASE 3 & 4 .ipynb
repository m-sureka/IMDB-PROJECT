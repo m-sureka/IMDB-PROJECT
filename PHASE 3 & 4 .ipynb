{
 "cells": [
  {
   "cell_type": "markdown",
   "id": "c88eb7ed",
   "metadata": {},
   "source": [
    "# PHASE 3 AND 4"
   ]
  },
  {
   "cell_type": "markdown",
   "id": "1b9b85b9",
   "metadata": {},
   "source": [
    "Phase 3\n",
    "\n",
    "1) Now make only 1 data frame of two CSV files using the join operation of pandas and start doing EDA.\n",
    "\n",
    "2) Do the complete EDA in detail to explore the insights of data and write detailed observations of each analysis.\n",
    "\n",
    "\n",
    "\n",
    "Phase 4\n",
    "\n",
    "1) Write the complete Machine learning code to make predictions of votes and gross collection. Use appropriate models on their label basis. Remember you need to make 2 different predictions: vote and gross collection.\n",
    "\n",
    "2) Apply all the best techniques of scaling, and hyperparameter tuning, and avoid underfitting or overfitting (bias/variance)\n",
    "\n",
    "3) At the end save the best model and convey on which basis you have chosen that model.  "
   ]
  },
  {
   "cell_type": "markdown",
   "id": "cb1f4ddb",
   "metadata": {},
   "source": [
    "IMDb (an acronym for Internet Movie Database) is an online database of information related to films, television series, podcasts, home videos, video games, and streaming content online – including cast, production crew and personal biographies, plot summaries, trivia, ratings, and fan and critical reviews. IMDb began as a fan-operated movie database on the Usenet group \"rec.arts.movies\" in 1990, and moved to the Web in 1993. Since 1998, it has been owned and operated by IMDb.com, Inc., a subsidiary of Amazon.\n",
    "\n",
    "As of March 2022, the database contained some 10.1 million titles (including television episodes) and 11.5 million person records. Additionally, the site had 83 million registered users. The site's message boards were disabled in February 2017.\n",
    "\n",
    "As of 2019, IMDb is the 52nd most visited website in the world, according to website ranker Alexa.\n",
    "\n",
    "The title and talent pages of IMDb are accessible to all users, but only registered and logged-in users can submit new material and suggest edits to existing entries. Most of the site's data has been provided by these volunteers. Registered users with a proven track record are able to add and make corrections to cast lists, credits, and some other data points. However, the addition and removal of images, and alterations to titles, cast and crew names, character names, and plot summaries are subject to an approval process; this usually takes between 24 and 72 hours.\n",
    "\n",
    "On October 2, 2007, character filmographies were added. Character entries are created from character listings in the main filmography database, and as such do not need any additional verification by IMDb staff. They have already been verified when they are added to the main filmography.\n",
    "\n",
    "Registered users can choose their username, and most are pseudonymous. There is no single index of contributors, no index on each profile page of the items contributed, and—except for plot synopses and biographies—no identification of contributors to each product's or person's data pages. Users are also invited to rate titles on a scale of 1 to 10, and the totals are converted into a weighted mean-rating, with filters in place to mitigate ballot-stuffing.\n",
    "\n",
    "User profile pages show a user's registration date and, optionally, their personal ratings of titles. Since 2015, \"badges\" can be added showing a count of contributions. These badges range from total contributions made to independent categories such as photos, trivia, and biographies. If a registered user or visitor is in the entertainment industry and has an IMDb page, they can add photos through IMDbPRO.\n",
    "\n",
    "User ratings of films\n",
    "As one adjunct to data, the IMDb offers a rating scale that allows users to rate films on a scale of one to ten.\n",
    "\n",
    "IMDb indicates that submitted ratings are filtered and weighted in various ways to produce a weighted mean that is displayed for each film, series, and so on. It states that filters are used to avoid ballot stuffing; the method is not described in detail to avoid attempts to circumvent it. In fact, it sometimes produces an extreme difference between the weighted average and the arithmetic mean.\n",
    "\n",
    "Rankings\n",
    "The IMDb Top 250 is a list of the top rated 250 films, based on ratings by the registered users of the website using the methods described. As of 22 February 2022, The Shawshank Redemption, directed by Frank Darabont, is No. 1 on the list, and has been since 2008. The \"Top 250\" rating is based on only the ratings of \"regular voters\". The number of votes a registered user would have to make to be considered as a user who votes regularly has been kept secret. IMDb has stated that to maintain the effectiveness of the Top 250 list they \"deliberately do not disclose the criteria used for a person to be counted as a regular voter\". In addition to other weightings, the Top 250 films are also based on a weighted rating formula referred to in actuarial science as a credibility formula.This label arises because a statistic is taken to be more credible the greater the number of individual pieces of information; in this case from eligible users who submit ratings. Although the current formula is not disclosed, IMDb originally used the following formula to calculate their weighted rating:\n",
    "{\\displaystyle W={\\frac {\\ R\\cdot v+C\\cdot m\\ }{v+m}}}\n",
    "where:\n",
    "W is the weighted rating;\n",
    "R is the mean rating for the movie, from 1 to 10;\n",
    "v is the number of votes for the movie;\n",
    "m is the minimum votes required to be listed in the Top 250 (currently 25,000); and\n",
    "C is the mean vote across the whole report (currently 7.0).\n",
    "The variable W in this formula is equivalent to a Bayesian posterior mean (see Bayesian statistics).\n",
    "\n",
    "The IMDb also has a Bottom 100 feature which is assembled through a similar process although only 10,000 votes must be received to qualify for the list.\n",
    "\n",
    "The Top 250 list comprises a wide range of feature films, including major releases, cult films, independent films, critically acclaimed films, silent films, and non-English-language films. Documentaries, short films and TV episodes are not currently included.\n",
    "\n",
    "Since 2015, there has been a Top 250 list devoted to ranking television shows.\n",
    "\n",
    "Reference view\n",
    "IMDb originally used a more sidebar/list-based view on title pages. However, in 2010 the site updated pages to more free-flowing layouts, and offered logged-in users an \"advanced view\" site preference setting called \"Combined view\", or this could be done on an ad-hoc basis by simply adding /combined to the end of the URL (e.g. https://www.imdb.com/title/tt2358891/combined), for users to choose should they prefer the older page view display method or to aid the editing of data.\n",
    "\n",
    "In 2017, some alterations were made to this advanced view, and the setting was renamed \"Reference view\", again also able to be accessed ad-hoc by simply adding /reference to the end of the URL (e.g. https://www.imdb.com/title/tt2358891/reference), with the former /combined URLs made to link to the newer /reference ones.[14]\n",
    "\n",
    "Message boards\n",
    "Beginning in 2001, the Internet Movie Database also maintained message boards for every title (excepting, as of 2013, TV episodes, which used the same message board for the whole series) and name entry, along with over 140 main boards. To post on the message boards a user needed to \"authenticate\" their account via cell phone, credit card, or by having been a recent customer of the parent company Amazon.com. Message boards expanded in recent years. The Soapbox started in 1999 as a general message board meant for debates on any subjects. The Politics board started in 2007 was a message board to discuss politics, news events, and current affairs, as well as history and economics.\n",
    "\n",
    "By February 20, 2017, all the message boards and their content were permanently removed. According to the website, the decision was made because the boards were \"no longer providing a positive, useful experience for the vast majority of our more than 250 million monthly users worldwide\", and others have mentioned its susceptibility to trolling and disagreeable behavior. Col Needham also mentioned in a post some months earlier that the boards received less income from ads, and that their members only made up a very small part of the website's visitors. The boards were costly to run due to the system's age and dated design, which did not make business sense. The decision to remove the message boards was met with outspoken backlash from some of its users, and sparked an online petition garnering over 8,000 signatures. In the days leading up to February 20, 2017, both Archive.org and MovieChat.org preserved the entire contents of the IMDb message boards using web scraping. Archive.org and MovieChat.org have published IMDb message board archives, which is legal under the fair use doctrine, because it has no effect on IMDb's potential market for or value of the copyrighted work.\n",
    "\n",
    "IMDbPro\n",
    "Actors, crew, and industry executives can post their own resume and upload photos of themselves for a yearly membership fee to IMDbPro. IMDbPro can be accessed by anyone willing to pay the annual fee of US$149.99. Membership enables a user to access the rank order of each industry personality, as well as agent contact information for any actor, producer, director etc. that has an IMDb page. IMDbPro also allows existing actors to claim their name page. Enrolling in IMDbPro enables members who are industry personnel to upload a head shot to open their page, as well as to upload hundreds of photos to accompany their page. Anyone can register as an IMDb user and contribute to the site as well as view its content; however, those users enrolled in IMDbPro have greater access and privileges."
   ]
  },
  {
   "cell_type": "markdown",
   "id": "c0b667f2",
   "metadata": {},
   "source": [
    "Steps to be followed in projects-\n",
    "\n",
    "We need to apply feature engineering/ EDA on the dataset.\n",
    "\n",
    "After that we can split the dataset into train_model and test_model; use this train_model to train your model and test_model to validate your model.\n",
    "\n",
    "After splitting the dataset we need to train at least 4-5 models.\n",
    "\n",
    "Check performance of each model\n",
    "\n",
    "For regression problem- create regression model and check the r2 score and metrics of each model .\n",
    "\n",
    "Check the cross validation score for each model(for classification as well as for regression model).\n",
    "\n",
    "Choose the model as the best model.\n",
    "\n",
    "For regression problem- model with least difference between performance parameter and cross validation computed on same performance parameter is the best model. Example- Difference between r2 score and cross validation computed on r2 scoring parameter.\n",
    "\n",
    "Perform hyper parameter tuning on the best model and check \n",
    "performance of the best model.\n",
    "\n",
    "Save the best model.\n",
    "\n",
    "Steps in EDA and Preprocessing:\n",
    "\n",
    "\n",
    "Identification of variables and data types\n",
    "\n",
    "Analyzing the basic metrics\n",
    "\n",
    "Non-Graphical Univariate Analysis\n",
    "\n",
    "Missing value treatment\n",
    "\n",
    "Graphical Univariate Analysis\n",
    "\n",
    "Bivariate Analysis\n",
    "\n",
    "Encoding the categorical Data\n",
    "\n",
    "Outlier treatment\n",
    "\n",
    "Variable transformations\n",
    "\n",
    "Correlation Analysis\n",
    "\n",
    "Dimensionality Reduction\n",
    "\n",
    "Scaling of Independent features"
   ]
  },
  {
   "cell_type": "markdown",
   "id": "77021432",
   "metadata": {},
   "source": [
    "WE HAVE TO PREDICT VOTE AND GROSS COLLECTION, WHICH IS A LINEAR REGRESSION PROBLEM."
   ]
  },
  {
   "cell_type": "code",
   "execution_count": 1,
   "id": "9efc802b",
   "metadata": {},
   "outputs": [],
   "source": [
    "import pandas as pd\n",
    "import warnings\n",
    "warnings.filterwarnings('ignore')"
   ]
  },
  {
   "cell_type": "code",
   "execution_count": 2,
   "id": "58ccaeb4",
   "metadata": {},
   "outputs": [
    {
     "data": {
      "text/html": [
       "<div>\n",
       "<style scoped>\n",
       "    .dataframe tbody tr th:only-of-type {\n",
       "        vertical-align: middle;\n",
       "    }\n",
       "\n",
       "    .dataframe tbody tr th {\n",
       "        vertical-align: top;\n",
       "    }\n",
       "\n",
       "    .dataframe thead th {\n",
       "        text-align: right;\n",
       "    }\n",
       "</style>\n",
       "<table border=\"1\" class=\"dataframe\">\n",
       "  <thead>\n",
       "    <tr style=\"text-align: right;\">\n",
       "      <th></th>\n",
       "      <th>Unnamed: 0</th>\n",
       "      <th>Movie Name</th>\n",
       "      <th>Votes</th>\n",
       "      <th>Duration</th>\n",
       "      <th>Year</th>\n",
       "      <th>Ratings</th>\n",
       "    </tr>\n",
       "  </thead>\n",
       "  <tbody>\n",
       "    <tr>\n",
       "      <th>0</th>\n",
       "      <td>0</td>\n",
       "      <td>The Dark Knight</td>\n",
       "      <td>Christopher Nolan</td>\n",
       "      <td>152 min</td>\n",
       "      <td>(2008)</td>\n",
       "      <td>9.0</td>\n",
       "    </tr>\n",
       "    <tr>\n",
       "      <th>1</th>\n",
       "      <td>1</td>\n",
       "      <td>The Lord of the Rings: The Return of the King</td>\n",
       "      <td>Peter Jackson</td>\n",
       "      <td>201 min</td>\n",
       "      <td>(2003)</td>\n",
       "      <td>9.0</td>\n",
       "    </tr>\n",
       "    <tr>\n",
       "      <th>2</th>\n",
       "      <td>2</td>\n",
       "      <td>Inception</td>\n",
       "      <td>Christopher Nolan</td>\n",
       "      <td>148 min</td>\n",
       "      <td>(2010)</td>\n",
       "      <td>8.8</td>\n",
       "    </tr>\n",
       "    <tr>\n",
       "      <th>3</th>\n",
       "      <td>3</td>\n",
       "      <td>The Lord of the Rings: The Fellowship of the Ring</td>\n",
       "      <td>Peter Jackson</td>\n",
       "      <td>178 min</td>\n",
       "      <td>(2001)</td>\n",
       "      <td>8.8</td>\n",
       "    </tr>\n",
       "    <tr>\n",
       "      <th>4</th>\n",
       "      <td>4</td>\n",
       "      <td>The Lord of the Rings: The Two Towers</td>\n",
       "      <td>Peter Jackson</td>\n",
       "      <td>179 min</td>\n",
       "      <td>(2002)</td>\n",
       "      <td>8.8</td>\n",
       "    </tr>\n",
       "    <tr>\n",
       "      <th>...</th>\n",
       "      <td>...</td>\n",
       "      <td>...</td>\n",
       "      <td>...</td>\n",
       "      <td>...</td>\n",
       "      <td>...</td>\n",
       "      <td>...</td>\n",
       "    </tr>\n",
       "    <tr>\n",
       "      <th>95</th>\n",
       "      <td>95</td>\n",
       "      <td>Wolfwalkers</td>\n",
       "      <td>Tomm Moore</td>\n",
       "      <td>103 min</td>\n",
       "      <td>(2020)</td>\n",
       "      <td>8.0</td>\n",
       "    </tr>\n",
       "    <tr>\n",
       "      <th>96</th>\n",
       "      <td>96</td>\n",
       "      <td>Elite Squad</td>\n",
       "      <td>José Padilha</td>\n",
       "      <td>115 min</td>\n",
       "      <td>(2007)</td>\n",
       "      <td>8.0</td>\n",
       "    </tr>\n",
       "    <tr>\n",
       "      <th>97</th>\n",
       "      <td>97</td>\n",
       "      <td>Haider</td>\n",
       "      <td>Vishal Bhardwaj</td>\n",
       "      <td>160 min</td>\n",
       "      <td>(2014)</td>\n",
       "      <td>8.0</td>\n",
       "    </tr>\n",
       "    <tr>\n",
       "      <th>98</th>\n",
       "      <td>98</td>\n",
       "      <td>Sanjuro</td>\n",
       "      <td>Akira Kurosawa</td>\n",
       "      <td>96 min</td>\n",
       "      <td>(1962)</td>\n",
       "      <td>8.0</td>\n",
       "    </tr>\n",
       "    <tr>\n",
       "      <th>99</th>\n",
       "      <td>99</td>\n",
       "      <td>Elite Squad 2: The Enemy Within</td>\n",
       "      <td>José Padilha</td>\n",
       "      <td>115 min</td>\n",
       "      <td>(2010)</td>\n",
       "      <td>8.0</td>\n",
       "    </tr>\n",
       "  </tbody>\n",
       "</table>\n",
       "<p>100 rows × 6 columns</p>\n",
       "</div>"
      ],
      "text/plain": [
       "    Unnamed: 0                                         Movie Name  \\\n",
       "0            0                                    The Dark Knight   \n",
       "1            1      The Lord of the Rings: The Return of the King   \n",
       "2            2                                          Inception   \n",
       "3            3  The Lord of the Rings: The Fellowship of the Ring   \n",
       "4            4              The Lord of the Rings: The Two Towers   \n",
       "..         ...                                                ...   \n",
       "95          95                                        Wolfwalkers   \n",
       "96          96                                        Elite Squad   \n",
       "97          97                                             Haider   \n",
       "98          98                                            Sanjuro   \n",
       "99          99                    Elite Squad 2: The Enemy Within   \n",
       "\n",
       "                Votes Duration    Year  Ratings  \n",
       "0   Christopher Nolan  152 min  (2008)      9.0  \n",
       "1       Peter Jackson  201 min  (2003)      9.0  \n",
       "2   Christopher Nolan  148 min  (2010)      8.8  \n",
       "3       Peter Jackson  178 min  (2001)      8.8  \n",
       "4       Peter Jackson  179 min  (2002)      8.8  \n",
       "..                ...      ...     ...      ...  \n",
       "95         Tomm Moore  103 min  (2020)      8.0  \n",
       "96       José Padilha  115 min  (2007)      8.0  \n",
       "97    Vishal Bhardwaj  160 min  (2014)      8.0  \n",
       "98     Akira Kurosawa   96 min  (1962)      8.0  \n",
       "99       José Padilha  115 min  (2010)      8.0  \n",
       "\n",
       "[100 rows x 6 columns]"
      ]
     },
     "execution_count": 2,
     "metadata": {},
     "output_type": "execute_result"
    }
   ],
   "source": [
    "df1=pd.read_csv('imdb1.csv')\n",
    "df1"
   ]
  },
  {
   "cell_type": "code",
   "execution_count": 3,
   "id": "4bc0c4f8",
   "metadata": {},
   "outputs": [
    {
     "data": {
      "text/html": [
       "<div>\n",
       "<style scoped>\n",
       "    .dataframe tbody tr th:only-of-type {\n",
       "        vertical-align: middle;\n",
       "    }\n",
       "\n",
       "    .dataframe tbody tr th {\n",
       "        vertical-align: top;\n",
       "    }\n",
       "\n",
       "    .dataframe thead th {\n",
       "        text-align: right;\n",
       "    }\n",
       "</style>\n",
       "<table border=\"1\" class=\"dataframe\">\n",
       "  <thead>\n",
       "    <tr style=\"text-align: right;\">\n",
       "      <th></th>\n",
       "      <th>Unnamed: 0</th>\n",
       "      <th>Movie Name</th>\n",
       "      <th>Votes</th>\n",
       "      <th>Genre</th>\n",
       "      <th>Gross collection</th>\n",
       "      <th>Certifications</th>\n",
       "      <th>Genre_1</th>\n",
       "      <th>Genre_2</th>\n",
       "      <th>Genre_3</th>\n",
       "    </tr>\n",
       "  </thead>\n",
       "  <tbody>\n",
       "    <tr>\n",
       "      <th>0</th>\n",
       "      <td>0</td>\n",
       "      <td>The Dark Knight</td>\n",
       "      <td>2,718,585</td>\n",
       "      <td>Action, Crime, Drama</td>\n",
       "      <td>$534.86M</td>\n",
       "      <td>12A</td>\n",
       "      <td>Action</td>\n",
       "      <td>Crime</td>\n",
       "      <td>Drama</td>\n",
       "    </tr>\n",
       "    <tr>\n",
       "      <th>1</th>\n",
       "      <td>1</td>\n",
       "      <td>The Lord of the Rings: The Return of the King</td>\n",
       "      <td>1,887,307</td>\n",
       "      <td>Action, Adventure, Drama</td>\n",
       "      <td>$377.85M</td>\n",
       "      <td>12A</td>\n",
       "      <td>Action</td>\n",
       "      <td>Adventure</td>\n",
       "      <td>Drama</td>\n",
       "    </tr>\n",
       "    <tr>\n",
       "      <th>2</th>\n",
       "      <td>2</td>\n",
       "      <td>Inception</td>\n",
       "      <td>2,413,332</td>\n",
       "      <td>Action, Adventure, Sci-Fi</td>\n",
       "      <td>$292.58M</td>\n",
       "      <td>12A</td>\n",
       "      <td>Action</td>\n",
       "      <td>Adventure</td>\n",
       "      <td>Sci-Fi</td>\n",
       "    </tr>\n",
       "    <tr>\n",
       "      <th>3</th>\n",
       "      <td>3</td>\n",
       "      <td>The Lord of the Rings: The Fellowship of the Ring</td>\n",
       "      <td>1,915,959</td>\n",
       "      <td>Action, Adventure, Drama</td>\n",
       "      <td>$315.54M</td>\n",
       "      <td>PG</td>\n",
       "      <td>Action</td>\n",
       "      <td>Adventure</td>\n",
       "      <td>Drama</td>\n",
       "    </tr>\n",
       "    <tr>\n",
       "      <th>4</th>\n",
       "      <td>4</td>\n",
       "      <td>The Lord of the Rings: The Two Towers</td>\n",
       "      <td>1,703,481</td>\n",
       "      <td>Action, Adventure, Drama</td>\n",
       "      <td>$342.55M</td>\n",
       "      <td>12A</td>\n",
       "      <td>Action</td>\n",
       "      <td>Adventure</td>\n",
       "      <td>Drama</td>\n",
       "    </tr>\n",
       "    <tr>\n",
       "      <th>...</th>\n",
       "      <td>...</td>\n",
       "      <td>...</td>\n",
       "      <td>...</td>\n",
       "      <td>...</td>\n",
       "      <td>...</td>\n",
       "      <td>...</td>\n",
       "      <td>...</td>\n",
       "      <td>...</td>\n",
       "      <td>...</td>\n",
       "    </tr>\n",
       "    <tr>\n",
       "      <th>95</th>\n",
       "      <td>95</td>\n",
       "      <td>Wolfwalkers</td>\n",
       "      <td>35,171</td>\n",
       "      <td>Animation, Action, Adventure</td>\n",
       "      <td>NaN</td>\n",
       "      <td>PG</td>\n",
       "      <td>Animation</td>\n",
       "      <td>Action</td>\n",
       "      <td>Adventure</td>\n",
       "    </tr>\n",
       "    <tr>\n",
       "      <th>96</th>\n",
       "      <td>96</td>\n",
       "      <td>Elite Squad</td>\n",
       "      <td>106,738 |</td>\n",
       "      <td>Action, Crime, Drama</td>\n",
       "      <td>.01M</td>\n",
       "      <td>18</td>\n",
       "      <td>Action</td>\n",
       "      <td>Crime</td>\n",
       "      <td>Drama</td>\n",
       "    </tr>\n",
       "    <tr>\n",
       "      <th>97</th>\n",
       "      <td>97</td>\n",
       "      <td>Haider</td>\n",
       "      <td>56,089 |</td>\n",
       "      <td>Action, Crime, Drama</td>\n",
       "      <td>90M</td>\n",
       "      <td>15</td>\n",
       "      <td>Action</td>\n",
       "      <td>Crime</td>\n",
       "      <td>Drama</td>\n",
       "    </tr>\n",
       "    <tr>\n",
       "      <th>98</th>\n",
       "      <td>98</td>\n",
       "      <td>Sanjuro</td>\n",
       "      <td>39,439</td>\n",
       "      <td>Action, Drama, Thriller</td>\n",
       "      <td>NaN</td>\n",
       "      <td>A</td>\n",
       "      <td>Action</td>\n",
       "      <td>Drama</td>\n",
       "      <td>Thriller</td>\n",
       "    </tr>\n",
       "    <tr>\n",
       "      <th>99</th>\n",
       "      <td>99</td>\n",
       "      <td>Elite Squad 2: The Enemy Within</td>\n",
       "      <td>84,731 |</td>\n",
       "      <td>Action, Crime, Drama</td>\n",
       "      <td>10M</td>\n",
       "      <td>18</td>\n",
       "      <td>Action</td>\n",
       "      <td>Crime</td>\n",
       "      <td>Drama</td>\n",
       "    </tr>\n",
       "  </tbody>\n",
       "</table>\n",
       "<p>100 rows × 9 columns</p>\n",
       "</div>"
      ],
      "text/plain": [
       "    Unnamed: 0                                         Movie Name      Votes  \\\n",
       "0            0                                    The Dark Knight  2,718,585   \n",
       "1            1      The Lord of the Rings: The Return of the King  1,887,307   \n",
       "2            2                                          Inception  2,413,332   \n",
       "3            3  The Lord of the Rings: The Fellowship of the Ring  1,915,959   \n",
       "4            4              The Lord of the Rings: The Two Towers  1,703,481   \n",
       "..         ...                                                ...        ...   \n",
       "95          95                                        Wolfwalkers     35,171   \n",
       "96          96                                        Elite Squad  106,738 |   \n",
       "97          97                                             Haider  56,089 |    \n",
       "98          98                                            Sanjuro     39,439   \n",
       "99          99                    Elite Squad 2: The Enemy Within  84,731 |    \n",
       "\n",
       "                           Genre Gross collection Certifications    Genre_1  \\\n",
       "0           Action, Crime, Drama         $534.86M            12A     Action   \n",
       "1       Action, Adventure, Drama         $377.85M            12A     Action   \n",
       "2      Action, Adventure, Sci-Fi         $292.58M            12A     Action   \n",
       "3       Action, Adventure, Drama         $315.54M             PG     Action   \n",
       "4       Action, Adventure, Drama         $342.55M            12A     Action   \n",
       "..                           ...              ...            ...        ...   \n",
       "95  Animation, Action, Adventure              NaN             PG  Animation   \n",
       "96          Action, Crime, Drama             .01M             18     Action   \n",
       "97          Action, Crime, Drama              90M             15     Action   \n",
       "98       Action, Drama, Thriller              NaN              A     Action   \n",
       "99          Action, Crime, Drama              10M             18     Action   \n",
       "\n",
       "       Genre_2     Genre_3  \n",
       "0        Crime       Drama  \n",
       "1    Adventure       Drama  \n",
       "2    Adventure      Sci-Fi  \n",
       "3    Adventure       Drama  \n",
       "4    Adventure       Drama  \n",
       "..         ...         ...  \n",
       "95      Action   Adventure  \n",
       "96       Crime       Drama  \n",
       "97       Crime       Drama  \n",
       "98       Drama    Thriller  \n",
       "99       Crime       Drama  \n",
       "\n",
       "[100 rows x 9 columns]"
      ]
     },
     "execution_count": 3,
     "metadata": {},
     "output_type": "execute_result"
    }
   ],
   "source": [
    "df2=pd.read_csv('imdb2.csv')\n",
    "df2"
   ]
  },
  {
   "cell_type": "code",
   "execution_count": 4,
   "id": "9a0a16a4",
   "metadata": {},
   "outputs": [
    {
     "data": {
      "text/html": [
       "<div>\n",
       "<style scoped>\n",
       "    .dataframe tbody tr th:only-of-type {\n",
       "        vertical-align: middle;\n",
       "    }\n",
       "\n",
       "    .dataframe tbody tr th {\n",
       "        vertical-align: top;\n",
       "    }\n",
       "\n",
       "    .dataframe thead th {\n",
       "        text-align: right;\n",
       "    }\n",
       "</style>\n",
       "<table border=\"1\" class=\"dataframe\">\n",
       "  <thead>\n",
       "    <tr style=\"text-align: right;\">\n",
       "      <th></th>\n",
       "      <th>Unnamed: 0_x</th>\n",
       "      <th>Movie Name</th>\n",
       "      <th>Votes_x</th>\n",
       "      <th>Duration</th>\n",
       "      <th>Year</th>\n",
       "      <th>Ratings</th>\n",
       "      <th>Unnamed: 0_y</th>\n",
       "      <th>Votes_y</th>\n",
       "      <th>Genre</th>\n",
       "      <th>Gross collection</th>\n",
       "      <th>Certifications</th>\n",
       "      <th>Genre_1</th>\n",
       "      <th>Genre_2</th>\n",
       "      <th>Genre_3</th>\n",
       "    </tr>\n",
       "  </thead>\n",
       "  <tbody>\n",
       "    <tr>\n",
       "      <th>0</th>\n",
       "      <td>0</td>\n",
       "      <td>The Dark Knight</td>\n",
       "      <td>Christopher Nolan</td>\n",
       "      <td>152 min</td>\n",
       "      <td>(2008)</td>\n",
       "      <td>9.0</td>\n",
       "      <td>0</td>\n",
       "      <td>2,718,585</td>\n",
       "      <td>Action, Crime, Drama</td>\n",
       "      <td>$534.86M</td>\n",
       "      <td>12A</td>\n",
       "      <td>Action</td>\n",
       "      <td>Crime</td>\n",
       "      <td>Drama</td>\n",
       "    </tr>\n",
       "    <tr>\n",
       "      <th>1</th>\n",
       "      <td>1</td>\n",
       "      <td>The Lord of the Rings: The Return of the King</td>\n",
       "      <td>Peter Jackson</td>\n",
       "      <td>201 min</td>\n",
       "      <td>(2003)</td>\n",
       "      <td>9.0</td>\n",
       "      <td>1</td>\n",
       "      <td>1,887,307</td>\n",
       "      <td>Action, Adventure, Drama</td>\n",
       "      <td>$377.85M</td>\n",
       "      <td>12A</td>\n",
       "      <td>Action</td>\n",
       "      <td>Adventure</td>\n",
       "      <td>Drama</td>\n",
       "    </tr>\n",
       "    <tr>\n",
       "      <th>2</th>\n",
       "      <td>2</td>\n",
       "      <td>Inception</td>\n",
       "      <td>Christopher Nolan</td>\n",
       "      <td>148 min</td>\n",
       "      <td>(2010)</td>\n",
       "      <td>8.8</td>\n",
       "      <td>2</td>\n",
       "      <td>2,413,332</td>\n",
       "      <td>Action, Adventure, Sci-Fi</td>\n",
       "      <td>$292.58M</td>\n",
       "      <td>12A</td>\n",
       "      <td>Action</td>\n",
       "      <td>Adventure</td>\n",
       "      <td>Sci-Fi</td>\n",
       "    </tr>\n",
       "    <tr>\n",
       "      <th>3</th>\n",
       "      <td>3</td>\n",
       "      <td>The Lord of the Rings: The Fellowship of the Ring</td>\n",
       "      <td>Peter Jackson</td>\n",
       "      <td>178 min</td>\n",
       "      <td>(2001)</td>\n",
       "      <td>8.8</td>\n",
       "      <td>3</td>\n",
       "      <td>1,915,959</td>\n",
       "      <td>Action, Adventure, Drama</td>\n",
       "      <td>$315.54M</td>\n",
       "      <td>PG</td>\n",
       "      <td>Action</td>\n",
       "      <td>Adventure</td>\n",
       "      <td>Drama</td>\n",
       "    </tr>\n",
       "    <tr>\n",
       "      <th>4</th>\n",
       "      <td>4</td>\n",
       "      <td>The Lord of the Rings: The Two Towers</td>\n",
       "      <td>Peter Jackson</td>\n",
       "      <td>179 min</td>\n",
       "      <td>(2002)</td>\n",
       "      <td>8.8</td>\n",
       "      <td>4</td>\n",
       "      <td>1,703,481</td>\n",
       "      <td>Action, Adventure, Drama</td>\n",
       "      <td>$342.55M</td>\n",
       "      <td>12A</td>\n",
       "      <td>Action</td>\n",
       "      <td>Adventure</td>\n",
       "      <td>Drama</td>\n",
       "    </tr>\n",
       "    <tr>\n",
       "      <th>...</th>\n",
       "      <td>...</td>\n",
       "      <td>...</td>\n",
       "      <td>...</td>\n",
       "      <td>...</td>\n",
       "      <td>...</td>\n",
       "      <td>...</td>\n",
       "      <td>...</td>\n",
       "      <td>...</td>\n",
       "      <td>...</td>\n",
       "      <td>...</td>\n",
       "      <td>...</td>\n",
       "      <td>...</td>\n",
       "      <td>...</td>\n",
       "      <td>...</td>\n",
       "    </tr>\n",
       "    <tr>\n",
       "      <th>95</th>\n",
       "      <td>95</td>\n",
       "      <td>Wolfwalkers</td>\n",
       "      <td>Tomm Moore</td>\n",
       "      <td>103 min</td>\n",
       "      <td>(2020)</td>\n",
       "      <td>8.0</td>\n",
       "      <td>95</td>\n",
       "      <td>35,171</td>\n",
       "      <td>Animation, Action, Adventure</td>\n",
       "      <td>NaN</td>\n",
       "      <td>PG</td>\n",
       "      <td>Animation</td>\n",
       "      <td>Action</td>\n",
       "      <td>Adventure</td>\n",
       "    </tr>\n",
       "    <tr>\n",
       "      <th>96</th>\n",
       "      <td>96</td>\n",
       "      <td>Elite Squad</td>\n",
       "      <td>José Padilha</td>\n",
       "      <td>115 min</td>\n",
       "      <td>(2007)</td>\n",
       "      <td>8.0</td>\n",
       "      <td>96</td>\n",
       "      <td>106,738 |</td>\n",
       "      <td>Action, Crime, Drama</td>\n",
       "      <td>.01M</td>\n",
       "      <td>18</td>\n",
       "      <td>Action</td>\n",
       "      <td>Crime</td>\n",
       "      <td>Drama</td>\n",
       "    </tr>\n",
       "    <tr>\n",
       "      <th>97</th>\n",
       "      <td>97</td>\n",
       "      <td>Haider</td>\n",
       "      <td>Vishal Bhardwaj</td>\n",
       "      <td>160 min</td>\n",
       "      <td>(2014)</td>\n",
       "      <td>8.0</td>\n",
       "      <td>97</td>\n",
       "      <td>56,089 |</td>\n",
       "      <td>Action, Crime, Drama</td>\n",
       "      <td>90M</td>\n",
       "      <td>15</td>\n",
       "      <td>Action</td>\n",
       "      <td>Crime</td>\n",
       "      <td>Drama</td>\n",
       "    </tr>\n",
       "    <tr>\n",
       "      <th>98</th>\n",
       "      <td>98</td>\n",
       "      <td>Sanjuro</td>\n",
       "      <td>Akira Kurosawa</td>\n",
       "      <td>96 min</td>\n",
       "      <td>(1962)</td>\n",
       "      <td>8.0</td>\n",
       "      <td>98</td>\n",
       "      <td>39,439</td>\n",
       "      <td>Action, Drama, Thriller</td>\n",
       "      <td>NaN</td>\n",
       "      <td>A</td>\n",
       "      <td>Action</td>\n",
       "      <td>Drama</td>\n",
       "      <td>Thriller</td>\n",
       "    </tr>\n",
       "    <tr>\n",
       "      <th>99</th>\n",
       "      <td>99</td>\n",
       "      <td>Elite Squad 2: The Enemy Within</td>\n",
       "      <td>José Padilha</td>\n",
       "      <td>115 min</td>\n",
       "      <td>(2010)</td>\n",
       "      <td>8.0</td>\n",
       "      <td>99</td>\n",
       "      <td>84,731 |</td>\n",
       "      <td>Action, Crime, Drama</td>\n",
       "      <td>10M</td>\n",
       "      <td>18</td>\n",
       "      <td>Action</td>\n",
       "      <td>Crime</td>\n",
       "      <td>Drama</td>\n",
       "    </tr>\n",
       "  </tbody>\n",
       "</table>\n",
       "<p>100 rows × 14 columns</p>\n",
       "</div>"
      ],
      "text/plain": [
       "    Unnamed: 0_x                                         Movie Name  \\\n",
       "0              0                                    The Dark Knight   \n",
       "1              1      The Lord of the Rings: The Return of the King   \n",
       "2              2                                          Inception   \n",
       "3              3  The Lord of the Rings: The Fellowship of the Ring   \n",
       "4              4              The Lord of the Rings: The Two Towers   \n",
       "..           ...                                                ...   \n",
       "95            95                                        Wolfwalkers   \n",
       "96            96                                        Elite Squad   \n",
       "97            97                                             Haider   \n",
       "98            98                                            Sanjuro   \n",
       "99            99                    Elite Squad 2: The Enemy Within   \n",
       "\n",
       "              Votes_x Duration    Year  Ratings  Unnamed: 0_y    Votes_y  \\\n",
       "0   Christopher Nolan  152 min  (2008)      9.0             0  2,718,585   \n",
       "1       Peter Jackson  201 min  (2003)      9.0             1  1,887,307   \n",
       "2   Christopher Nolan  148 min  (2010)      8.8             2  2,413,332   \n",
       "3       Peter Jackson  178 min  (2001)      8.8             3  1,915,959   \n",
       "4       Peter Jackson  179 min  (2002)      8.8             4  1,703,481   \n",
       "..                ...      ...     ...      ...           ...        ...   \n",
       "95         Tomm Moore  103 min  (2020)      8.0            95     35,171   \n",
       "96       José Padilha  115 min  (2007)      8.0            96  106,738 |   \n",
       "97    Vishal Bhardwaj  160 min  (2014)      8.0            97  56,089 |    \n",
       "98     Akira Kurosawa   96 min  (1962)      8.0            98     39,439   \n",
       "99       José Padilha  115 min  (2010)      8.0            99  84,731 |    \n",
       "\n",
       "                           Genre Gross collection Certifications    Genre_1  \\\n",
       "0           Action, Crime, Drama         $534.86M            12A     Action   \n",
       "1       Action, Adventure, Drama         $377.85M            12A     Action   \n",
       "2      Action, Adventure, Sci-Fi         $292.58M            12A     Action   \n",
       "3       Action, Adventure, Drama         $315.54M             PG     Action   \n",
       "4       Action, Adventure, Drama         $342.55M            12A     Action   \n",
       "..                           ...              ...            ...        ...   \n",
       "95  Animation, Action, Adventure              NaN             PG  Animation   \n",
       "96          Action, Crime, Drama             .01M             18     Action   \n",
       "97          Action, Crime, Drama              90M             15     Action   \n",
       "98       Action, Drama, Thriller              NaN              A     Action   \n",
       "99          Action, Crime, Drama              10M             18     Action   \n",
       "\n",
       "       Genre_2     Genre_3  \n",
       "0        Crime       Drama  \n",
       "1    Adventure       Drama  \n",
       "2    Adventure      Sci-Fi  \n",
       "3    Adventure       Drama  \n",
       "4    Adventure       Drama  \n",
       "..         ...         ...  \n",
       "95      Action   Adventure  \n",
       "96       Crime       Drama  \n",
       "97       Crime       Drama  \n",
       "98       Drama    Thriller  \n",
       "99       Crime       Drama  \n",
       "\n",
       "[100 rows x 14 columns]"
      ]
     },
     "execution_count": 4,
     "metadata": {},
     "output_type": "execute_result"
    }
   ],
   "source": [
    "df=pd.merge(df1,df2,on='Movie Name',how='inner')\n",
    "df"
   ]
  },
  {
   "cell_type": "markdown",
   "id": "54d5b596",
   "metadata": {},
   "source": [
    "Checking the datatypes of the columns-"
   ]
  },
  {
   "cell_type": "code",
   "execution_count": 5,
   "id": "3c57377f",
   "metadata": {},
   "outputs": [
    {
     "data": {
      "text/plain": [
       "Unnamed: 0_x          int64\n",
       "Movie Name           object\n",
       "Votes_x              object\n",
       "Duration             object\n",
       "Year                 object\n",
       "Ratings             float64\n",
       "Unnamed: 0_y          int64\n",
       "Votes_y              object\n",
       "Genre                object\n",
       "Gross collection     object\n",
       "Certifications       object\n",
       "Genre_1              object\n",
       "Genre_2              object\n",
       "Genre_3              object\n",
       "dtype: object"
      ]
     },
     "execution_count": 5,
     "metadata": {},
     "output_type": "execute_result"
    }
   ],
   "source": [
    "df.dtypes"
   ]
  },
  {
   "cell_type": "code",
   "execution_count": 6,
   "id": "9e5d2d70",
   "metadata": {},
   "outputs": [
    {
     "data": {
      "text/html": [
       "<div>\n",
       "<style scoped>\n",
       "    .dataframe tbody tr th:only-of-type {\n",
       "        vertical-align: middle;\n",
       "    }\n",
       "\n",
       "    .dataframe tbody tr th {\n",
       "        vertical-align: top;\n",
       "    }\n",
       "\n",
       "    .dataframe thead th {\n",
       "        text-align: right;\n",
       "    }\n",
       "</style>\n",
       "<table border=\"1\" class=\"dataframe\">\n",
       "  <thead>\n",
       "    <tr style=\"text-align: right;\">\n",
       "      <th></th>\n",
       "      <th>Movie Name</th>\n",
       "      <th>Votes_x</th>\n",
       "      <th>Duration</th>\n",
       "      <th>Year</th>\n",
       "      <th>Ratings</th>\n",
       "      <th>Votes_y</th>\n",
       "      <th>Genre</th>\n",
       "      <th>Gross collection</th>\n",
       "      <th>Certifications</th>\n",
       "      <th>Genre_1</th>\n",
       "      <th>Genre_2</th>\n",
       "      <th>Genre_3</th>\n",
       "    </tr>\n",
       "  </thead>\n",
       "  <tbody>\n",
       "    <tr>\n",
       "      <th>0</th>\n",
       "      <td>The Dark Knight</td>\n",
       "      <td>Christopher Nolan</td>\n",
       "      <td>152 min</td>\n",
       "      <td>(2008)</td>\n",
       "      <td>9.0</td>\n",
       "      <td>2,718,585</td>\n",
       "      <td>Action, Crime, Drama</td>\n",
       "      <td>$534.86M</td>\n",
       "      <td>12A</td>\n",
       "      <td>Action</td>\n",
       "      <td>Crime</td>\n",
       "      <td>Drama</td>\n",
       "    </tr>\n",
       "    <tr>\n",
       "      <th>1</th>\n",
       "      <td>The Lord of the Rings: The Return of the King</td>\n",
       "      <td>Peter Jackson</td>\n",
       "      <td>201 min</td>\n",
       "      <td>(2003)</td>\n",
       "      <td>9.0</td>\n",
       "      <td>1,887,307</td>\n",
       "      <td>Action, Adventure, Drama</td>\n",
       "      <td>$377.85M</td>\n",
       "      <td>12A</td>\n",
       "      <td>Action</td>\n",
       "      <td>Adventure</td>\n",
       "      <td>Drama</td>\n",
       "    </tr>\n",
       "    <tr>\n",
       "      <th>2</th>\n",
       "      <td>Inception</td>\n",
       "      <td>Christopher Nolan</td>\n",
       "      <td>148 min</td>\n",
       "      <td>(2010)</td>\n",
       "      <td>8.8</td>\n",
       "      <td>2,413,332</td>\n",
       "      <td>Action, Adventure, Sci-Fi</td>\n",
       "      <td>$292.58M</td>\n",
       "      <td>12A</td>\n",
       "      <td>Action</td>\n",
       "      <td>Adventure</td>\n",
       "      <td>Sci-Fi</td>\n",
       "    </tr>\n",
       "    <tr>\n",
       "      <th>3</th>\n",
       "      <td>The Lord of the Rings: The Fellowship of the Ring</td>\n",
       "      <td>Peter Jackson</td>\n",
       "      <td>178 min</td>\n",
       "      <td>(2001)</td>\n",
       "      <td>8.8</td>\n",
       "      <td>1,915,959</td>\n",
       "      <td>Action, Adventure, Drama</td>\n",
       "      <td>$315.54M</td>\n",
       "      <td>PG</td>\n",
       "      <td>Action</td>\n",
       "      <td>Adventure</td>\n",
       "      <td>Drama</td>\n",
       "    </tr>\n",
       "    <tr>\n",
       "      <th>4</th>\n",
       "      <td>The Lord of the Rings: The Two Towers</td>\n",
       "      <td>Peter Jackson</td>\n",
       "      <td>179 min</td>\n",
       "      <td>(2002)</td>\n",
       "      <td>8.8</td>\n",
       "      <td>1,703,481</td>\n",
       "      <td>Action, Adventure, Drama</td>\n",
       "      <td>$342.55M</td>\n",
       "      <td>12A</td>\n",
       "      <td>Action</td>\n",
       "      <td>Adventure</td>\n",
       "      <td>Drama</td>\n",
       "    </tr>\n",
       "    <tr>\n",
       "      <th>...</th>\n",
       "      <td>...</td>\n",
       "      <td>...</td>\n",
       "      <td>...</td>\n",
       "      <td>...</td>\n",
       "      <td>...</td>\n",
       "      <td>...</td>\n",
       "      <td>...</td>\n",
       "      <td>...</td>\n",
       "      <td>...</td>\n",
       "      <td>...</td>\n",
       "      <td>...</td>\n",
       "      <td>...</td>\n",
       "    </tr>\n",
       "    <tr>\n",
       "      <th>95</th>\n",
       "      <td>Wolfwalkers</td>\n",
       "      <td>Tomm Moore</td>\n",
       "      <td>103 min</td>\n",
       "      <td>(2020)</td>\n",
       "      <td>8.0</td>\n",
       "      <td>35,171</td>\n",
       "      <td>Animation, Action, Adventure</td>\n",
       "      <td>NaN</td>\n",
       "      <td>PG</td>\n",
       "      <td>Animation</td>\n",
       "      <td>Action</td>\n",
       "      <td>Adventure</td>\n",
       "    </tr>\n",
       "    <tr>\n",
       "      <th>96</th>\n",
       "      <td>Elite Squad</td>\n",
       "      <td>José Padilha</td>\n",
       "      <td>115 min</td>\n",
       "      <td>(2007)</td>\n",
       "      <td>8.0</td>\n",
       "      <td>106,738 |</td>\n",
       "      <td>Action, Crime, Drama</td>\n",
       "      <td>.01M</td>\n",
       "      <td>18</td>\n",
       "      <td>Action</td>\n",
       "      <td>Crime</td>\n",
       "      <td>Drama</td>\n",
       "    </tr>\n",
       "    <tr>\n",
       "      <th>97</th>\n",
       "      <td>Haider</td>\n",
       "      <td>Vishal Bhardwaj</td>\n",
       "      <td>160 min</td>\n",
       "      <td>(2014)</td>\n",
       "      <td>8.0</td>\n",
       "      <td>56,089 |</td>\n",
       "      <td>Action, Crime, Drama</td>\n",
       "      <td>90M</td>\n",
       "      <td>15</td>\n",
       "      <td>Action</td>\n",
       "      <td>Crime</td>\n",
       "      <td>Drama</td>\n",
       "    </tr>\n",
       "    <tr>\n",
       "      <th>98</th>\n",
       "      <td>Sanjuro</td>\n",
       "      <td>Akira Kurosawa</td>\n",
       "      <td>96 min</td>\n",
       "      <td>(1962)</td>\n",
       "      <td>8.0</td>\n",
       "      <td>39,439</td>\n",
       "      <td>Action, Drama, Thriller</td>\n",
       "      <td>NaN</td>\n",
       "      <td>A</td>\n",
       "      <td>Action</td>\n",
       "      <td>Drama</td>\n",
       "      <td>Thriller</td>\n",
       "    </tr>\n",
       "    <tr>\n",
       "      <th>99</th>\n",
       "      <td>Elite Squad 2: The Enemy Within</td>\n",
       "      <td>José Padilha</td>\n",
       "      <td>115 min</td>\n",
       "      <td>(2010)</td>\n",
       "      <td>8.0</td>\n",
       "      <td>84,731 |</td>\n",
       "      <td>Action, Crime, Drama</td>\n",
       "      <td>10M</td>\n",
       "      <td>18</td>\n",
       "      <td>Action</td>\n",
       "      <td>Crime</td>\n",
       "      <td>Drama</td>\n",
       "    </tr>\n",
       "  </tbody>\n",
       "</table>\n",
       "<p>100 rows × 12 columns</p>\n",
       "</div>"
      ],
      "text/plain": [
       "                                           Movie Name            Votes_x  \\\n",
       "0                                     The Dark Knight  Christopher Nolan   \n",
       "1       The Lord of the Rings: The Return of the King      Peter Jackson   \n",
       "2                                           Inception  Christopher Nolan   \n",
       "3   The Lord of the Rings: The Fellowship of the Ring      Peter Jackson   \n",
       "4               The Lord of the Rings: The Two Towers      Peter Jackson   \n",
       "..                                                ...                ...   \n",
       "95                                        Wolfwalkers         Tomm Moore   \n",
       "96                                        Elite Squad       José Padilha   \n",
       "97                                             Haider    Vishal Bhardwaj   \n",
       "98                                            Sanjuro     Akira Kurosawa   \n",
       "99                    Elite Squad 2: The Enemy Within       José Padilha   \n",
       "\n",
       "   Duration    Year  Ratings    Votes_y                         Genre  \\\n",
       "0   152 min  (2008)      9.0  2,718,585          Action, Crime, Drama   \n",
       "1   201 min  (2003)      9.0  1,887,307      Action, Adventure, Drama   \n",
       "2   148 min  (2010)      8.8  2,413,332     Action, Adventure, Sci-Fi   \n",
       "3   178 min  (2001)      8.8  1,915,959      Action, Adventure, Drama   \n",
       "4   179 min  (2002)      8.8  1,703,481      Action, Adventure, Drama   \n",
       "..      ...     ...      ...        ...                           ...   \n",
       "95  103 min  (2020)      8.0     35,171  Animation, Action, Adventure   \n",
       "96  115 min  (2007)      8.0  106,738 |          Action, Crime, Drama   \n",
       "97  160 min  (2014)      8.0  56,089 |           Action, Crime, Drama   \n",
       "98   96 min  (1962)      8.0     39,439       Action, Drama, Thriller   \n",
       "99  115 min  (2010)      8.0  84,731 |           Action, Crime, Drama   \n",
       "\n",
       "   Gross collection Certifications    Genre_1     Genre_2     Genre_3  \n",
       "0          $534.86M            12A     Action       Crime       Drama  \n",
       "1          $377.85M            12A     Action   Adventure       Drama  \n",
       "2          $292.58M            12A     Action   Adventure      Sci-Fi  \n",
       "3          $315.54M             PG     Action   Adventure       Drama  \n",
       "4          $342.55M            12A     Action   Adventure       Drama  \n",
       "..              ...            ...        ...         ...         ...  \n",
       "95              NaN             PG  Animation      Action   Adventure  \n",
       "96             .01M             18     Action       Crime       Drama  \n",
       "97              90M             15     Action       Crime       Drama  \n",
       "98              NaN              A     Action       Drama    Thriller  \n",
       "99              10M             18     Action       Crime       Drama  \n",
       "\n",
       "[100 rows x 12 columns]"
      ]
     },
     "execution_count": 6,
     "metadata": {},
     "output_type": "execute_result"
    }
   ],
   "source": [
    "df=df.drop(['Unnamed: 0_x','Unnamed: 0_y'],axis=1)\n",
    "df"
   ]
  },
  {
   "cell_type": "code",
   "execution_count": 7,
   "id": "ae912e15",
   "metadata": {},
   "outputs": [
    {
     "data": {
      "text/plain": [
       "Index(['Movie Name', 'Votes_x', 'Duration', 'Year', 'Ratings', 'Votes_y',\n",
       "       'Genre', 'Gross collection', 'Certifications', 'Genre_1', 'Genre_2',\n",
       "       'Genre_3'],\n",
       "      dtype='object')"
      ]
     },
     "execution_count": 7,
     "metadata": {},
     "output_type": "execute_result"
    }
   ],
   "source": [
    "df.columns"
   ]
  },
  {
   "cell_type": "code",
   "execution_count": 8,
   "id": "782dc8ae",
   "metadata": {},
   "outputs": [],
   "source": [
    "df.columns=df.columns.str.replace('Votes_x','Director Name')"
   ]
  },
  {
   "cell_type": "code",
   "execution_count": 9,
   "id": "329f12b6",
   "metadata": {},
   "outputs": [],
   "source": [
    "df.columns=df.columns.str.replace('Votes_y','Votes')"
   ]
  },
  {
   "cell_type": "code",
   "execution_count": 10,
   "id": "50af07d3",
   "metadata": {},
   "outputs": [
    {
     "data": {
      "text/html": [
       "<div>\n",
       "<style scoped>\n",
       "    .dataframe tbody tr th:only-of-type {\n",
       "        vertical-align: middle;\n",
       "    }\n",
       "\n",
       "    .dataframe tbody tr th {\n",
       "        vertical-align: top;\n",
       "    }\n",
       "\n",
       "    .dataframe thead th {\n",
       "        text-align: right;\n",
       "    }\n",
       "</style>\n",
       "<table border=\"1\" class=\"dataframe\">\n",
       "  <thead>\n",
       "    <tr style=\"text-align: right;\">\n",
       "      <th></th>\n",
       "      <th>Movie Name</th>\n",
       "      <th>Director Name</th>\n",
       "      <th>Duration</th>\n",
       "      <th>Year</th>\n",
       "      <th>Ratings</th>\n",
       "      <th>Votes</th>\n",
       "      <th>Genre</th>\n",
       "      <th>Gross collection</th>\n",
       "      <th>Certifications</th>\n",
       "      <th>Genre_1</th>\n",
       "      <th>Genre_2</th>\n",
       "      <th>Genre_3</th>\n",
       "    </tr>\n",
       "  </thead>\n",
       "  <tbody>\n",
       "    <tr>\n",
       "      <th>0</th>\n",
       "      <td>The Dark Knight</td>\n",
       "      <td>Christopher Nolan</td>\n",
       "      <td>152 min</td>\n",
       "      <td>(2008)</td>\n",
       "      <td>9.0</td>\n",
       "      <td>2,718,585</td>\n",
       "      <td>Action, Crime, Drama</td>\n",
       "      <td>$534.86M</td>\n",
       "      <td>12A</td>\n",
       "      <td>Action</td>\n",
       "      <td>Crime</td>\n",
       "      <td>Drama</td>\n",
       "    </tr>\n",
       "    <tr>\n",
       "      <th>1</th>\n",
       "      <td>The Lord of the Rings: The Return of the King</td>\n",
       "      <td>Peter Jackson</td>\n",
       "      <td>201 min</td>\n",
       "      <td>(2003)</td>\n",
       "      <td>9.0</td>\n",
       "      <td>1,887,307</td>\n",
       "      <td>Action, Adventure, Drama</td>\n",
       "      <td>$377.85M</td>\n",
       "      <td>12A</td>\n",
       "      <td>Action</td>\n",
       "      <td>Adventure</td>\n",
       "      <td>Drama</td>\n",
       "    </tr>\n",
       "    <tr>\n",
       "      <th>2</th>\n",
       "      <td>Inception</td>\n",
       "      <td>Christopher Nolan</td>\n",
       "      <td>148 min</td>\n",
       "      <td>(2010)</td>\n",
       "      <td>8.8</td>\n",
       "      <td>2,413,332</td>\n",
       "      <td>Action, Adventure, Sci-Fi</td>\n",
       "      <td>$292.58M</td>\n",
       "      <td>12A</td>\n",
       "      <td>Action</td>\n",
       "      <td>Adventure</td>\n",
       "      <td>Sci-Fi</td>\n",
       "    </tr>\n",
       "    <tr>\n",
       "      <th>3</th>\n",
       "      <td>The Lord of the Rings: The Fellowship of the Ring</td>\n",
       "      <td>Peter Jackson</td>\n",
       "      <td>178 min</td>\n",
       "      <td>(2001)</td>\n",
       "      <td>8.8</td>\n",
       "      <td>1,915,959</td>\n",
       "      <td>Action, Adventure, Drama</td>\n",
       "      <td>$315.54M</td>\n",
       "      <td>PG</td>\n",
       "      <td>Action</td>\n",
       "      <td>Adventure</td>\n",
       "      <td>Drama</td>\n",
       "    </tr>\n",
       "    <tr>\n",
       "      <th>4</th>\n",
       "      <td>The Lord of the Rings: The Two Towers</td>\n",
       "      <td>Peter Jackson</td>\n",
       "      <td>179 min</td>\n",
       "      <td>(2002)</td>\n",
       "      <td>8.8</td>\n",
       "      <td>1,703,481</td>\n",
       "      <td>Action, Adventure, Drama</td>\n",
       "      <td>$342.55M</td>\n",
       "      <td>12A</td>\n",
       "      <td>Action</td>\n",
       "      <td>Adventure</td>\n",
       "      <td>Drama</td>\n",
       "    </tr>\n",
       "    <tr>\n",
       "      <th>...</th>\n",
       "      <td>...</td>\n",
       "      <td>...</td>\n",
       "      <td>...</td>\n",
       "      <td>...</td>\n",
       "      <td>...</td>\n",
       "      <td>...</td>\n",
       "      <td>...</td>\n",
       "      <td>...</td>\n",
       "      <td>...</td>\n",
       "      <td>...</td>\n",
       "      <td>...</td>\n",
       "      <td>...</td>\n",
       "    </tr>\n",
       "    <tr>\n",
       "      <th>95</th>\n",
       "      <td>Wolfwalkers</td>\n",
       "      <td>Tomm Moore</td>\n",
       "      <td>103 min</td>\n",
       "      <td>(2020)</td>\n",
       "      <td>8.0</td>\n",
       "      <td>35,171</td>\n",
       "      <td>Animation, Action, Adventure</td>\n",
       "      <td>NaN</td>\n",
       "      <td>PG</td>\n",
       "      <td>Animation</td>\n",
       "      <td>Action</td>\n",
       "      <td>Adventure</td>\n",
       "    </tr>\n",
       "    <tr>\n",
       "      <th>96</th>\n",
       "      <td>Elite Squad</td>\n",
       "      <td>José Padilha</td>\n",
       "      <td>115 min</td>\n",
       "      <td>(2007)</td>\n",
       "      <td>8.0</td>\n",
       "      <td>106,738 |</td>\n",
       "      <td>Action, Crime, Drama</td>\n",
       "      <td>.01M</td>\n",
       "      <td>18</td>\n",
       "      <td>Action</td>\n",
       "      <td>Crime</td>\n",
       "      <td>Drama</td>\n",
       "    </tr>\n",
       "    <tr>\n",
       "      <th>97</th>\n",
       "      <td>Haider</td>\n",
       "      <td>Vishal Bhardwaj</td>\n",
       "      <td>160 min</td>\n",
       "      <td>(2014)</td>\n",
       "      <td>8.0</td>\n",
       "      <td>56,089 |</td>\n",
       "      <td>Action, Crime, Drama</td>\n",
       "      <td>90M</td>\n",
       "      <td>15</td>\n",
       "      <td>Action</td>\n",
       "      <td>Crime</td>\n",
       "      <td>Drama</td>\n",
       "    </tr>\n",
       "    <tr>\n",
       "      <th>98</th>\n",
       "      <td>Sanjuro</td>\n",
       "      <td>Akira Kurosawa</td>\n",
       "      <td>96 min</td>\n",
       "      <td>(1962)</td>\n",
       "      <td>8.0</td>\n",
       "      <td>39,439</td>\n",
       "      <td>Action, Drama, Thriller</td>\n",
       "      <td>NaN</td>\n",
       "      <td>A</td>\n",
       "      <td>Action</td>\n",
       "      <td>Drama</td>\n",
       "      <td>Thriller</td>\n",
       "    </tr>\n",
       "    <tr>\n",
       "      <th>99</th>\n",
       "      <td>Elite Squad 2: The Enemy Within</td>\n",
       "      <td>José Padilha</td>\n",
       "      <td>115 min</td>\n",
       "      <td>(2010)</td>\n",
       "      <td>8.0</td>\n",
       "      <td>84,731 |</td>\n",
       "      <td>Action, Crime, Drama</td>\n",
       "      <td>10M</td>\n",
       "      <td>18</td>\n",
       "      <td>Action</td>\n",
       "      <td>Crime</td>\n",
       "      <td>Drama</td>\n",
       "    </tr>\n",
       "  </tbody>\n",
       "</table>\n",
       "<p>100 rows × 12 columns</p>\n",
       "</div>"
      ],
      "text/plain": [
       "                                           Movie Name      Director Name  \\\n",
       "0                                     The Dark Knight  Christopher Nolan   \n",
       "1       The Lord of the Rings: The Return of the King      Peter Jackson   \n",
       "2                                           Inception  Christopher Nolan   \n",
       "3   The Lord of the Rings: The Fellowship of the Ring      Peter Jackson   \n",
       "4               The Lord of the Rings: The Two Towers      Peter Jackson   \n",
       "..                                                ...                ...   \n",
       "95                                        Wolfwalkers         Tomm Moore   \n",
       "96                                        Elite Squad       José Padilha   \n",
       "97                                             Haider    Vishal Bhardwaj   \n",
       "98                                            Sanjuro     Akira Kurosawa   \n",
       "99                    Elite Squad 2: The Enemy Within       José Padilha   \n",
       "\n",
       "   Duration    Year  Ratings      Votes                         Genre  \\\n",
       "0   152 min  (2008)      9.0  2,718,585          Action, Crime, Drama   \n",
       "1   201 min  (2003)      9.0  1,887,307      Action, Adventure, Drama   \n",
       "2   148 min  (2010)      8.8  2,413,332     Action, Adventure, Sci-Fi   \n",
       "3   178 min  (2001)      8.8  1,915,959      Action, Adventure, Drama   \n",
       "4   179 min  (2002)      8.8  1,703,481      Action, Adventure, Drama   \n",
       "..      ...     ...      ...        ...                           ...   \n",
       "95  103 min  (2020)      8.0     35,171  Animation, Action, Adventure   \n",
       "96  115 min  (2007)      8.0  106,738 |          Action, Crime, Drama   \n",
       "97  160 min  (2014)      8.0  56,089 |           Action, Crime, Drama   \n",
       "98   96 min  (1962)      8.0     39,439       Action, Drama, Thriller   \n",
       "99  115 min  (2010)      8.0  84,731 |           Action, Crime, Drama   \n",
       "\n",
       "   Gross collection Certifications    Genre_1     Genre_2     Genre_3  \n",
       "0          $534.86M            12A     Action       Crime       Drama  \n",
       "1          $377.85M            12A     Action   Adventure       Drama  \n",
       "2          $292.58M            12A     Action   Adventure      Sci-Fi  \n",
       "3          $315.54M             PG     Action   Adventure       Drama  \n",
       "4          $342.55M            12A     Action   Adventure       Drama  \n",
       "..              ...            ...        ...         ...         ...  \n",
       "95              NaN             PG  Animation      Action   Adventure  \n",
       "96             .01M             18     Action       Crime       Drama  \n",
       "97              90M             15     Action       Crime       Drama  \n",
       "98              NaN              A     Action       Drama    Thriller  \n",
       "99              10M             18     Action       Crime       Drama  \n",
       "\n",
       "[100 rows x 12 columns]"
      ]
     },
     "execution_count": 10,
     "metadata": {},
     "output_type": "execute_result"
    }
   ],
   "source": [
    "df"
   ]
  },
  {
   "cell_type": "code",
   "execution_count": 11,
   "id": "8fd99650",
   "metadata": {},
   "outputs": [
    {
     "data": {
      "text/html": [
       "<div>\n",
       "<style scoped>\n",
       "    .dataframe tbody tr th:only-of-type {\n",
       "        vertical-align: middle;\n",
       "    }\n",
       "\n",
       "    .dataframe tbody tr th {\n",
       "        vertical-align: top;\n",
       "    }\n",
       "\n",
       "    .dataframe thead th {\n",
       "        text-align: right;\n",
       "    }\n",
       "</style>\n",
       "<table border=\"1\" class=\"dataframe\">\n",
       "  <thead>\n",
       "    <tr style=\"text-align: right;\">\n",
       "      <th></th>\n",
       "      <th>Movie Name</th>\n",
       "      <th>Director Name</th>\n",
       "      <th>Duration</th>\n",
       "      <th>Year</th>\n",
       "      <th>Ratings</th>\n",
       "      <th>Votes</th>\n",
       "      <th>Genre</th>\n",
       "      <th>Gross collection</th>\n",
       "      <th>Certifications</th>\n",
       "      <th>Genre_1</th>\n",
       "      <th>Genre_2</th>\n",
       "      <th>Genre_3</th>\n",
       "    </tr>\n",
       "  </thead>\n",
       "  <tbody>\n",
       "    <tr>\n",
       "      <th>0</th>\n",
       "      <td>The Dark Knight</td>\n",
       "      <td>Christopher Nolan</td>\n",
       "      <td>152 min</td>\n",
       "      <td>(2008)</td>\n",
       "      <td>9.0</td>\n",
       "      <td>2,718,585</td>\n",
       "      <td>Action, Crime, Drama</td>\n",
       "      <td>$534.86M</td>\n",
       "      <td>12A</td>\n",
       "      <td>Action</td>\n",
       "      <td>Crime</td>\n",
       "      <td>Drama</td>\n",
       "    </tr>\n",
       "    <tr>\n",
       "      <th>1</th>\n",
       "      <td>The Lord of the Rings: The Return of the King</td>\n",
       "      <td>Peter Jackson</td>\n",
       "      <td>201 min</td>\n",
       "      <td>(2003)</td>\n",
       "      <td>9.0</td>\n",
       "      <td>1,887,307</td>\n",
       "      <td>Action, Adventure, Drama</td>\n",
       "      <td>$377.85M</td>\n",
       "      <td>12A</td>\n",
       "      <td>Action</td>\n",
       "      <td>Adventure</td>\n",
       "      <td>Drama</td>\n",
       "    </tr>\n",
       "    <tr>\n",
       "      <th>2</th>\n",
       "      <td>Inception</td>\n",
       "      <td>Christopher Nolan</td>\n",
       "      <td>148 min</td>\n",
       "      <td>(2010)</td>\n",
       "      <td>8.8</td>\n",
       "      <td>2,413,332</td>\n",
       "      <td>Action, Adventure, Sci-Fi</td>\n",
       "      <td>$292.58M</td>\n",
       "      <td>12A</td>\n",
       "      <td>Action</td>\n",
       "      <td>Adventure</td>\n",
       "      <td>Sci-Fi</td>\n",
       "    </tr>\n",
       "    <tr>\n",
       "      <th>3</th>\n",
       "      <td>The Lord of the Rings: The Fellowship of the Ring</td>\n",
       "      <td>Peter Jackson</td>\n",
       "      <td>178 min</td>\n",
       "      <td>(2001)</td>\n",
       "      <td>8.8</td>\n",
       "      <td>1,915,959</td>\n",
       "      <td>Action, Adventure, Drama</td>\n",
       "      <td>$315.54M</td>\n",
       "      <td>PG</td>\n",
       "      <td>Action</td>\n",
       "      <td>Adventure</td>\n",
       "      <td>Drama</td>\n",
       "    </tr>\n",
       "    <tr>\n",
       "      <th>4</th>\n",
       "      <td>The Lord of the Rings: The Two Towers</td>\n",
       "      <td>Peter Jackson</td>\n",
       "      <td>179 min</td>\n",
       "      <td>(2002)</td>\n",
       "      <td>8.8</td>\n",
       "      <td>1,703,481</td>\n",
       "      <td>Action, Adventure, Drama</td>\n",
       "      <td>$342.55M</td>\n",
       "      <td>12A</td>\n",
       "      <td>Action</td>\n",
       "      <td>Adventure</td>\n",
       "      <td>Drama</td>\n",
       "    </tr>\n",
       "    <tr>\n",
       "      <th>5</th>\n",
       "      <td>The Matrix</td>\n",
       "      <td>Lana Wachowski</td>\n",
       "      <td>136 min</td>\n",
       "      <td>(1999)</td>\n",
       "      <td>8.7</td>\n",
       "      <td>1,958,085</td>\n",
       "      <td>Action, Sci-Fi</td>\n",
       "      <td>$171.48M</td>\n",
       "      <td>15</td>\n",
       "      <td>Action</td>\n",
       "      <td>Sci-Fi</td>\n",
       "      <td>NaN</td>\n",
       "    </tr>\n",
       "    <tr>\n",
       "      <th>6</th>\n",
       "      <td>Star Wars: Episode V - The Empire Strikes Back</td>\n",
       "      <td>Irvin Kershner</td>\n",
       "      <td>124 min</td>\n",
       "      <td>(1980)</td>\n",
       "      <td>8.7</td>\n",
       "      <td>1,321,261</td>\n",
       "      <td>Action, Adventure, Fantasy</td>\n",
       "      <td>$290.48M</td>\n",
       "      <td>U</td>\n",
       "      <td>Action</td>\n",
       "      <td>Adventure</td>\n",
       "      <td>Fantasy</td>\n",
       "    </tr>\n",
       "    <tr>\n",
       "      <th>7</th>\n",
       "      <td>Soorarai Pottru</td>\n",
       "      <td>Sudha Kongara</td>\n",
       "      <td>153 min</td>\n",
       "      <td>(2020)</td>\n",
       "      <td>8.7</td>\n",
       "      <td>119,499</td>\n",
       "      <td>Action, Drama</td>\n",
       "      <td>NaN</td>\n",
       "      <td>15</td>\n",
       "      <td>Action</td>\n",
       "      <td>Drama</td>\n",
       "      <td>NaN</td>\n",
       "    </tr>\n",
       "    <tr>\n",
       "      <th>8</th>\n",
       "      <td>Star Wars: Episode IV - A New Hope</td>\n",
       "      <td>George Lucas</td>\n",
       "      <td>121 min</td>\n",
       "      <td>(1977)</td>\n",
       "      <td>8.6</td>\n",
       "      <td>1,393,734</td>\n",
       "      <td>Action, Adventure, Fantasy</td>\n",
       "      <td>$322.74M</td>\n",
       "      <td>U</td>\n",
       "      <td>Action</td>\n",
       "      <td>Adventure</td>\n",
       "      <td>Fantasy</td>\n",
       "    </tr>\n",
       "    <tr>\n",
       "      <th>9</th>\n",
       "      <td>Terminator 2: Judgment Day</td>\n",
       "      <td>James Cameron</td>\n",
       "      <td>137 min</td>\n",
       "      <td>(1991)</td>\n",
       "      <td>8.6</td>\n",
       "      <td>1,123,147</td>\n",
       "      <td>Action, Sci-Fi</td>\n",
       "      <td>$204.84M</td>\n",
       "      <td>15</td>\n",
       "      <td>Action</td>\n",
       "      <td>Sci-Fi</td>\n",
       "      <td>NaN</td>\n",
       "    </tr>\n",
       "  </tbody>\n",
       "</table>\n",
       "</div>"
      ],
      "text/plain": [
       "                                          Movie Name      Director Name  \\\n",
       "0                                    The Dark Knight  Christopher Nolan   \n",
       "1      The Lord of the Rings: The Return of the King      Peter Jackson   \n",
       "2                                          Inception  Christopher Nolan   \n",
       "3  The Lord of the Rings: The Fellowship of the Ring      Peter Jackson   \n",
       "4              The Lord of the Rings: The Two Towers      Peter Jackson   \n",
       "5                                         The Matrix     Lana Wachowski   \n",
       "6     Star Wars: Episode V - The Empire Strikes Back     Irvin Kershner   \n",
       "7                                    Soorarai Pottru      Sudha Kongara   \n",
       "8                 Star Wars: Episode IV - A New Hope       George Lucas   \n",
       "9                         Terminator 2: Judgment Day      James Cameron   \n",
       "\n",
       "  Duration    Year  Ratings      Votes                       Genre  \\\n",
       "0  152 min  (2008)      9.0  2,718,585        Action, Crime, Drama   \n",
       "1  201 min  (2003)      9.0  1,887,307    Action, Adventure, Drama   \n",
       "2  148 min  (2010)      8.8  2,413,332   Action, Adventure, Sci-Fi   \n",
       "3  178 min  (2001)      8.8  1,915,959    Action, Adventure, Drama   \n",
       "4  179 min  (2002)      8.8  1,703,481    Action, Adventure, Drama   \n",
       "5  136 min  (1999)      8.7  1,958,085              Action, Sci-Fi   \n",
       "6  124 min  (1980)      8.7  1,321,261  Action, Adventure, Fantasy   \n",
       "7  153 min  (2020)      8.7    119,499               Action, Drama   \n",
       "8  121 min  (1977)      8.6  1,393,734  Action, Adventure, Fantasy   \n",
       "9  137 min  (1991)      8.6  1,123,147              Action, Sci-Fi   \n",
       "\n",
       "  Gross collection Certifications Genre_1     Genre_2   Genre_3  \n",
       "0         $534.86M            12A  Action       Crime     Drama  \n",
       "1         $377.85M            12A  Action   Adventure     Drama  \n",
       "2         $292.58M            12A  Action   Adventure    Sci-Fi  \n",
       "3         $315.54M             PG  Action   Adventure     Drama  \n",
       "4         $342.55M            12A  Action   Adventure     Drama  \n",
       "5         $171.48M             15  Action      Sci-Fi       NaN  \n",
       "6         $290.48M              U  Action   Adventure   Fantasy  \n",
       "7              NaN             15  Action       Drama       NaN  \n",
       "8         $322.74M              U  Action   Adventure   Fantasy  \n",
       "9         $204.84M             15  Action      Sci-Fi       NaN  "
      ]
     },
     "execution_count": 11,
     "metadata": {},
     "output_type": "execute_result"
    }
   ],
   "source": [
    "df.head(10)"
   ]
  },
  {
   "cell_type": "code",
   "execution_count": 12,
   "id": "7f6e13ff",
   "metadata": {},
   "outputs": [
    {
     "data": {
      "text/html": [
       "<div>\n",
       "<style scoped>\n",
       "    .dataframe tbody tr th:only-of-type {\n",
       "        vertical-align: middle;\n",
       "    }\n",
       "\n",
       "    .dataframe tbody tr th {\n",
       "        vertical-align: top;\n",
       "    }\n",
       "\n",
       "    .dataframe thead th {\n",
       "        text-align: right;\n",
       "    }\n",
       "</style>\n",
       "<table border=\"1\" class=\"dataframe\">\n",
       "  <thead>\n",
       "    <tr style=\"text-align: right;\">\n",
       "      <th></th>\n",
       "      <th>Movie Name</th>\n",
       "      <th>Director Name</th>\n",
       "      <th>Duration</th>\n",
       "      <th>Year</th>\n",
       "      <th>Ratings</th>\n",
       "      <th>Votes</th>\n",
       "      <th>Genre</th>\n",
       "      <th>Gross collection</th>\n",
       "      <th>Certifications</th>\n",
       "      <th>Genre_1</th>\n",
       "      <th>Genre_2</th>\n",
       "      <th>Genre_3</th>\n",
       "    </tr>\n",
       "  </thead>\n",
       "  <tbody>\n",
       "    <tr>\n",
       "      <th>90</th>\n",
       "      <td>Kill Bill: Vol. 2</td>\n",
       "      <td>Quentin Tarantino</td>\n",
       "      <td>137 min</td>\n",
       "      <td>(2004)</td>\n",
       "      <td>8.0</td>\n",
       "      <td>774,060 |</td>\n",
       "      <td>Action, Crime, Thriller</td>\n",
       "      <td>6.21M</td>\n",
       "      <td>18</td>\n",
       "      <td>Action</td>\n",
       "      <td>Crime</td>\n",
       "      <td>Thriller</td>\n",
       "    </tr>\n",
       "    <tr>\n",
       "      <th>91</th>\n",
       "      <td>Ip Man</td>\n",
       "      <td>Wilson Yip</td>\n",
       "      <td>106 min</td>\n",
       "      <td>(2008)</td>\n",
       "      <td>8.0</td>\n",
       "      <td>228,426</td>\n",
       "      <td>Action, Biography, Drama</td>\n",
       "      <td>NaN</td>\n",
       "      <td>15</td>\n",
       "      <td>Action</td>\n",
       "      <td>Biography</td>\n",
       "      <td>Drama</td>\n",
       "    </tr>\n",
       "    <tr>\n",
       "      <th>92</th>\n",
       "      <td>The Bourne Ultimatum</td>\n",
       "      <td>Paul Greengrass</td>\n",
       "      <td>115 min</td>\n",
       "      <td>(2007)</td>\n",
       "      <td>8.0</td>\n",
       "      <td>644,162 |</td>\n",
       "      <td>Action, Mystery, Thriller</td>\n",
       "      <td>27.47M</td>\n",
       "      <td>12A</td>\n",
       "      <td>Action</td>\n",
       "      <td>Mystery</td>\n",
       "      <td>Thriller</td>\n",
       "    </tr>\n",
       "    <tr>\n",
       "      <th>93</th>\n",
       "      <td>Baahubali: The Beginning</td>\n",
       "      <td>S.S. Rajamouli</td>\n",
       "      <td>159 min</td>\n",
       "      <td>(2015)</td>\n",
       "      <td>8.0</td>\n",
       "      <td>129,979 |</td>\n",
       "      <td>Action, Drama</td>\n",
       "      <td>.74M</td>\n",
       "      <td>15</td>\n",
       "      <td>Action</td>\n",
       "      <td>Drama</td>\n",
       "      <td>NaN</td>\n",
       "    </tr>\n",
       "    <tr>\n",
       "      <th>94</th>\n",
       "      <td>Infernal Affairs</td>\n",
       "      <td>Andrew Lau</td>\n",
       "      <td>101 min</td>\n",
       "      <td>(2002)</td>\n",
       "      <td>8.0</td>\n",
       "      <td>127,658 |</td>\n",
       "      <td>Action, Crime, Drama</td>\n",
       "      <td>.17M</td>\n",
       "      <td>15</td>\n",
       "      <td>Action</td>\n",
       "      <td>Crime</td>\n",
       "      <td>Drama</td>\n",
       "    </tr>\n",
       "    <tr>\n",
       "      <th>95</th>\n",
       "      <td>Wolfwalkers</td>\n",
       "      <td>Tomm Moore</td>\n",
       "      <td>103 min</td>\n",
       "      <td>(2020)</td>\n",
       "      <td>8.0</td>\n",
       "      <td>35,171</td>\n",
       "      <td>Animation, Action, Adventure</td>\n",
       "      <td>NaN</td>\n",
       "      <td>PG</td>\n",
       "      <td>Animation</td>\n",
       "      <td>Action</td>\n",
       "      <td>Adventure</td>\n",
       "    </tr>\n",
       "    <tr>\n",
       "      <th>96</th>\n",
       "      <td>Elite Squad</td>\n",
       "      <td>José Padilha</td>\n",
       "      <td>115 min</td>\n",
       "      <td>(2007)</td>\n",
       "      <td>8.0</td>\n",
       "      <td>106,738 |</td>\n",
       "      <td>Action, Crime, Drama</td>\n",
       "      <td>.01M</td>\n",
       "      <td>18</td>\n",
       "      <td>Action</td>\n",
       "      <td>Crime</td>\n",
       "      <td>Drama</td>\n",
       "    </tr>\n",
       "    <tr>\n",
       "      <th>97</th>\n",
       "      <td>Haider</td>\n",
       "      <td>Vishal Bhardwaj</td>\n",
       "      <td>160 min</td>\n",
       "      <td>(2014)</td>\n",
       "      <td>8.0</td>\n",
       "      <td>56,089 |</td>\n",
       "      <td>Action, Crime, Drama</td>\n",
       "      <td>90M</td>\n",
       "      <td>15</td>\n",
       "      <td>Action</td>\n",
       "      <td>Crime</td>\n",
       "      <td>Drama</td>\n",
       "    </tr>\n",
       "    <tr>\n",
       "      <th>98</th>\n",
       "      <td>Sanjuro</td>\n",
       "      <td>Akira Kurosawa</td>\n",
       "      <td>96 min</td>\n",
       "      <td>(1962)</td>\n",
       "      <td>8.0</td>\n",
       "      <td>39,439</td>\n",
       "      <td>Action, Drama, Thriller</td>\n",
       "      <td>NaN</td>\n",
       "      <td>A</td>\n",
       "      <td>Action</td>\n",
       "      <td>Drama</td>\n",
       "      <td>Thriller</td>\n",
       "    </tr>\n",
       "    <tr>\n",
       "      <th>99</th>\n",
       "      <td>Elite Squad 2: The Enemy Within</td>\n",
       "      <td>José Padilha</td>\n",
       "      <td>115 min</td>\n",
       "      <td>(2010)</td>\n",
       "      <td>8.0</td>\n",
       "      <td>84,731 |</td>\n",
       "      <td>Action, Crime, Drama</td>\n",
       "      <td>10M</td>\n",
       "      <td>18</td>\n",
       "      <td>Action</td>\n",
       "      <td>Crime</td>\n",
       "      <td>Drama</td>\n",
       "    </tr>\n",
       "  </tbody>\n",
       "</table>\n",
       "</div>"
      ],
      "text/plain": [
       "                         Movie Name      Director Name Duration    Year  \\\n",
       "90                Kill Bill: Vol. 2  Quentin Tarantino  137 min  (2004)   \n",
       "91                           Ip Man         Wilson Yip  106 min  (2008)   \n",
       "92             The Bourne Ultimatum    Paul Greengrass  115 min  (2007)   \n",
       "93         Baahubali: The Beginning     S.S. Rajamouli  159 min  (2015)   \n",
       "94                 Infernal Affairs         Andrew Lau  101 min  (2002)   \n",
       "95                      Wolfwalkers         Tomm Moore  103 min  (2020)   \n",
       "96                      Elite Squad       José Padilha  115 min  (2007)   \n",
       "97                           Haider    Vishal Bhardwaj  160 min  (2014)   \n",
       "98                          Sanjuro     Akira Kurosawa   96 min  (1962)   \n",
       "99  Elite Squad 2: The Enemy Within       José Padilha  115 min  (2010)   \n",
       "\n",
       "    Ratings      Votes                         Genre Gross collection  \\\n",
       "90      8.0  774,060 |       Action, Crime, Thriller            6.21M   \n",
       "91      8.0    228,426      Action, Biography, Drama              NaN   \n",
       "92      8.0  644,162 |     Action, Mystery, Thriller           27.47M   \n",
       "93      8.0  129,979 |                 Action, Drama             .74M   \n",
       "94      8.0  127,658 |          Action, Crime, Drama             .17M   \n",
       "95      8.0     35,171  Animation, Action, Adventure              NaN   \n",
       "96      8.0  106,738 |          Action, Crime, Drama             .01M   \n",
       "97      8.0  56,089 |           Action, Crime, Drama              90M   \n",
       "98      8.0     39,439       Action, Drama, Thriller              NaN   \n",
       "99      8.0  84,731 |           Action, Crime, Drama              10M   \n",
       "\n",
       "   Certifications    Genre_1     Genre_2     Genre_3  \n",
       "90             18     Action       Crime    Thriller  \n",
       "91             15     Action   Biography       Drama  \n",
       "92            12A     Action     Mystery    Thriller  \n",
       "93             15     Action       Drama         NaN  \n",
       "94             15     Action       Crime       Drama  \n",
       "95             PG  Animation      Action   Adventure  \n",
       "96             18     Action       Crime       Drama  \n",
       "97             15     Action       Crime       Drama  \n",
       "98              A     Action       Drama    Thriller  \n",
       "99             18     Action       Crime       Drama  "
      ]
     },
     "execution_count": 12,
     "metadata": {},
     "output_type": "execute_result"
    }
   ],
   "source": [
    "df.tail(10)"
   ]
  },
  {
   "cell_type": "code",
   "execution_count": 13,
   "id": "ff391819",
   "metadata": {},
   "outputs": [
    {
     "data": {
      "text/plain": [
       "(100, 12)"
      ]
     },
     "execution_count": 13,
     "metadata": {},
     "output_type": "execute_result"
    }
   ],
   "source": [
    "df.shape"
   ]
  },
  {
   "cell_type": "markdown",
   "id": "e513088e",
   "metadata": {},
   "source": [
    "Checking null values in the dataframe-"
   ]
  },
  {
   "cell_type": "code",
   "execution_count": 14,
   "id": "e8c15378",
   "metadata": {},
   "outputs": [
    {
     "data": {
      "text/plain": [
       "Movie Name           0\n",
       "Director Name        0\n",
       "Duration             0\n",
       "Year                 0\n",
       "Ratings              0\n",
       "Votes                0\n",
       "Genre                0\n",
       "Gross collection    30\n",
       "Certifications       0\n",
       "Genre_1              0\n",
       "Genre_2              0\n",
       "Genre_3             17\n",
       "dtype: int64"
      ]
     },
     "execution_count": 14,
     "metadata": {},
     "output_type": "execute_result"
    }
   ],
   "source": [
    "df.isnull().sum()"
   ]
  },
  {
   "cell_type": "code",
   "execution_count": 15,
   "id": "6b2f85b3",
   "metadata": {},
   "outputs": [
    {
     "data": {
      "text/html": [
       "<div>\n",
       "<style scoped>\n",
       "    .dataframe tbody tr th:only-of-type {\n",
       "        vertical-align: middle;\n",
       "    }\n",
       "\n",
       "    .dataframe tbody tr th {\n",
       "        vertical-align: top;\n",
       "    }\n",
       "\n",
       "    .dataframe thead th {\n",
       "        text-align: right;\n",
       "    }\n",
       "</style>\n",
       "<table border=\"1\" class=\"dataframe\">\n",
       "  <thead>\n",
       "    <tr style=\"text-align: right;\">\n",
       "      <th></th>\n",
       "      <th>Movie Name</th>\n",
       "      <th>Director Name</th>\n",
       "      <th>Duration</th>\n",
       "      <th>Year</th>\n",
       "      <th>Ratings</th>\n",
       "      <th>Votes</th>\n",
       "      <th>Genre</th>\n",
       "      <th>Gross collection</th>\n",
       "      <th>Certifications</th>\n",
       "      <th>Genre_1</th>\n",
       "      <th>Genre_2</th>\n",
       "      <th>Genre_3</th>\n",
       "    </tr>\n",
       "  </thead>\n",
       "  <tbody>\n",
       "    <tr>\n",
       "      <th>0</th>\n",
       "      <td>The Dark Knight</td>\n",
       "      <td>Christopher Nolan</td>\n",
       "      <td>152 min</td>\n",
       "      <td>(2008)</td>\n",
       "      <td>9.0</td>\n",
       "      <td>2,718,585</td>\n",
       "      <td>Action, Crime, Drama</td>\n",
       "      <td>$534.86M</td>\n",
       "      <td>12A</td>\n",
       "      <td>Action</td>\n",
       "      <td>Crime</td>\n",
       "      <td>Drama</td>\n",
       "    </tr>\n",
       "    <tr>\n",
       "      <th>1</th>\n",
       "      <td>The Lord of the Rings: The Return of the King</td>\n",
       "      <td>Peter Jackson</td>\n",
       "      <td>201 min</td>\n",
       "      <td>(2003)</td>\n",
       "      <td>9.0</td>\n",
       "      <td>1,887,307</td>\n",
       "      <td>Action, Adventure, Drama</td>\n",
       "      <td>$377.85M</td>\n",
       "      <td>12A</td>\n",
       "      <td>Action</td>\n",
       "      <td>Adventure</td>\n",
       "      <td>Drama</td>\n",
       "    </tr>\n",
       "    <tr>\n",
       "      <th>2</th>\n",
       "      <td>Inception</td>\n",
       "      <td>Christopher Nolan</td>\n",
       "      <td>148 min</td>\n",
       "      <td>(2010)</td>\n",
       "      <td>8.8</td>\n",
       "      <td>2,413,332</td>\n",
       "      <td>Action, Adventure, Sci-Fi</td>\n",
       "      <td>$292.58M</td>\n",
       "      <td>12A</td>\n",
       "      <td>Action</td>\n",
       "      <td>Adventure</td>\n",
       "      <td>Sci-Fi</td>\n",
       "    </tr>\n",
       "    <tr>\n",
       "      <th>3</th>\n",
       "      <td>The Lord of the Rings: The Fellowship of the Ring</td>\n",
       "      <td>Peter Jackson</td>\n",
       "      <td>178 min</td>\n",
       "      <td>(2001)</td>\n",
       "      <td>8.8</td>\n",
       "      <td>1,915,959</td>\n",
       "      <td>Action, Adventure, Drama</td>\n",
       "      <td>$315.54M</td>\n",
       "      <td>PG</td>\n",
       "      <td>Action</td>\n",
       "      <td>Adventure</td>\n",
       "      <td>Drama</td>\n",
       "    </tr>\n",
       "    <tr>\n",
       "      <th>4</th>\n",
       "      <td>The Lord of the Rings: The Two Towers</td>\n",
       "      <td>Peter Jackson</td>\n",
       "      <td>179 min</td>\n",
       "      <td>(2002)</td>\n",
       "      <td>8.8</td>\n",
       "      <td>1,703,481</td>\n",
       "      <td>Action, Adventure, Drama</td>\n",
       "      <td>$342.55M</td>\n",
       "      <td>12A</td>\n",
       "      <td>Action</td>\n",
       "      <td>Adventure</td>\n",
       "      <td>Drama</td>\n",
       "    </tr>\n",
       "    <tr>\n",
       "      <th>...</th>\n",
       "      <td>...</td>\n",
       "      <td>...</td>\n",
       "      <td>...</td>\n",
       "      <td>...</td>\n",
       "      <td>...</td>\n",
       "      <td>...</td>\n",
       "      <td>...</td>\n",
       "      <td>...</td>\n",
       "      <td>...</td>\n",
       "      <td>...</td>\n",
       "      <td>...</td>\n",
       "      <td>...</td>\n",
       "    </tr>\n",
       "    <tr>\n",
       "      <th>95</th>\n",
       "      <td>Wolfwalkers</td>\n",
       "      <td>Tomm Moore</td>\n",
       "      <td>103 min</td>\n",
       "      <td>(2020)</td>\n",
       "      <td>8.0</td>\n",
       "      <td>35,171</td>\n",
       "      <td>Animation, Action, Adventure</td>\n",
       "      <td>$534.86M</td>\n",
       "      <td>PG</td>\n",
       "      <td>Animation</td>\n",
       "      <td>Action</td>\n",
       "      <td>Adventure</td>\n",
       "    </tr>\n",
       "    <tr>\n",
       "      <th>96</th>\n",
       "      <td>Elite Squad</td>\n",
       "      <td>José Padilha</td>\n",
       "      <td>115 min</td>\n",
       "      <td>(2007)</td>\n",
       "      <td>8.0</td>\n",
       "      <td>106,738 |</td>\n",
       "      <td>Action, Crime, Drama</td>\n",
       "      <td>.01M</td>\n",
       "      <td>18</td>\n",
       "      <td>Action</td>\n",
       "      <td>Crime</td>\n",
       "      <td>Drama</td>\n",
       "    </tr>\n",
       "    <tr>\n",
       "      <th>97</th>\n",
       "      <td>Haider</td>\n",
       "      <td>Vishal Bhardwaj</td>\n",
       "      <td>160 min</td>\n",
       "      <td>(2014)</td>\n",
       "      <td>8.0</td>\n",
       "      <td>56,089 |</td>\n",
       "      <td>Action, Crime, Drama</td>\n",
       "      <td>90M</td>\n",
       "      <td>15</td>\n",
       "      <td>Action</td>\n",
       "      <td>Crime</td>\n",
       "      <td>Drama</td>\n",
       "    </tr>\n",
       "    <tr>\n",
       "      <th>98</th>\n",
       "      <td>Sanjuro</td>\n",
       "      <td>Akira Kurosawa</td>\n",
       "      <td>96 min</td>\n",
       "      <td>(1962)</td>\n",
       "      <td>8.0</td>\n",
       "      <td>39,439</td>\n",
       "      <td>Action, Drama, Thriller</td>\n",
       "      <td>$534.86M</td>\n",
       "      <td>A</td>\n",
       "      <td>Action</td>\n",
       "      <td>Drama</td>\n",
       "      <td>Thriller</td>\n",
       "    </tr>\n",
       "    <tr>\n",
       "      <th>99</th>\n",
       "      <td>Elite Squad 2: The Enemy Within</td>\n",
       "      <td>José Padilha</td>\n",
       "      <td>115 min</td>\n",
       "      <td>(2010)</td>\n",
       "      <td>8.0</td>\n",
       "      <td>84,731 |</td>\n",
       "      <td>Action, Crime, Drama</td>\n",
       "      <td>10M</td>\n",
       "      <td>18</td>\n",
       "      <td>Action</td>\n",
       "      <td>Crime</td>\n",
       "      <td>Drama</td>\n",
       "    </tr>\n",
       "  </tbody>\n",
       "</table>\n",
       "<p>100 rows × 12 columns</p>\n",
       "</div>"
      ],
      "text/plain": [
       "                                           Movie Name      Director Name  \\\n",
       "0                                     The Dark Knight  Christopher Nolan   \n",
       "1       The Lord of the Rings: The Return of the King      Peter Jackson   \n",
       "2                                           Inception  Christopher Nolan   \n",
       "3   The Lord of the Rings: The Fellowship of the Ring      Peter Jackson   \n",
       "4               The Lord of the Rings: The Two Towers      Peter Jackson   \n",
       "..                                                ...                ...   \n",
       "95                                        Wolfwalkers         Tomm Moore   \n",
       "96                                        Elite Squad       José Padilha   \n",
       "97                                             Haider    Vishal Bhardwaj   \n",
       "98                                            Sanjuro     Akira Kurosawa   \n",
       "99                    Elite Squad 2: The Enemy Within       José Padilha   \n",
       "\n",
       "   Duration    Year  Ratings      Votes                         Genre  \\\n",
       "0   152 min  (2008)      9.0  2,718,585          Action, Crime, Drama   \n",
       "1   201 min  (2003)      9.0  1,887,307      Action, Adventure, Drama   \n",
       "2   148 min  (2010)      8.8  2,413,332     Action, Adventure, Sci-Fi   \n",
       "3   178 min  (2001)      8.8  1,915,959      Action, Adventure, Drama   \n",
       "4   179 min  (2002)      8.8  1,703,481      Action, Adventure, Drama   \n",
       "..      ...     ...      ...        ...                           ...   \n",
       "95  103 min  (2020)      8.0     35,171  Animation, Action, Adventure   \n",
       "96  115 min  (2007)      8.0  106,738 |          Action, Crime, Drama   \n",
       "97  160 min  (2014)      8.0  56,089 |           Action, Crime, Drama   \n",
       "98   96 min  (1962)      8.0     39,439       Action, Drama, Thriller   \n",
       "99  115 min  (2010)      8.0  84,731 |           Action, Crime, Drama   \n",
       "\n",
       "   Gross collection Certifications    Genre_1     Genre_2     Genre_3  \n",
       "0          $534.86M            12A     Action       Crime       Drama  \n",
       "1          $377.85M            12A     Action   Adventure       Drama  \n",
       "2          $292.58M            12A     Action   Adventure      Sci-Fi  \n",
       "3          $315.54M             PG     Action   Adventure       Drama  \n",
       "4          $342.55M            12A     Action   Adventure       Drama  \n",
       "..              ...            ...        ...         ...         ...  \n",
       "95         $534.86M             PG  Animation      Action   Adventure  \n",
       "96             .01M             18     Action       Crime       Drama  \n",
       "97              90M             15     Action       Crime       Drama  \n",
       "98         $534.86M              A     Action       Drama    Thriller  \n",
       "99              10M             18     Action       Crime       Drama  \n",
       "\n",
       "[100 rows x 12 columns]"
      ]
     },
     "execution_count": 15,
     "metadata": {},
     "output_type": "execute_result"
    }
   ],
   "source": [
    "df=df.apply(lambda x: x.fillna(x.value_counts().index[0]))\n",
    "df"
   ]
  },
  {
   "cell_type": "code",
   "execution_count": 16,
   "id": "d810dfbb",
   "metadata": {},
   "outputs": [
    {
     "data": {
      "text/plain": [
       "Movie Name          0\n",
       "Director Name       0\n",
       "Duration            0\n",
       "Year                0\n",
       "Ratings             0\n",
       "Votes               0\n",
       "Genre               0\n",
       "Gross collection    0\n",
       "Certifications      0\n",
       "Genre_1             0\n",
       "Genre_2             0\n",
       "Genre_3             0\n",
       "dtype: int64"
      ]
     },
     "execution_count": 16,
     "metadata": {},
     "output_type": "execute_result"
    }
   ],
   "source": [
    "df.isnull().sum()"
   ]
  },
  {
   "cell_type": "markdown",
   "id": "154726f9",
   "metadata": {},
   "source": [
    "We see there are no nan values in the dataset."
   ]
  },
  {
   "cell_type": "markdown",
   "id": "b88c2dca",
   "metadata": {},
   "source": [
    "EDA-\n",
    "\n",
    "Exploratory data analysis (EDA) is used by data scientists to analyze and investigate data sets and summarize their main characteristics, often employing data visualization methods. It helps determine how best to manipulate data sources to get the answers you need, making it easier for data scientists to discover patterns, spot anomalies, test a hypothesis, or check assumptions.\n",
    "\n",
    "EDA is primarily used to see what data can reveal beyond the formal modeling or hypothesis testing task and provides a provides a better understanding of data set variables and the relationships between them. It can also help determine if the statistical techniques you are considering for data analysis are appropriate. Originally developed by American mathematician John Tukey in the 1970s, EDA techniques continue to be a widely used method in the data discovery process today.\n",
    "\n",
    "The main purpose of EDA is to help look at data before making any assumptions. It can help identify obvious errors, as well as better understand patterns within the data, detect outliers or anomalous events, find interesting relations among the variables.\n",
    "\n",
    "Data scientists can use exploratory analysis to ensure the results they produce are valid and applicable to any desired business outcomes and goals. EDA also helps stakeholders by confirming they are asking the right questions. EDA can help answer questions about standard deviations, categorical variables, and confidence intervals. Once EDA is complete and insights are drawn, its features can then be used for more sophisticated data analysis or modeling, including machine learning.\n",
    "\n",
    "Visualization of data-\n",
    "\n",
    "The two very important and inter related categories of the dataset are Ratings and Gross Collection-"
   ]
  },
  {
   "cell_type": "code",
   "execution_count": 17,
   "id": "ce973a86",
   "metadata": {},
   "outputs": [
    {
     "data": {
      "text/plain": [
       "<seaborn.axisgrid.FacetGrid at 0x11d787c40>"
      ]
     },
     "execution_count": 17,
     "metadata": {},
     "output_type": "execute_result"
    },
    {
     "data": {
      "image/png": "[encoded data removed]",
      "text/plain": [
       "<Figure size 360x360 with 1 Axes>"
      ]
     },
     "metadata": {
      "needs_background": "light"
     },
     "output_type": "display_data"
    }
   ],
   "source": [
    "import seaborn as sns\n",
    "sns.catplot(x='Ratings',y='Gross collection',data=df)"
   ]
  },
  {
   "cell_type": "markdown",
   "id": "ff734d9a",
   "metadata": {},
   "source": [
    "UNIVARIATE ANALYSIS-"
   ]
  },
  {
   "cell_type": "code",
   "execution_count": 18,
   "id": "2503a55d",
   "metadata": {},
   "outputs": [
    {
     "name": "stdout",
     "output_type": "stream",
     "text": [
      "Akira Kurosawa       5\n",
      "Christopher Nolan    4\n",
      "Steven Spielberg     3\n",
      "James Cameron        3\n",
      "Peter Jackson        3\n",
      "                    ..\n",
      "Buster Keaton        1\n",
      "Sukumar              1\n",
      "Alper Caglar         1\n",
      "Tigmanshu Dhulia     1\n",
      "Vishal Bhardwaj      1\n",
      "Name: Director Name, Length: 75, dtype: int64\n"
     ]
    },
    {
     "data": {
      "image/png": "[encoded data removed]",
      "text/plain": [
       "<Figure size 432x288 with 1 Axes>"
      ]
     },
     "metadata": {
      "needs_background": "light"
     },
     "output_type": "display_data"
    }
   ],
   "source": [
    "sns.countplot(x='Director Name',data=df)\n",
    "print(df['Director Name'].value_counts())"
   ]
  },
  {
   "cell_type": "markdown",
   "id": "ee79410a",
   "metadata": {},
   "source": [
    "We see that Director Akira Kurosawa has the most number of movies in our dataset.\n",
    "Akira Kurosawa (Japanese: 黒澤 明, Hepburn: Kurosawa Akira, March 23, 1910 – September 6, 1998) was a Japanese filmmaker and painter who directed 30 films in a career spanning over five decades. He is widely regarded as one of the greatest and most influential filmmakers in the history of cinema. Kurosawa displayed a bold, dynamic style, strongly influenced by Western cinema yet distinct from it; he was involved with all aspects of film production.\n",
    "\n",
    "Kurosawa entered the Japanese film industry in 1936, following a brief stint as a painter. After years of working on numerous films as an assistant director and scriptwriter, he made his debut as a director during World War II with the popular action film Sanshiro Sugata (1943). After the war, the critically acclaimed Drunken Angel (1948), in which Kurosawa cast the then little-known actor Toshiro Mifune in a starring role, cemented the director's reputation as one of the most important young filmmakers in Japan. The two men would go on to collaborate on another fifteen films.\n",
    "\n",
    "Rashomon (1950), which premiered in Tokyo, became the surprise winner of the Golden Lion at the 1951 Venice Film Festival. The commercial and critical success of that film opened up Western film markets for the first time to the products of the Japanese film industry, which in turn led to international recognition for other Japanese filmmakers. Kurosawa directed approximately one film per year throughout the 1950s and early 1960s, including a number of highly regarded (and often adapted) films, such as Ikiru (1952), Seven Samurai (1954), Throne of Blood (1957), Yojimbo (1961) and High and Low (1963). After the 1960s he became much less prolific; even so, his later work—including two of his final films, Kagemusha (1980) and Ran (1985)—continued to receive great acclaim.\n",
    "\n",
    "In 1990, he accepted the Academy Award for Lifetime Achievement. Posthumously, he was named \"Asian of the Century\" in the \"Arts, Literature, and Culture\" category by AsianWeek magazine and CNN, cited there as being among the five people who most prominently contributed to the improvement of Asia in the 20th century. His career has been honored by many retrospectives, critical studies and biographies in both print and video, and by releases in many consumer media."
   ]
  },
  {
   "cell_type": "code",
   "execution_count": 19,
   "id": "29f207a0",
   "metadata": {},
   "outputs": [
    {
     "data": {
      "text/plain": [
       "<seaborn.axisgrid.FacetGrid at 0x11daccbb0>"
      ]
     },
     "execution_count": 19,
     "metadata": {},
     "output_type": "execute_result"
    },
    {
     "data": {
      "image/png": "[encoded data removed]",
      "text/plain": [
       "<Figure size 360x360 with 1 Axes>"
      ]
     },
     "metadata": {
      "needs_background": "light"
     },
     "output_type": "display_data"
    }
   ],
   "source": [
    "sns.displot(df['Duration'],kde=True)"
   ]
  },
  {
   "cell_type": "markdown",
   "id": "5b065a31",
   "metadata": {},
   "source": [
    "We see that maximum movies run between 2-3 hours. It is the ideal time because more than that becomes monotonous and less than that is not enough to portray the whole story."
   ]
  },
  {
   "cell_type": "code",
   "execution_count": 20,
   "id": "b41033ad",
   "metadata": {},
   "outputs": [
    {
     "name": "stdout",
     "output_type": "stream",
     "text": [
      "(2022)        6\n",
      "(2019)        6\n",
      "(2012)        5\n",
      "(2018)        5\n",
      "(2021)        4\n",
      "(2017)        4\n",
      "(2003)        4\n",
      "(2014)        3\n",
      "(2015)        3\n",
      "(2016)        3\n",
      "(2008)        3\n",
      "(2010)        3\n",
      "(2020)        3\n",
      "(1999)        3\n",
      "(1962)        2\n",
      "(1997)        2\n",
      "(2004)        2\n",
      "(2002)        2\n",
      "(2005)        2\n",
      "(2023)        2\n",
      "(1988)        2\n",
      "(2007)        2\n",
      "(2000)        2\n",
      "(1982)        1\n",
      "(I) (2015)    1\n",
      "(2006)        1\n",
      "(1994)        1\n",
      "(1949)        1\n",
      "(1958)        1\n",
      "(1926)        1\n",
      "(1975)        1\n",
      "(I) (2013)    1\n",
      "(2011)        1\n",
      "(1998)        1\n",
      "(1984)        1\n",
      "(1983)        1\n",
      "(1995)        1\n",
      "(1924)        1\n",
      "(1961)        1\n",
      "(1991)        1\n",
      "(1985)        1\n",
      "(1954)        1\n",
      "(1977)        1\n",
      "(1989)        1\n",
      "(1993)        1\n",
      "(1981)        1\n",
      "(1986)        1\n",
      "(1980)        1\n",
      "(1959)        1\n",
      "(2001)        1\n",
      "Name: Year, dtype: int64\n"
     ]
    },
    {
     "data": {
      "image/png": "[encoded data removed]",
      "text/plain": [
       "<Figure size 432x288 with 1 Axes>"
      ]
     },
     "metadata": {
      "needs_background": "light"
     },
     "output_type": "display_data"
    }
   ],
   "source": [
    "sns.countplot(x='Year',data=df)\n",
    "print(df['Year'].value_counts())"
   ]
  },
  {
   "cell_type": "markdown",
   "id": "2ca2a5af",
   "metadata": {},
   "source": [
    "We see that maximum movies are from the year 2022 because this list keeps updating every year. Since we are in 2023, the best of 2022 are shown."
   ]
  },
  {
   "cell_type": "code",
   "execution_count": 21,
   "id": "32a59757",
   "metadata": {},
   "outputs": [
    {
     "data": {
      "text/plain": [
       "<seaborn.axisgrid.FacetGrid at 0x11e466b50>"
      ]
     },
     "execution_count": 21,
     "metadata": {},
     "output_type": "execute_result"
    },
    {
     "data": {
      "image/png": "[encoded data removed]",
      "text/plain": [
       "<Figure size 360x360 with 1 Axes>"
      ]
     },
     "metadata": {
      "needs_background": "light"
     },
     "output_type": "display_data"
    }
   ],
   "source": [
    "sns.displot(df['Ratings'],kde=True)"
   ]
  },
  {
   "cell_type": "markdown",
   "id": "4ade52cb",
   "metadata": {},
   "source": [
    "We see that maximum movies have rating 8.1 which is average for our dataset."
   ]
  },
  {
   "cell_type": "code",
   "execution_count": 22,
   "id": "8da4b1fe",
   "metadata": {},
   "outputs": [
    {
     "data": {
      "text/plain": [
       "<seaborn.axisgrid.FacetGrid at 0x11e4ede80>"
      ]
     },
     "execution_count": 22,
     "metadata": {},
     "output_type": "execute_result"
    },
    {
     "data": {
      "image/png": "[encoded data removed]",
      "text/plain": [
       "<Figure size 360x360 with 1 Axes>"
      ]
     },
     "metadata": {
      "needs_background": "light"
     },
     "output_type": "display_data"
    }
   ],
   "source": [
    "sns.displot(df['Votes'],kde=True)"
   ]
  },
  {
   "cell_type": "code",
   "execution_count": 23,
   "id": "b8de153c",
   "metadata": {},
   "outputs": [
    {
     "name": "stdout",
     "output_type": "stream",
     "text": [
      "Action, Crime, Drama            15\n",
      "Action, Adventure, Drama         9\n",
      "Action, Drama                    8\n",
      "Animation, Action, Adventure     7\n",
      "Action, Adventure, Fantasy       6\n",
      "Action, Biography, Drama         6\n",
      "Action, Adventure, Comedy        5\n",
      "Action, Adventure, Sci-Fi        5\n",
      "Action, Sci-Fi                   4\n",
      "Action, Drama, Mystery           4\n",
      "Action, Drama, Thriller          4\n",
      "Action, Comedy, Crime            3\n",
      "Action, Drama, Sci-Fi            3\n",
      "Action, Drama, War               3\n",
      "Action, Crime, Thriller          3\n",
      "Action, Thriller                 2\n",
      "Action, Adventure                2\n",
      "Animation, Action, Drama         2\n",
      "Action, Adventure, Mystery       1\n",
      "Action, Adventure, Crime         1\n",
      "Action, Drama, History           1\n",
      "Action, Comedy, Romance          1\n",
      "Action, Biography, Crime         1\n",
      "Action, Drama, Sport             1\n",
      "Action, Comedy                   1\n",
      "Action, Adventure, Thriller      1\n",
      "Action, Mystery, Thriller        1\n",
      "Name: Genre, dtype: int64\n"
     ]
    },
    {
     "data": {
      "image/png": "[encoded data removed]",
      "text/plain": [
       "<Figure size 432x288 with 1 Axes>"
      ]
     },
     "metadata": {
      "needs_background": "light"
     },
     "output_type": "display_data"
    }
   ],
   "source": [
    "sns.countplot(x='Genre',data=df)\n",
    "print(df['Genre'].value_counts())"
   ]
  },
  {
   "cell_type": "markdown",
   "id": "6311ca83",
   "metadata": {},
   "source": [
    "We see that most of the movies are of the Genre - Action, Crime, Drama. It is the perfect combination to grab attention and hold the audience for a long time. Second favourite being Action, Adventure, Drama."
   ]
  },
  {
   "cell_type": "code",
   "execution_count": 24,
   "id": "f520a448",
   "metadata": {},
   "outputs": [
    {
     "data": {
      "text/plain": [
       "<seaborn.axisgrid.FacetGrid at 0x11ebfd100>"
      ]
     },
     "execution_count": 24,
     "metadata": {},
     "output_type": "execute_result"
    },
    {
     "data": {
      "image/png": "[encoded data removed]",
      "text/plain": [
       "<Figure size 360x360 with 1 Axes>"
      ]
     },
     "metadata": {
      "needs_background": "light"
     },
     "output_type": "display_data"
    }
   ],
   "source": [
    "sns.displot(df['Gross collection'],kde=True)"
   ]
  },
  {
   "cell_type": "code",
   "execution_count": 25,
   "id": "7b1d0607",
   "metadata": {},
   "outputs": [
    {
     "name": "stdout",
     "output_type": "stream",
     "text": [
      "15     34\n",
      "12A    26\n",
      "18     11\n",
      "PG      9\n",
      "U       8\n",
      "A       7\n",
      "X       1\n",
      "UA      1\n",
      "16      1\n",
      "AA      1\n",
      "12      1\n",
      "Name: Certifications, dtype: int64\n"
     ]
    },
    {
     "data": {
      "image/png": "[encoded data removed]",
      "text/plain": [
       "<Figure size 432x288 with 1 Axes>"
      ]
     },
     "metadata": {
      "needs_background": "light"
     },
     "output_type": "display_data"
    }
   ],
   "source": [
    "sns.countplot(x='Certifications',data=df)\n",
    "print(df['Certifications'].value_counts())"
   ]
  },
  {
   "cell_type": "markdown",
   "id": "e24424ce",
   "metadata": {},
   "source": [
    "We see that maximum movies have certification 15 in our dataset followed by certification 12A."
   ]
  },
  {
   "cell_type": "code",
   "execution_count": 26,
   "id": "c85b17b2",
   "metadata": {},
   "outputs": [
    {
     "name": "stdout",
     "output_type": "stream",
     "text": [
      "Action       91\n",
      "Animation     9\n",
      "Name: Genre_1, dtype: int64\n"
     ]
    },
    {
     "data": {
      "image/png": "[encoded data removed]",
      "text/plain": [
       "<Figure size 432x288 with 1 Axes>"
      ]
     },
     "metadata": {
      "needs_background": "light"
     },
     "output_type": "display_data"
    }
   ],
   "source": [
    "sns.countplot(x='Genre_1',data=df)\n",
    "print(df['Genre_1'].value_counts())"
   ]
  },
  {
   "cell_type": "code",
   "execution_count": 27,
   "id": "3e8791f2",
   "metadata": {},
   "outputs": [
    {
     "name": "stdout",
     "output_type": "stream",
     "text": [
      " Adventure    30\n",
      " Drama        24\n",
      " Crime        18\n",
      " Action        9\n",
      " Biography     7\n",
      " Comedy        5\n",
      " Sci-Fi        4\n",
      " Thriller      2\n",
      " Mystery       1\n",
      "Name: Genre_2, dtype: int64\n"
     ]
    },
    {
     "data": {
      "image/png": "[encoded data removed]",
      "text/plain": [
       "<Figure size 432x288 with 1 Axes>"
      ]
     },
     "metadata": {
      "needs_background": "light"
     },
     "output_type": "display_data"
    }
   ],
   "source": [
    "sns.countplot(x='Genre_2',data=df)\n",
    "print(df['Genre_2'].value_counts())"
   ]
  },
  {
   "cell_type": "code",
   "execution_count": 28,
   "id": "10394a6f",
   "metadata": {},
   "outputs": [
    {
     "name": "stdout",
     "output_type": "stream",
     "text": [
      " Drama        49\n",
      " Thriller      9\n",
      " Sci-Fi        8\n",
      " Adventure     7\n",
      " Fantasy       6\n",
      " Mystery       5\n",
      " Crime         5\n",
      " Comedy        5\n",
      " War           3\n",
      " History       1\n",
      " Romance       1\n",
      " Sport         1\n",
      "Name: Genre_3, dtype: int64\n"
     ]
    },
    {
     "data": {
      "image/png": "[encoded data removed]",
      "text/plain": [
       "<Figure size 432x288 with 1 Axes>"
      ]
     },
     "metadata": {
      "needs_background": "light"
     },
     "output_type": "display_data"
    }
   ],
   "source": [
    "sns.countplot(x='Genre_3',data=df)\n",
    "print(df['Genre_3'].value_counts())"
   ]
  },
  {
   "cell_type": "markdown",
   "id": "8c7008fa",
   "metadata": {},
   "source": [
    "BIVARIATE ANALYSIS-"
   ]
  },
  {
   "cell_type": "code",
   "execution_count": 29,
   "id": "9601ae10",
   "metadata": {},
   "outputs": [
    {
     "data": {
      "text/plain": [
       "<AxesSubplot:xlabel='Year', ylabel='Ratings'>"
      ]
     },
     "execution_count": 29,
     "metadata": {},
     "output_type": "execute_result"
    },
    {
     "data": {
      "image/png": "[encoded data removed]",
      "text/plain": [
       "<Figure size 432x288 with 1 Axes>"
      ]
     },
     "metadata": {
      "needs_background": "light"
     },
     "output_type": "display_data"
    }
   ],
   "source": [
    "sns.scatterplot(x='Year',y='Ratings',data=df)"
   ]
  },
  {
   "cell_type": "markdown",
   "id": "910cfdc8",
   "metadata": {},
   "source": [
    "We see that in the year 2022 there are maximum movies with 9.0+ rating as, this list keeps updating every year and the lastest one has the best movies till 2022."
   ]
  },
  {
   "cell_type": "code",
   "execution_count": 30,
   "id": "ab166044",
   "metadata": {},
   "outputs": [
    {
     "data": {
      "text/plain": [
       "<AxesSubplot:xlabel='Votes', ylabel='Ratings'>"
      ]
     },
     "execution_count": 30,
     "metadata": {},
     "output_type": "execute_result"
    },
    {
     "data": {
      "image/png": "[encoded data removed]",
      "text/plain": [
       "<Figure size 432x288 with 1 Axes>"
      ]
     },
     "metadata": {
      "needs_background": "light"
     },
     "output_type": "display_data"
    }
   ],
   "source": [
    "sns.scatterplot(x='Votes',y='Ratings',data=df)"
   ]
  },
  {
   "cell_type": "markdown",
   "id": "ce87f559",
   "metadata": {},
   "source": [
    "We see that maximum votes are there are for movies with 9.0+ rating as, votes are directly proportional to ratings."
   ]
  },
  {
   "cell_type": "code",
   "execution_count": 31,
   "id": "01e4f7a3",
   "metadata": {},
   "outputs": [
    {
     "data": {
      "text/plain": [
       "<AxesSubplot:xlabel='Gross collection', ylabel='Ratings'>"
      ]
     },
     "execution_count": 31,
     "metadata": {},
     "output_type": "execute_result"
    },
    {
     "data": {
      "image/png": "[encoded data removed]",
      "text/plain": [
       "<Figure size 432x288 with 1 Axes>"
      ]
     },
     "metadata": {
      "needs_background": "light"
     },
     "output_type": "display_data"
    }
   ],
   "source": [
    "sns.scatterplot(x='Gross collection',y='Ratings',data=df)"
   ]
  },
  {
   "cell_type": "markdown",
   "id": "4064f5ec",
   "metadata": {},
   "source": [
    "We see that maximum gross collection are there are for movies with 9.0+ rating as, gross collection is directly proportional to ratings."
   ]
  },
  {
   "cell_type": "code",
   "execution_count": 32,
   "id": "29698a57",
   "metadata": {},
   "outputs": [
    {
     "data": {
      "text/plain": [
       "<AxesSubplot:xlabel='Certifications', ylabel='Ratings'>"
      ]
     },
     "execution_count": 32,
     "metadata": {},
     "output_type": "execute_result"
    },
    {
     "data": {
      "image/png": "[encoded data removed]",
      "text/plain": [
       "<Figure size 432x288 with 1 Axes>"
      ]
     },
     "metadata": {
      "needs_background": "light"
     },
     "output_type": "display_data"
    }
   ],
   "source": [
    "sns.scatterplot(x='Certifications',y='Ratings',data=df)"
   ]
  },
  {
   "cell_type": "markdown",
   "id": "57e61b49",
   "metadata": {},
   "source": [
    "We see that maximum 12A certified movies are with 9.0+ rating as, it is an important and valuable certification for movies."
   ]
  },
  {
   "cell_type": "code",
   "execution_count": 33,
   "id": "1aa8769e",
   "metadata": {},
   "outputs": [
    {
     "data": {
      "text/plain": [
       "<AxesSubplot:xlabel='Genre', ylabel='Ratings'>"
      ]
     },
     "execution_count": 33,
     "metadata": {},
     "output_type": "execute_result"
    },
    {
     "data": {
      "image/png": "[encoded data removed]",
      "text/plain": [
       "<Figure size 432x288 with 1 Axes>"
      ]
     },
     "metadata": {
      "needs_background": "light"
     },
     "output_type": "display_data"
    }
   ],
   "source": [
    "sns.scatterplot(x='Genre',y='Ratings',data=df)"
   ]
  },
  {
   "cell_type": "markdown",
   "id": "0d196200",
   "metadata": {},
   "source": [
    "We see that genre Action has the maximum 9.0+ rated movies."
   ]
  },
  {
   "cell_type": "code",
   "execution_count": 34,
   "id": "471e7307",
   "metadata": {},
   "outputs": [
    {
     "data": {
      "text/plain": [
       "<AxesSubplot:xlabel='Votes', ylabel='Gross collection'>"
      ]
     },
     "execution_count": 34,
     "metadata": {},
     "output_type": "execute_result"
    },
    {
     "data": {
      "image/png": "[encoded data removed]",
      "text/plain": [
       "<Figure size 432x288 with 1 Axes>"
      ]
     },
     "metadata": {
      "needs_background": "light"
     },
     "output_type": "display_data"
    }
   ],
   "source": [
    "sns.scatterplot(x='Votes',y='Gross collection',data=df)"
   ]
  },
  {
   "cell_type": "markdown",
   "id": "3eb3a73c",
   "metadata": {},
   "source": [
    "This is a graph representing the variables we need to predict in this dataset. We see that maximum number of votes have the highest gross collection as, votes is directly proportional to gross collection."
   ]
  },
  {
   "cell_type": "markdown",
   "id": "78eb4868",
   "metadata": {},
   "source": [
    "MULTIVARIATE ANALYSIS-"
   ]
  },
  {
   "cell_type": "code",
   "execution_count": 35,
   "id": "0b87710d",
   "metadata": {},
   "outputs": [
    {
     "data": {
      "text/plain": [
       "<AxesSubplot:xlabel='Votes', ylabel='Gross collection'>"
      ]
     },
     "execution_count": 35,
     "metadata": {},
     "output_type": "execute_result"
    },
    {
     "data": {
      "image/png": "[encoded data removed]",
      "text/plain": [
       "<Figure size 432x288 with 1 Axes>"
      ]
     },
     "metadata": {
      "needs_background": "light"
     },
     "output_type": "display_data"
    }
   ],
   "source": [
    "sns.lineplot(x='Votes',y='Gross collection',hue='Year',data=df)"
   ]
  },
  {
   "cell_type": "code",
   "execution_count": 36,
   "id": "13de4c76",
   "metadata": {},
   "outputs": [
    {
     "data": {
      "text/plain": [
       "<seaborn.axisgrid.PairGrid at 0x11f897dc0>"
      ]
     },
     "execution_count": 36,
     "metadata": {},
     "output_type": "execute_result"
    },
    {
     "data": {
      "image/png": "[encoded data removed]",
      "text/plain": [
       "<Figure size 180x180 with 2 Axes>"
      ]
     },
     "metadata": {
      "needs_background": "light"
     },
     "output_type": "display_data"
    }
   ],
   "source": [
    "sns.pairplot(data=df)"
   ]
  },
  {
   "cell_type": "markdown",
   "id": "3a697c2f",
   "metadata": {},
   "source": [
    "Encoding the dataset-"
   ]
  },
  {
   "cell_type": "code",
   "execution_count": 37,
   "id": "c2b1f447",
   "metadata": {},
   "outputs": [],
   "source": [
    "from sklearn.preprocessing import OrdinalEncoder\n",
    "enc=OrdinalEncoder()"
   ]
  },
  {
   "cell_type": "code",
   "execution_count": 38,
   "id": "2a9d7102",
   "metadata": {},
   "outputs": [],
   "source": [
    "for i in df.columns:\n",
    "    if df[i].dtypes=='object':\n",
    "        df[i]=enc.fit_transform(df[i].values.reshape(-1,1))"
   ]
  },
  {
   "cell_type": "code",
   "execution_count": 39,
   "id": "1afe27c8",
   "metadata": {},
   "outputs": [
    {
     "data": {
      "text/html": [
       "<div>\n",
       "<style scoped>\n",
       "    .dataframe tbody tr th:only-of-type {\n",
       "        vertical-align: middle;\n",
       "    }\n",
       "\n",
       "    .dataframe tbody tr th {\n",
       "        vertical-align: top;\n",
       "    }\n",
       "\n",
       "    .dataframe thead th {\n",
       "        text-align: right;\n",
       "    }\n",
       "</style>\n",
       "<table border=\"1\" class=\"dataframe\">\n",
       "  <thead>\n",
       "    <tr style=\"text-align: right;\">\n",
       "      <th></th>\n",
       "      <th>Movie Name</th>\n",
       "      <th>Director Name</th>\n",
       "      <th>Duration</th>\n",
       "      <th>Year</th>\n",
       "      <th>Ratings</th>\n",
       "      <th>Votes</th>\n",
       "      <th>Genre</th>\n",
       "      <th>Gross collection</th>\n",
       "      <th>Certifications</th>\n",
       "      <th>Genre_1</th>\n",
       "      <th>Genre_2</th>\n",
       "      <th>Genre_3</th>\n",
       "    </tr>\n",
       "  </thead>\n",
       "  <tbody>\n",
       "    <tr>\n",
       "      <th>0</th>\n",
       "      <td>76.0</td>\n",
       "      <td>13.0</td>\n",
       "      <td>36.0</td>\n",
       "      <td>34.0</td>\n",
       "      <td>9.0</td>\n",
       "      <td>37.0</td>\n",
       "      <td>13.0</td>\n",
       "      <td>18.0</td>\n",
       "      <td>1.0</td>\n",
       "      <td>0.0</td>\n",
       "      <td>4.0</td>\n",
       "      <td>3.0</td>\n",
       "    </tr>\n",
       "    <tr>\n",
       "      <th>1</th>\n",
       "      <td>83.0</td>\n",
       "      <td>50.0</td>\n",
       "      <td>57.0</td>\n",
       "      <td>29.0</td>\n",
       "      <td>9.0</td>\n",
       "      <td>19.0</td>\n",
       "      <td>3.0</td>\n",
       "      <td>15.0</td>\n",
       "      <td>1.0</td>\n",
       "      <td>0.0</td>\n",
       "      <td>1.0</td>\n",
       "      <td>3.0</td>\n",
       "    </tr>\n",
       "    <tr>\n",
       "      <th>2</th>\n",
       "      <td>31.0</td>\n",
       "      <td>13.0</td>\n",
       "      <td>33.0</td>\n",
       "      <td>35.0</td>\n",
       "      <td>8.8</td>\n",
       "      <td>36.0</td>\n",
       "      <td>6.0</td>\n",
       "      <td>7.0</td>\n",
       "      <td>1.0</td>\n",
       "      <td>0.0</td>\n",
       "      <td>1.0</td>\n",
       "      <td>8.0</td>\n",
       "    </tr>\n",
       "    <tr>\n",
       "      <th>3</th>\n",
       "      <td>82.0</td>\n",
       "      <td>50.0</td>\n",
       "      <td>54.0</td>\n",
       "      <td>27.0</td>\n",
       "      <td>8.8</td>\n",
       "      <td>20.0</td>\n",
       "      <td>3.0</td>\n",
       "      <td>10.0</td>\n",
       "      <td>7.0</td>\n",
       "      <td>0.0</td>\n",
       "      <td>1.0</td>\n",
       "      <td>3.0</td>\n",
       "    </tr>\n",
       "    <tr>\n",
       "      <th>4</th>\n",
       "      <td>84.0</td>\n",
       "      <td>50.0</td>\n",
       "      <td>55.0</td>\n",
       "      <td>28.0</td>\n",
       "      <td>8.8</td>\n",
       "      <td>17.0</td>\n",
       "      <td>3.0</td>\n",
       "      <td>13.0</td>\n",
       "      <td>1.0</td>\n",
       "      <td>0.0</td>\n",
       "      <td>1.0</td>\n",
       "      <td>3.0</td>\n",
       "    </tr>\n",
       "    <tr>\n",
       "      <th>...</th>\n",
       "      <td>...</td>\n",
       "      <td>...</td>\n",
       "      <td>...</td>\n",
       "      <td>...</td>\n",
       "      <td>...</td>\n",
       "      <td>...</td>\n",
       "      <td>...</td>\n",
       "      <td>...</td>\n",
       "      <td>...</td>\n",
       "      <td>...</td>\n",
       "      <td>...</td>\n",
       "      <td>...</td>\n",
       "    </tr>\n",
       "    <tr>\n",
       "      <th>95</th>\n",
       "      <td>97.0</td>\n",
       "      <td>69.0</td>\n",
       "      <td>1.0</td>\n",
       "      <td>44.0</td>\n",
       "      <td>8.0</td>\n",
       "      <td>47.0</td>\n",
       "      <td>25.0</td>\n",
       "      <td>18.0</td>\n",
       "      <td>7.0</td>\n",
       "      <td>1.0</td>\n",
       "      <td>0.0</td>\n",
       "      <td>0.0</td>\n",
       "    </tr>\n",
       "    <tr>\n",
       "      <th>96</th>\n",
       "      <td>20.0</td>\n",
       "      <td>37.0</td>\n",
       "      <td>9.0</td>\n",
       "      <td>33.0</td>\n",
       "      <td>8.0</td>\n",
       "      <td>23.0</td>\n",
       "      <td>13.0</td>\n",
       "      <td>24.0</td>\n",
       "      <td>4.0</td>\n",
       "      <td>0.0</td>\n",
       "      <td>4.0</td>\n",
       "      <td>3.0</td>\n",
       "    </tr>\n",
       "    <tr>\n",
       "      <th>97</th>\n",
       "      <td>26.0</td>\n",
       "      <td>71.0</td>\n",
       "      <td>41.0</td>\n",
       "      <td>38.0</td>\n",
       "      <td>8.0</td>\n",
       "      <td>62.0</td>\n",
       "      <td>13.0</td>\n",
       "      <td>67.0</td>\n",
       "      <td>2.0</td>\n",
       "      <td>0.0</td>\n",
       "      <td>4.0</td>\n",
       "      <td>3.0</td>\n",
       "    </tr>\n",
       "    <tr>\n",
       "      <th>98</th>\n",
       "      <td>61.0</td>\n",
       "      <td>2.0</td>\n",
       "      <td>66.0</td>\n",
       "      <td>7.0</td>\n",
       "      <td>8.0</td>\n",
       "      <td>52.0</td>\n",
       "      <td>20.0</td>\n",
       "      <td>18.0</td>\n",
       "      <td>5.0</td>\n",
       "      <td>0.0</td>\n",
       "      <td>5.0</td>\n",
       "      <td>10.0</td>\n",
       "    </tr>\n",
       "    <tr>\n",
       "      <th>99</th>\n",
       "      <td>21.0</td>\n",
       "      <td>37.0</td>\n",
       "      <td>9.0</td>\n",
       "      <td>35.0</td>\n",
       "      <td>8.0</td>\n",
       "      <td>91.0</td>\n",
       "      <td>13.0</td>\n",
       "      <td>40.0</td>\n",
       "      <td>4.0</td>\n",
       "      <td>0.0</td>\n",
       "      <td>4.0</td>\n",
       "      <td>3.0</td>\n",
       "    </tr>\n",
       "  </tbody>\n",
       "</table>\n",
       "<p>100 rows × 12 columns</p>\n",
       "</div>"
      ],
      "text/plain": [
       "    Movie Name  Director Name  Duration  Year  Ratings  Votes  Genre  \\\n",
       "0         76.0           13.0      36.0  34.0      9.0   37.0   13.0   \n",
       "1         83.0           50.0      57.0  29.0      9.0   19.0    3.0   \n",
       "2         31.0           13.0      33.0  35.0      8.8   36.0    6.0   \n",
       "3         82.0           50.0      54.0  27.0      8.8   20.0    3.0   \n",
       "4         84.0           50.0      55.0  28.0      8.8   17.0    3.0   \n",
       "..         ...            ...       ...   ...      ...    ...    ...   \n",
       "95        97.0           69.0       1.0  44.0      8.0   47.0   25.0   \n",
       "96        20.0           37.0       9.0  33.0      8.0   23.0   13.0   \n",
       "97        26.0           71.0      41.0  38.0      8.0   62.0   13.0   \n",
       "98        61.0            2.0      66.0   7.0      8.0   52.0   20.0   \n",
       "99        21.0           37.0       9.0  35.0      8.0   91.0   13.0   \n",
       "\n",
       "    Gross collection  Certifications  Genre_1  Genre_2  Genre_3  \n",
       "0               18.0             1.0      0.0      4.0      3.0  \n",
       "1               15.0             1.0      0.0      1.0      3.0  \n",
       "2                7.0             1.0      0.0      1.0      8.0  \n",
       "3               10.0             7.0      0.0      1.0      3.0  \n",
       "4               13.0             1.0      0.0      1.0      3.0  \n",
       "..               ...             ...      ...      ...      ...  \n",
       "95              18.0             7.0      1.0      0.0      0.0  \n",
       "96              24.0             4.0      0.0      4.0      3.0  \n",
       "97              67.0             2.0      0.0      4.0      3.0  \n",
       "98              18.0             5.0      0.0      5.0     10.0  \n",
       "99              40.0             4.0      0.0      4.0      3.0  \n",
       "\n",
       "[100 rows x 12 columns]"
      ]
     },
     "execution_count": 39,
     "metadata": {},
     "output_type": "execute_result"
    }
   ],
   "source": [
    "df"
   ]
  },
  {
   "cell_type": "markdown",
   "id": "b66409cd",
   "metadata": {},
   "source": [
    "Correlation-"
   ]
  },
  {
   "cell_type": "code",
   "execution_count": 40,
   "id": "77b30f33",
   "metadata": {},
   "outputs": [
    {
     "data": {
      "text/html": [
       "<div>\n",
       "<style scoped>\n",
       "    .dataframe tbody tr th:only-of-type {\n",
       "        vertical-align: middle;\n",
       "    }\n",
       "\n",
       "    .dataframe tbody tr th {\n",
       "        vertical-align: top;\n",
       "    }\n",
       "\n",
       "    .dataframe thead th {\n",
       "        text-align: right;\n",
       "    }\n",
       "</style>\n",
       "<table border=\"1\" class=\"dataframe\">\n",
       "  <thead>\n",
       "    <tr style=\"text-align: right;\">\n",
       "      <th></th>\n",
       "      <th>Movie Name</th>\n",
       "      <th>Director Name</th>\n",
       "      <th>Duration</th>\n",
       "      <th>Year</th>\n",
       "      <th>Ratings</th>\n",
       "      <th>Votes</th>\n",
       "      <th>Genre</th>\n",
       "      <th>Gross collection</th>\n",
       "      <th>Certifications</th>\n",
       "      <th>Genre_1</th>\n",
       "      <th>Genre_2</th>\n",
       "      <th>Genre_3</th>\n",
       "    </tr>\n",
       "  </thead>\n",
       "  <tbody>\n",
       "    <tr>\n",
       "      <th>Movie Name</th>\n",
       "      <td>1.000000</td>\n",
       "      <td>-0.178696</td>\n",
       "      <td>0.067090</td>\n",
       "      <td>-0.156599</td>\n",
       "      <td>0.208923</td>\n",
       "      <td>-0.061674</td>\n",
       "      <td>0.107480</td>\n",
       "      <td>-0.088923</td>\n",
       "      <td>0.155332</td>\n",
       "      <td>0.042973</td>\n",
       "      <td>0.063144</td>\n",
       "      <td>0.057997</td>\n",
       "    </tr>\n",
       "    <tr>\n",
       "      <th>Director Name</th>\n",
       "      <td>-0.178696</td>\n",
       "      <td>1.000000</td>\n",
       "      <td>-0.185705</td>\n",
       "      <td>0.171778</td>\n",
       "      <td>0.000464</td>\n",
       "      <td>-0.001945</td>\n",
       "      <td>-0.197778</td>\n",
       "      <td>0.004089</td>\n",
       "      <td>-0.014603</td>\n",
       "      <td>-0.139673</td>\n",
       "      <td>-0.038150</td>\n",
       "      <td>-0.157434</td>\n",
       "    </tr>\n",
       "    <tr>\n",
       "      <th>Duration</th>\n",
       "      <td>0.067090</td>\n",
       "      <td>-0.185705</td>\n",
       "      <td>1.000000</td>\n",
       "      <td>0.069902</td>\n",
       "      <td>0.129598</td>\n",
       "      <td>0.054120</td>\n",
       "      <td>-0.102395</td>\n",
       "      <td>-0.041519</td>\n",
       "      <td>-0.052927</td>\n",
       "      <td>-0.022852</td>\n",
       "      <td>-0.067025</td>\n",
       "      <td>-0.012579</td>\n",
       "    </tr>\n",
       "    <tr>\n",
       "      <th>Year</th>\n",
       "      <td>-0.156599</td>\n",
       "      <td>0.171778</td>\n",
       "      <td>0.069902</td>\n",
       "      <td>1.000000</td>\n",
       "      <td>-0.132105</td>\n",
       "      <td>0.017426</td>\n",
       "      <td>0.012339</td>\n",
       "      <td>0.003811</td>\n",
       "      <td>-0.582541</td>\n",
       "      <td>0.014453</td>\n",
       "      <td>0.001124</td>\n",
       "      <td>-0.086749</td>\n",
       "    </tr>\n",
       "    <tr>\n",
       "      <th>Ratings</th>\n",
       "      <td>0.208923</td>\n",
       "      <td>0.000464</td>\n",
       "      <td>0.129598</td>\n",
       "      <td>-0.132105</td>\n",
       "      <td>1.000000</td>\n",
       "      <td>-0.294031</td>\n",
       "      <td>-0.171566</td>\n",
       "      <td>-0.342718</td>\n",
       "      <td>0.067267</td>\n",
       "      <td>-0.141981</td>\n",
       "      <td>-0.019019</td>\n",
       "      <td>-0.032311</td>\n",
       "    </tr>\n",
       "    <tr>\n",
       "      <th>Votes</th>\n",
       "      <td>-0.061674</td>\n",
       "      <td>-0.001945</td>\n",
       "      <td>0.054120</td>\n",
       "      <td>0.017426</td>\n",
       "      <td>-0.294031</td>\n",
       "      <td>1.000000</td>\n",
       "      <td>0.077282</td>\n",
       "      <td>0.609513</td>\n",
       "      <td>0.121558</td>\n",
       "      <td>0.114394</td>\n",
       "      <td>0.004516</td>\n",
       "      <td>-0.074165</td>\n",
       "    </tr>\n",
       "    <tr>\n",
       "      <th>Genre</th>\n",
       "      <td>0.107480</td>\n",
       "      <td>-0.197778</td>\n",
       "      <td>-0.102395</td>\n",
       "      <td>0.012339</td>\n",
       "      <td>-0.171566</td>\n",
       "      <td>0.077282</td>\n",
       "      <td>1.000000</td>\n",
       "      <td>0.132809</td>\n",
       "      <td>0.020441</td>\n",
       "      <td>0.523821</td>\n",
       "      <td>0.498740</td>\n",
       "      <td>0.122525</td>\n",
       "    </tr>\n",
       "    <tr>\n",
       "      <th>Gross collection</th>\n",
       "      <td>-0.088923</td>\n",
       "      <td>0.004089</td>\n",
       "      <td>-0.041519</td>\n",
       "      <td>0.003811</td>\n",
       "      <td>-0.342718</td>\n",
       "      <td>0.609513</td>\n",
       "      <td>0.132809</td>\n",
       "      <td>1.000000</td>\n",
       "      <td>0.147840</td>\n",
       "      <td>0.147271</td>\n",
       "      <td>-0.004493</td>\n",
       "      <td>0.034115</td>\n",
       "    </tr>\n",
       "    <tr>\n",
       "      <th>Certifications</th>\n",
       "      <td>0.155332</td>\n",
       "      <td>-0.014603</td>\n",
       "      <td>-0.052927</td>\n",
       "      <td>-0.582541</td>\n",
       "      <td>0.067267</td>\n",
       "      <td>0.121558</td>\n",
       "      <td>0.020441</td>\n",
       "      <td>0.147840</td>\n",
       "      <td>1.000000</td>\n",
       "      <td>0.260144</td>\n",
       "      <td>-0.239254</td>\n",
       "      <td>-0.111344</td>\n",
       "    </tr>\n",
       "    <tr>\n",
       "      <th>Genre_1</th>\n",
       "      <td>0.042973</td>\n",
       "      <td>-0.139673</td>\n",
       "      <td>-0.022852</td>\n",
       "      <td>0.014453</td>\n",
       "      <td>-0.141981</td>\n",
       "      <td>0.114394</td>\n",
       "      <td>0.523821</td>\n",
       "      <td>0.147271</td>\n",
       "      <td>0.260144</td>\n",
       "      <td>1.000000</td>\n",
       "      <td>-0.448737</td>\n",
       "      <td>-0.380066</td>\n",
       "    </tr>\n",
       "    <tr>\n",
       "      <th>Genre_2</th>\n",
       "      <td>0.063144</td>\n",
       "      <td>-0.038150</td>\n",
       "      <td>-0.067025</td>\n",
       "      <td>0.001124</td>\n",
       "      <td>-0.019019</td>\n",
       "      <td>0.004516</td>\n",
       "      <td>0.498740</td>\n",
       "      <td>-0.004493</td>\n",
       "      <td>-0.239254</td>\n",
       "      <td>-0.448737</td>\n",
       "      <td>1.000000</td>\n",
       "      <td>0.350734</td>\n",
       "    </tr>\n",
       "    <tr>\n",
       "      <th>Genre_3</th>\n",
       "      <td>0.057997</td>\n",
       "      <td>-0.157434</td>\n",
       "      <td>-0.012579</td>\n",
       "      <td>-0.086749</td>\n",
       "      <td>-0.032311</td>\n",
       "      <td>-0.074165</td>\n",
       "      <td>0.122525</td>\n",
       "      <td>0.034115</td>\n",
       "      <td>-0.111344</td>\n",
       "      <td>-0.380066</td>\n",
       "      <td>0.350734</td>\n",
       "      <td>1.000000</td>\n",
       "    </tr>\n",
       "  </tbody>\n",
       "</table>\n",
       "</div>"
      ],
      "text/plain": [
       "                  Movie Name  Director Name  Duration      Year   Ratings  \\\n",
       "Movie Name          1.000000      -0.178696  0.067090 -0.156599  0.208923   \n",
       "Director Name      -0.178696       1.000000 -0.185705  0.171778  0.000464   \n",
       "Duration            0.067090      -0.185705  1.000000  0.069902  0.129598   \n",
       "Year               -0.156599       0.171778  0.069902  1.000000 -0.132105   \n",
       "Ratings             0.208923       0.000464  0.129598 -0.132105  1.000000   \n",
       "Votes              -0.061674      -0.001945  0.054120  0.017426 -0.294031   \n",
       "Genre               0.107480      -0.197778 -0.102395  0.012339 -0.171566   \n",
       "Gross collection   -0.088923       0.004089 -0.041519  0.003811 -0.342718   \n",
       "Certifications      0.155332      -0.014603 -0.052927 -0.582541  0.067267   \n",
       "Genre_1             0.042973      -0.139673 -0.022852  0.014453 -0.141981   \n",
       "Genre_2             0.063144      -0.038150 -0.067025  0.001124 -0.019019   \n",
       "Genre_3             0.057997      -0.157434 -0.012579 -0.086749 -0.032311   \n",
       "\n",
       "                     Votes     Genre  Gross collection  Certifications  \\\n",
       "Movie Name       -0.061674  0.107480         -0.088923        0.155332   \n",
       "Director Name    -0.001945 -0.197778          0.004089       -0.014603   \n",
       "Duration          0.054120 -0.102395         -0.041519       -0.052927   \n",
       "Year              0.017426  0.012339          0.003811       -0.582541   \n",
       "Ratings          -0.294031 -0.171566         -0.342718        0.067267   \n",
       "Votes             1.000000  0.077282          0.609513        0.121558   \n",
       "Genre             0.077282  1.000000          0.132809        0.020441   \n",
       "Gross collection  0.609513  0.132809          1.000000        0.147840   \n",
       "Certifications    0.121558  0.020441          0.147840        1.000000   \n",
       "Genre_1           0.114394  0.523821          0.147271        0.260144   \n",
       "Genre_2           0.004516  0.498740         -0.004493       -0.239254   \n",
       "Genre_3          -0.074165  0.122525          0.034115       -0.111344   \n",
       "\n",
       "                   Genre_1   Genre_2   Genre_3  \n",
       "Movie Name        0.042973  0.063144  0.057997  \n",
       "Director Name    -0.139673 -0.038150 -0.157434  \n",
       "Duration         -0.022852 -0.067025 -0.012579  \n",
       "Year              0.014453  0.001124 -0.086749  \n",
       "Ratings          -0.141981 -0.019019 -0.032311  \n",
       "Votes             0.114394  0.004516 -0.074165  \n",
       "Genre             0.523821  0.498740  0.122525  \n",
       "Gross collection  0.147271 -0.004493  0.034115  \n",
       "Certifications    0.260144 -0.239254 -0.111344  \n",
       "Genre_1           1.000000 -0.448737 -0.380066  \n",
       "Genre_2          -0.448737  1.000000  0.350734  \n",
       "Genre_3          -0.380066  0.350734  1.000000  "
      ]
     },
     "execution_count": 40,
     "metadata": {},
     "output_type": "execute_result"
    }
   ],
   "source": [
    "df.corr()"
   ]
  },
  {
   "cell_type": "markdown",
   "id": "866ca3f6",
   "metadata": {},
   "source": [
    "Correlation using heatmap-"
   ]
  },
  {
   "cell_type": "code",
   "execution_count": 41,
   "id": "efd75ffb",
   "metadata": {},
   "outputs": [
    {
     "data": {
      "text/plain": [
       "<AxesSubplot:>"
      ]
     },
     "execution_count": 41,
     "metadata": {},
     "output_type": "execute_result"
    },
    {
     "data": {
      "image/png": "[encoded data removed]",
      "text/plain": [
       "<Figure size 1080x504 with 2 Axes>"
      ]
     },
     "metadata": {
      "needs_background": "light"
     },
     "output_type": "display_data"
    }
   ],
   "source": [
    "import matplotlib.pyplot as plt\n",
    "plt.figure(figsize=(15,7))\n",
    "sns.heatmap(df.corr(),annot=True,linewidths=0.5,linecolor='black',fmt='.2f')"
   ]
  },
  {
   "cell_type": "markdown",
   "id": "0541b794",
   "metadata": {},
   "source": [
    "Outcome of Correlation- We see that some data is positively correlated with the target data- Votes, while some are negatively correlated to it.\n",
    "\n",
    "Describing Datasets-"
   ]
  },
  {
   "cell_type": "code",
   "execution_count": 42,
   "id": "7630f340",
   "metadata": {},
   "outputs": [
    {
     "data": {
      "text/html": [
       "<div>\n",
       "<style scoped>\n",
       "    .dataframe tbody tr th:only-of-type {\n",
       "        vertical-align: middle;\n",
       "    }\n",
       "\n",
       "    .dataframe tbody tr th {\n",
       "        vertical-align: top;\n",
       "    }\n",
       "\n",
       "    .dataframe thead th {\n",
       "        text-align: right;\n",
       "    }\n",
       "</style>\n",
       "<table border=\"1\" class=\"dataframe\">\n",
       "  <thead>\n",
       "    <tr style=\"text-align: right;\">\n",
       "      <th></th>\n",
       "      <th>Movie Name</th>\n",
       "      <th>Director Name</th>\n",
       "      <th>Duration</th>\n",
       "      <th>Year</th>\n",
       "      <th>Ratings</th>\n",
       "      <th>Votes</th>\n",
       "      <th>Genre</th>\n",
       "      <th>Gross collection</th>\n",
       "      <th>Certifications</th>\n",
       "      <th>Genre_1</th>\n",
       "      <th>Genre_2</th>\n",
       "      <th>Genre_3</th>\n",
       "    </tr>\n",
       "  </thead>\n",
       "  <tbody>\n",
       "    <tr>\n",
       "      <th>count</th>\n",
       "      <td>100.000000</td>\n",
       "      <td>100.000000</td>\n",
       "      <td>100.00000</td>\n",
       "      <td>100.000000</td>\n",
       "      <td>100.000000</td>\n",
       "      <td>100.000000</td>\n",
       "      <td>100.000000</td>\n",
       "      <td>100.000000</td>\n",
       "      <td>100.000000</td>\n",
       "      <td>100.000000</td>\n",
       "      <td>100.000000</td>\n",
       "      <td>100.000000</td>\n",
       "    </tr>\n",
       "    <tr>\n",
       "      <th>mean</th>\n",
       "      <td>49.500000</td>\n",
       "      <td>34.990000</td>\n",
       "      <td>30.46000</td>\n",
       "      <td>30.830000</td>\n",
       "      <td>8.239000</td>\n",
       "      <td>49.500000</td>\n",
       "      <td>12.630000</td>\n",
       "      <td>29.550000</td>\n",
       "      <td>3.280000</td>\n",
       "      <td>0.090000</td>\n",
       "      <td>3.010000</td>\n",
       "      <td>4.240000</td>\n",
       "    </tr>\n",
       "    <tr>\n",
       "      <th>std</th>\n",
       "      <td>29.011492</td>\n",
       "      <td>22.103748</td>\n",
       "      <td>18.65661</td>\n",
       "      <td>13.436762</td>\n",
       "      <td>0.235228</td>\n",
       "      <td>29.011492</td>\n",
       "      <td>7.598053</td>\n",
       "      <td>18.612136</td>\n",
       "      <td>2.494762</td>\n",
       "      <td>0.287623</td>\n",
       "      <td>2.120106</td>\n",
       "      <td>2.971651</td>\n",
       "    </tr>\n",
       "    <tr>\n",
       "      <th>min</th>\n",
       "      <td>0.000000</td>\n",
       "      <td>0.000000</td>\n",
       "      <td>0.00000</td>\n",
       "      <td>0.000000</td>\n",
       "      <td>8.000000</td>\n",
       "      <td>0.000000</td>\n",
       "      <td>0.000000</td>\n",
       "      <td>0.000000</td>\n",
       "      <td>0.000000</td>\n",
       "      <td>0.000000</td>\n",
       "      <td>0.000000</td>\n",
       "      <td>0.000000</td>\n",
       "    </tr>\n",
       "    <tr>\n",
       "      <th>25%</th>\n",
       "      <td>24.750000</td>\n",
       "      <td>14.750000</td>\n",
       "      <td>14.75000</td>\n",
       "      <td>22.750000</td>\n",
       "      <td>8.100000</td>\n",
       "      <td>24.750000</td>\n",
       "      <td>6.000000</td>\n",
       "      <td>18.000000</td>\n",
       "      <td>1.000000</td>\n",
       "      <td>0.000000</td>\n",
       "      <td>1.000000</td>\n",
       "      <td>3.000000</td>\n",
       "    </tr>\n",
       "    <tr>\n",
       "      <th>50%</th>\n",
       "      <td>49.500000</td>\n",
       "      <td>34.500000</td>\n",
       "      <td>29.00000</td>\n",
       "      <td>34.500000</td>\n",
       "      <td>8.200000</td>\n",
       "      <td>49.500000</td>\n",
       "      <td>13.000000</td>\n",
       "      <td>19.500000</td>\n",
       "      <td>2.000000</td>\n",
       "      <td>0.000000</td>\n",
       "      <td>3.000000</td>\n",
       "      <td>3.000000</td>\n",
       "    </tr>\n",
       "    <tr>\n",
       "      <th>75%</th>\n",
       "      <td>74.250000</td>\n",
       "      <td>53.250000</td>\n",
       "      <td>45.00000</td>\n",
       "      <td>42.000000</td>\n",
       "      <td>8.300000</td>\n",
       "      <td>74.250000</td>\n",
       "      <td>18.000000</td>\n",
       "      <td>44.250000</td>\n",
       "      <td>5.000000</td>\n",
       "      <td>0.000000</td>\n",
       "      <td>5.000000</td>\n",
       "      <td>6.000000</td>\n",
       "    </tr>\n",
       "    <tr>\n",
       "      <th>max</th>\n",
       "      <td>99.000000</td>\n",
       "      <td>74.000000</td>\n",
       "      <td>67.00000</td>\n",
       "      <td>49.000000</td>\n",
       "      <td>9.000000</td>\n",
       "      <td>99.000000</td>\n",
       "      <td>26.000000</td>\n",
       "      <td>69.000000</td>\n",
       "      <td>10.000000</td>\n",
       "      <td>1.000000</td>\n",
       "      <td>8.000000</td>\n",
       "      <td>11.000000</td>\n",
       "    </tr>\n",
       "  </tbody>\n",
       "</table>\n",
       "</div>"
      ],
      "text/plain": [
       "       Movie Name  Director Name   Duration        Year     Ratings  \\\n",
       "count  100.000000     100.000000  100.00000  100.000000  100.000000   \n",
       "mean    49.500000      34.990000   30.46000   30.830000    8.239000   \n",
       "std     29.011492      22.103748   18.65661   13.436762    0.235228   \n",
       "min      0.000000       0.000000    0.00000    0.000000    8.000000   \n",
       "25%     24.750000      14.750000   14.75000   22.750000    8.100000   \n",
       "50%     49.500000      34.500000   29.00000   34.500000    8.200000   \n",
       "75%     74.250000      53.250000   45.00000   42.000000    8.300000   \n",
       "max     99.000000      74.000000   67.00000   49.000000    9.000000   \n",
       "\n",
       "            Votes       Genre  Gross collection  Certifications     Genre_1  \\\n",
       "count  100.000000  100.000000        100.000000      100.000000  100.000000   \n",
       "mean    49.500000   12.630000         29.550000        3.280000    0.090000   \n",
       "std     29.011492    7.598053         18.612136        2.494762    0.287623   \n",
       "min      0.000000    0.000000          0.000000        0.000000    0.000000   \n",
       "25%     24.750000    6.000000         18.000000        1.000000    0.000000   \n",
       "50%     49.500000   13.000000         19.500000        2.000000    0.000000   \n",
       "75%     74.250000   18.000000         44.250000        5.000000    0.000000   \n",
       "max     99.000000   26.000000         69.000000       10.000000    1.000000   \n",
       "\n",
       "          Genre_2     Genre_3  \n",
       "count  100.000000  100.000000  \n",
       "mean     3.010000    4.240000  \n",
       "std      2.120106    2.971651  \n",
       "min      0.000000    0.000000  \n",
       "25%      1.000000    3.000000  \n",
       "50%      3.000000    3.000000  \n",
       "75%      5.000000    6.000000  \n",
       "max      8.000000   11.000000  "
      ]
     },
     "execution_count": 42,
     "metadata": {},
     "output_type": "execute_result"
    }
   ],
   "source": [
    "df.describe()"
   ]
  },
  {
   "cell_type": "markdown",
   "id": "1c2ef1a2",
   "metadata": {},
   "source": [
    "THE MEAN IS GREATER THAN MEDIAN HERE, SO THE DATA IS RIGHT SKEWED"
   ]
  },
  {
   "cell_type": "code",
   "execution_count": 43,
   "id": "d7f2ab4b",
   "metadata": {},
   "outputs": [
    {
     "data": {
      "image/png": "[encoded data removed]",
      "text/plain": [
       "<Figure size 1080x864 with 2 Axes>"
      ]
     },
     "metadata": {
      "needs_background": "light"
     },
     "output_type": "display_data"
    }
   ],
   "source": [
    "plt.figure(figsize=(15,12))\n",
    "sns.heatmap(round(df.describe()[1:].transpose(),2),linewidth=2,annot=True,fmt='f')\n",
    "plt.xticks(fontsize=18)\n",
    "plt.yticks(fontsize=20)\n",
    "plt.title('Variables Summary')\n",
    "plt.show()"
   ]
  },
  {
   "cell_type": "markdown",
   "id": "7afa8cb0",
   "metadata": {},
   "source": [
    "Correlation of the columns with the target columns-"
   ]
  },
  {
   "cell_type": "code",
   "execution_count": 44,
   "id": "2a07d16f",
   "metadata": {},
   "outputs": [
    {
     "data": {
      "text/plain": [
       "Ratings            -0.294031\n",
       "Genre_3            -0.074165\n",
       "Movie Name         -0.061674\n",
       "Director Name      -0.001945\n",
       "Genre_2             0.004516\n",
       "Year                0.017426\n",
       "Duration            0.054120\n",
       "Genre               0.077282\n",
       "Genre_1             0.114394\n",
       "Certifications      0.121558\n",
       "Gross collection    0.609513\n",
       "Votes               1.000000\n",
       "Name: Votes, dtype: float64"
      ]
     },
     "execution_count": 44,
     "metadata": {},
     "output_type": "execute_result"
    }
   ],
   "source": [
    "df.corr()['Votes'].sort_values()"
   ]
  },
  {
   "cell_type": "markdown",
   "id": "b99796b8",
   "metadata": {},
   "source": [
    "Checking whether the columns are positively or negatively correlated with the target column."
   ]
  },
  {
   "cell_type": "code",
   "execution_count": 45,
   "id": "5d72fc49",
   "metadata": {},
   "outputs": [
    {
     "data": {
      "image/png": "[encoded data removed]",
      "text/plain": [
       "<Figure size 1584x504 with 1 Axes>"
      ]
     },
     "metadata": {
      "needs_background": "light"
     },
     "output_type": "display_data"
    }
   ],
   "source": [
    "plt.figure(figsize=(22,7))\n",
    "df.corr()['Votes'].sort_values(ascending=False).drop(['Votes']).plot(kind='bar',color='c')\n",
    "plt.xlabel('Feature',fontsize=14)\n",
    "plt.ylabel('column with target names',fontsize=14)\n",
    "plt.title('correlation',fontsize=14)\n",
    "plt.show()"
   ]
  },
  {
   "cell_type": "code",
   "execution_count": 46,
   "id": "fd063ab3",
   "metadata": {},
   "outputs": [
    {
     "data": {
      "text/plain": [
       "Movie Name          0.000000\n",
       "Director Name       0.042323\n",
       "Duration            0.208843\n",
       "Year               -0.724676\n",
       "Ratings             1.319427\n",
       "Votes               0.000000\n",
       "Genre               0.078391\n",
       "Gross collection    0.618101\n",
       "Certifications      0.956056\n",
       "Genre_1             2.909132\n",
       "Genre_2             0.259205\n",
       "Genre_3             0.932909\n",
       "dtype: float64"
      ]
     },
     "execution_count": 46,
     "metadata": {},
     "output_type": "execute_result"
    }
   ],
   "source": [
    "df.skew()"
   ]
  },
  {
   "cell_type": "markdown",
   "id": "e0625e65",
   "metadata": {},
   "source": [
    "Keeping +/-1.0 as the range for skewness, here are the columns which do not lie within the range- Ratings, Genre_1\n",
    "\n",
    "Since no column has skewness, we will not treat them."
   ]
  },
  {
   "cell_type": "code",
   "execution_count": 47,
   "id": "2a60b749",
   "metadata": {},
   "outputs": [
    {
     "data": {
      "text/plain": [
       "Movie Name          float64\n",
       "Director Name       float64\n",
       "Duration            float64\n",
       "Year                float64\n",
       "Ratings             float64\n",
       "Votes               float64\n",
       "Genre               float64\n",
       "Gross collection    float64\n",
       "Certifications      float64\n",
       "Genre_1             float64\n",
       "Genre_2             float64\n",
       "Genre_3             float64\n",
       "dtype: object"
      ]
     },
     "execution_count": 47,
     "metadata": {},
     "output_type": "execute_result"
    }
   ],
   "source": [
    "df.dtypes"
   ]
  },
  {
   "cell_type": "markdown",
   "id": "a7f3d14c",
   "metadata": {},
   "source": [
    "Checking for outliers on the int and float type of columns-"
   ]
  },
  {
   "cell_type": "code",
   "execution_count": 48,
   "id": "ced6ee64",
   "metadata": {},
   "outputs": [
    {
     "data": {
      "text/plain": [
       "<AxesSubplot:>"
      ]
     },
     "execution_count": 48,
     "metadata": {},
     "output_type": "execute_result"
    },
    {
     "data": {
      "image/png": "[encoded data removed]",
      "text/plain": [
       "<Figure size 432x288 with 1 Axes>"
      ]
     },
     "metadata": {
      "needs_background": "light"
     },
     "output_type": "display_data"
    }
   ],
   "source": [
    "df['Votes'].plot.box()"
   ]
  },
  {
   "cell_type": "code",
   "execution_count": 49,
   "id": "60d47171",
   "metadata": {},
   "outputs": [
    {
     "data": {
      "text/plain": [
       "<AxesSubplot:>"
      ]
     },
     "execution_count": 49,
     "metadata": {},
     "output_type": "execute_result"
    },
    {
     "data": {
      "image/png": "[encoded data removed]",
      "text/plain": [
       "<Figure size 432x288 with 1 Axes>"
      ]
     },
     "metadata": {
      "needs_background": "light"
     },
     "output_type": "display_data"
    }
   ],
   "source": [
    "df['Gross collection'].plot.box()"
   ]
  },
  {
   "cell_type": "code",
   "execution_count": 50,
   "id": "9fd10d3a",
   "metadata": {},
   "outputs": [
    {
     "data": {
      "image/png": "[encoded data removed]",
      "text/plain": [
       "<Figure size 2160x6480 with 12 Axes>"
      ]
     },
     "metadata": {
      "needs_background": "light"
     },
     "output_type": "display_data"
    }
   ],
   "source": [
    "collist=df.columns.values\n",
    "ncol=30\n",
    "nrows=14\n",
    "plt.figure(figsize=(ncol,3*ncol))\n",
    "for i in range(0,len(collist)):\n",
    "    plt.subplot(nrows,ncol,i+1)\n",
    "    sns.boxplot(df[collist[i]],color='green',orient='v')\n",
    "    plt.tight_layout()"
   ]
  },
  {
   "cell_type": "markdown",
   "id": "63b6e1c5",
   "metadata": {},
   "source": [
    "Considering the outlier removal-"
   ]
  },
  {
   "cell_type": "code",
   "execution_count": 51,
   "id": "0b0c542b",
   "metadata": {},
   "outputs": [
    {
     "name": "stdout",
     "output_type": "stream",
     "text": [
      "<class 'pandas.core.frame.DataFrame'>\n",
      "Int64Index: 100 entries, 0 to 99\n",
      "Data columns (total 12 columns):\n",
      " #   Column            Non-Null Count  Dtype  \n",
      "---  ------            --------------  -----  \n",
      " 0   Movie Name        100 non-null    float64\n",
      " 1   Director Name     100 non-null    float64\n",
      " 2   Duration          100 non-null    float64\n",
      " 3   Year              100 non-null    float64\n",
      " 4   Ratings           100 non-null    float64\n",
      " 5   Votes             100 non-null    float64\n",
      " 6   Genre             100 non-null    float64\n",
      " 7   Gross collection  100 non-null    float64\n",
      " 8   Certifications    100 non-null    float64\n",
      " 9   Genre_1           100 non-null    float64\n",
      " 10  Genre_2           100 non-null    float64\n",
      " 11  Genre_3           100 non-null    float64\n",
      "dtypes: float64(12)\n",
      "memory usage: 10.2 KB\n"
     ]
    }
   ],
   "source": [
    "df.info()"
   ]
  },
  {
   "cell_type": "markdown",
   "id": "938b2740",
   "metadata": {},
   "source": [
    "From the above code we can have the columns datatype and the memory used by the dataframe."
   ]
  },
  {
   "cell_type": "code",
   "execution_count": 52,
   "id": "07475503",
   "metadata": {},
   "outputs": [
    {
     "data": {
      "text/plain": [
       "(array([ 0,  1, 15, 27, 44, 63, 66, 67, 86, 89, 95]),\n",
       " array([4, 4, 9, 9, 9, 9, 9, 9, 9, 9, 9]))"
      ]
     },
     "execution_count": 52,
     "metadata": {},
     "output_type": "execute_result"
    }
   ],
   "source": [
    "import numpy as np\n",
    "from scipy.stats import zscore\n",
    "z=np.abs(zscore(df))\n",
    "threshold=3\n",
    "np.where(z>3)"
   ]
  },
  {
   "cell_type": "code",
   "execution_count": 53,
   "id": "47a5c400",
   "metadata": {},
   "outputs": [
    {
     "data": {
      "text/html": [
       "<div>\n",
       "<style scoped>\n",
       "    .dataframe tbody tr th:only-of-type {\n",
       "        vertical-align: middle;\n",
       "    }\n",
       "\n",
       "    .dataframe tbody tr th {\n",
       "        vertical-align: top;\n",
       "    }\n",
       "\n",
       "    .dataframe thead th {\n",
       "        text-align: right;\n",
       "    }\n",
       "</style>\n",
       "<table border=\"1\" class=\"dataframe\">\n",
       "  <thead>\n",
       "    <tr style=\"text-align: right;\">\n",
       "      <th></th>\n",
       "      <th>Movie Name</th>\n",
       "      <th>Director Name</th>\n",
       "      <th>Duration</th>\n",
       "      <th>Year</th>\n",
       "      <th>Ratings</th>\n",
       "      <th>Votes</th>\n",
       "      <th>Genre</th>\n",
       "      <th>Gross collection</th>\n",
       "      <th>Certifications</th>\n",
       "      <th>Genre_1</th>\n",
       "      <th>Genre_2</th>\n",
       "      <th>Genre_3</th>\n",
       "    </tr>\n",
       "  </thead>\n",
       "  <tbody>\n",
       "    <tr>\n",
       "      <th>2</th>\n",
       "      <td>31.0</td>\n",
       "      <td>13.0</td>\n",
       "      <td>33.0</td>\n",
       "      <td>35.0</td>\n",
       "      <td>8.8</td>\n",
       "      <td>36.0</td>\n",
       "      <td>6.0</td>\n",
       "      <td>7.0</td>\n",
       "      <td>1.0</td>\n",
       "      <td>0.0</td>\n",
       "      <td>1.0</td>\n",
       "      <td>8.0</td>\n",
       "    </tr>\n",
       "    <tr>\n",
       "      <th>3</th>\n",
       "      <td>82.0</td>\n",
       "      <td>50.0</td>\n",
       "      <td>54.0</td>\n",
       "      <td>27.0</td>\n",
       "      <td>8.8</td>\n",
       "      <td>20.0</td>\n",
       "      <td>3.0</td>\n",
       "      <td>10.0</td>\n",
       "      <td>7.0</td>\n",
       "      <td>0.0</td>\n",
       "      <td>1.0</td>\n",
       "      <td>3.0</td>\n",
       "    </tr>\n",
       "    <tr>\n",
       "      <th>4</th>\n",
       "      <td>84.0</td>\n",
       "      <td>50.0</td>\n",
       "      <td>55.0</td>\n",
       "      <td>28.0</td>\n",
       "      <td>8.8</td>\n",
       "      <td>17.0</td>\n",
       "      <td>3.0</td>\n",
       "      <td>13.0</td>\n",
       "      <td>1.0</td>\n",
       "      <td>0.0</td>\n",
       "      <td>1.0</td>\n",
       "      <td>3.0</td>\n",
       "    </tr>\n",
       "    <tr>\n",
       "      <th>5</th>\n",
       "      <td>85.0</td>\n",
       "      <td>40.0</td>\n",
       "      <td>23.0</td>\n",
       "      <td>25.0</td>\n",
       "      <td>8.7</td>\n",
       "      <td>21.0</td>\n",
       "      <td>23.0</td>\n",
       "      <td>1.0</td>\n",
       "      <td>2.0</td>\n",
       "      <td>0.0</td>\n",
       "      <td>7.0</td>\n",
       "      <td>3.0</td>\n",
       "    </tr>\n",
       "    <tr>\n",
       "      <th>6</th>\n",
       "      <td>72.0</td>\n",
       "      <td>27.0</td>\n",
       "      <td>15.0</td>\n",
       "      <td>10.0</td>\n",
       "      <td>8.7</td>\n",
       "      <td>12.0</td>\n",
       "      <td>4.0</td>\n",
       "      <td>6.0</td>\n",
       "      <td>8.0</td>\n",
       "      <td>0.0</td>\n",
       "      <td>1.0</td>\n",
       "      <td>4.0</td>\n",
       "    </tr>\n",
       "    <tr>\n",
       "      <th>...</th>\n",
       "      <td>...</td>\n",
       "      <td>...</td>\n",
       "      <td>...</td>\n",
       "      <td>...</td>\n",
       "      <td>...</td>\n",
       "      <td>...</td>\n",
       "      <td>...</td>\n",
       "      <td>...</td>\n",
       "      <td>...</td>\n",
       "      <td>...</td>\n",
       "      <td>...</td>\n",
       "      <td>...</td>\n",
       "    </tr>\n",
       "    <tr>\n",
       "      <th>94</th>\n",
       "      <td>33.0</td>\n",
       "      <td>6.0</td>\n",
       "      <td>0.0</td>\n",
       "      <td>28.0</td>\n",
       "      <td>8.0</td>\n",
       "      <td>28.0</td>\n",
       "      <td>13.0</td>\n",
       "      <td>26.0</td>\n",
       "      <td>2.0</td>\n",
       "      <td>0.0</td>\n",
       "      <td>4.0</td>\n",
       "      <td>3.0</td>\n",
       "    </tr>\n",
       "    <tr>\n",
       "      <th>96</th>\n",
       "      <td>20.0</td>\n",
       "      <td>37.0</td>\n",
       "      <td>9.0</td>\n",
       "      <td>33.0</td>\n",
       "      <td>8.0</td>\n",
       "      <td>23.0</td>\n",
       "      <td>13.0</td>\n",
       "      <td>24.0</td>\n",
       "      <td>4.0</td>\n",
       "      <td>0.0</td>\n",
       "      <td>4.0</td>\n",
       "      <td>3.0</td>\n",
       "    </tr>\n",
       "    <tr>\n",
       "      <th>97</th>\n",
       "      <td>26.0</td>\n",
       "      <td>71.0</td>\n",
       "      <td>41.0</td>\n",
       "      <td>38.0</td>\n",
       "      <td>8.0</td>\n",
       "      <td>62.0</td>\n",
       "      <td>13.0</td>\n",
       "      <td>67.0</td>\n",
       "      <td>2.0</td>\n",
       "      <td>0.0</td>\n",
       "      <td>4.0</td>\n",
       "      <td>3.0</td>\n",
       "    </tr>\n",
       "    <tr>\n",
       "      <th>98</th>\n",
       "      <td>61.0</td>\n",
       "      <td>2.0</td>\n",
       "      <td>66.0</td>\n",
       "      <td>7.0</td>\n",
       "      <td>8.0</td>\n",
       "      <td>52.0</td>\n",
       "      <td>20.0</td>\n",
       "      <td>18.0</td>\n",
       "      <td>5.0</td>\n",
       "      <td>0.0</td>\n",
       "      <td>5.0</td>\n",
       "      <td>10.0</td>\n",
       "    </tr>\n",
       "    <tr>\n",
       "      <th>99</th>\n",
       "      <td>21.0</td>\n",
       "      <td>37.0</td>\n",
       "      <td>9.0</td>\n",
       "      <td>35.0</td>\n",
       "      <td>8.0</td>\n",
       "      <td>91.0</td>\n",
       "      <td>13.0</td>\n",
       "      <td>40.0</td>\n",
       "      <td>4.0</td>\n",
       "      <td>0.0</td>\n",
       "      <td>4.0</td>\n",
       "      <td>3.0</td>\n",
       "    </tr>\n",
       "  </tbody>\n",
       "</table>\n",
       "<p>89 rows × 12 columns</p>\n",
       "</div>"
      ],
      "text/plain": [
       "    Movie Name  Director Name  Duration  Year  Ratings  Votes  Genre  \\\n",
       "2         31.0           13.0      33.0  35.0      8.8   36.0    6.0   \n",
       "3         82.0           50.0      54.0  27.0      8.8   20.0    3.0   \n",
       "4         84.0           50.0      55.0  28.0      8.8   17.0    3.0   \n",
       "5         85.0           40.0      23.0  25.0      8.7   21.0   23.0   \n",
       "6         72.0           27.0      15.0  10.0      8.7   12.0    4.0   \n",
       "..         ...            ...       ...   ...      ...    ...    ...   \n",
       "94        33.0            6.0       0.0  28.0      8.0   28.0   13.0   \n",
       "96        20.0           37.0       9.0  33.0      8.0   23.0   13.0   \n",
       "97        26.0           71.0      41.0  38.0      8.0   62.0   13.0   \n",
       "98        61.0            2.0      66.0   7.0      8.0   52.0   20.0   \n",
       "99        21.0           37.0       9.0  35.0      8.0   91.0   13.0   \n",
       "\n",
       "    Gross collection  Certifications  Genre_1  Genre_2  Genre_3  \n",
       "2                7.0             1.0      0.0      1.0      8.0  \n",
       "3               10.0             7.0      0.0      1.0      3.0  \n",
       "4               13.0             1.0      0.0      1.0      3.0  \n",
       "5                1.0             2.0      0.0      7.0      3.0  \n",
       "6                6.0             8.0      0.0      1.0      4.0  \n",
       "..               ...             ...      ...      ...      ...  \n",
       "94              26.0             2.0      0.0      4.0      3.0  \n",
       "96              24.0             4.0      0.0      4.0      3.0  \n",
       "97              67.0             2.0      0.0      4.0      3.0  \n",
       "98              18.0             5.0      0.0      5.0     10.0  \n",
       "99              40.0             4.0      0.0      4.0      3.0  \n",
       "\n",
       "[89 rows x 12 columns]"
      ]
     },
     "execution_count": 53,
     "metadata": {},
     "output_type": "execute_result"
    }
   ],
   "source": [
    "df_new_z=df[(z<3).all(axis=1)]\n",
    "df_new_z"
   ]
  },
  {
   "cell_type": "markdown",
   "id": "cb9e8600",
   "metadata": {},
   "source": [
    "Percentage of data loss-"
   ]
  },
  {
   "cell_type": "code",
   "execution_count": 54,
   "id": "692c4cbc",
   "metadata": {},
   "outputs": [
    {
     "data": {
      "text/plain": [
       "11.0"
      ]
     },
     "execution_count": 54,
     "metadata": {},
     "output_type": "execute_result"
    }
   ],
   "source": [
    "data_loss=((100-89)/100)*100\n",
    "data_loss"
   ]
  },
  {
   "cell_type": "markdown",
   "id": "077044a3",
   "metadata": {},
   "source": [
    "Separating the columns into features and target-"
   ]
  },
  {
   "cell_type": "code",
   "execution_count": 55,
   "id": "302e73fe",
   "metadata": {},
   "outputs": [],
   "source": [
    "features=df.drop('Votes',axis=1)\n",
    "target=df['Votes']"
   ]
  },
  {
   "cell_type": "markdown",
   "id": "971ae7ac",
   "metadata": {},
   "source": [
    "LINEAR REGRESSION MODEL FOR PREDICTING VOTES-\n",
    "\n",
    "Scaling the data using MinMax scaler-"
   ]
  },
  {
   "cell_type": "code",
   "execution_count": 56,
   "id": "5042bbad",
   "metadata": {},
   "outputs": [],
   "source": [
    "from sklearn.preprocessing import MinMaxScaler\n",
    "mns=MinMaxScaler()\n",
    "from sklearn.linear_model import LinearRegression\n",
    "lr=LinearRegression()\n",
    "from sklearn.metrics import r2_score\n",
    "from sklearn.model_selection import train_test_split"
   ]
  },
  {
   "cell_type": "code",
   "execution_count": 57,
   "id": "a90341f6",
   "metadata": {},
   "outputs": [],
   "source": [
    "import warnings\n",
    "warnings.filterwarnings('ignore')"
   ]
  },
  {
   "cell_type": "code",
   "execution_count": 58,
   "id": "6d16557b",
   "metadata": {},
   "outputs": [
    {
     "name": "stdout",
     "output_type": "stream",
     "text": [
      "At random state 0,the training accuracy is:- 0.45570977364653886\n",
      "At random state 0,the testing accuracy is:- -0.04205696262745118\n",
      "\n",
      "\n",
      "At random state 1,the training accuracy is:- 0.44548987064883794\n",
      "At random state 1,the testing accuracy is:- 0.09537552602155008\n",
      "\n",
      "\n",
      "At random state 2,the training accuracy is:- 0.427048304172577\n",
      "At random state 2,the testing accuracy is:- 0.342388841595181\n",
      "\n",
      "\n",
      "At random state 3,the training accuracy is:- 0.4040998399856176\n",
      "At random state 3,the testing accuracy is:- 0.3518990593065888\n",
      "\n",
      "\n",
      "At random state 4,the training accuracy is:- 0.43412218252950696\n",
      "At random state 4,the testing accuracy is:- 0.04761870327175577\n",
      "\n",
      "\n",
      "At random state 5,the training accuracy is:- 0.4459247278609565\n",
      "At random state 5,the testing accuracy is:- 0.1922969247453773\n",
      "\n",
      "\n",
      "At random state 6,the training accuracy is:- 0.39439174100791097\n",
      "At random state 6,the testing accuracy is:- 0.3082586520517675\n",
      "\n",
      "\n",
      "At random state 7,the training accuracy is:- 0.44130895681234406\n",
      "At random state 7,the testing accuracy is:- 0.021713490237106114\n",
      "\n",
      "\n",
      "At random state 8,the training accuracy is:- 0.4583062233362737\n",
      "At random state 8,the testing accuracy is:- 0.058920001838564606\n",
      "\n",
      "\n",
      "At random state 9,the training accuracy is:- 0.42192802683637565\n",
      "At random state 9,the testing accuracy is:- 0.3150652642787848\n",
      "\n",
      "\n",
      "At random state 10,the training accuracy is:- 0.4560196106654053\n",
      "At random state 10,the testing accuracy is:- 0.08437631026805303\n",
      "\n",
      "\n",
      "At random state 11,the training accuracy is:- 0.48672551874776493\n",
      "At random state 11,the testing accuracy is:- 0.09461493515127906\n",
      "\n",
      "\n",
      "At random state 12,the training accuracy is:- 0.3441917996665488\n",
      "At random state 12,the testing accuracy is:- 0.5344315587042523\n",
      "\n",
      "\n",
      "At random state 13,the training accuracy is:- 0.441043177290555\n",
      "At random state 13,the testing accuracy is:- 0.2732229021698719\n",
      "\n",
      "\n",
      "At random state 14,the training accuracy is:- 0.4498527344859786\n",
      "At random state 14,the testing accuracy is:- 0.1589434107388914\n",
      "\n",
      "\n",
      "At random state 15,the training accuracy is:- 0.4431665324523717\n",
      "At random state 15,the testing accuracy is:- 0.12452493803842368\n",
      "\n",
      "\n",
      "At random state 16,the training accuracy is:- 0.39151111450557363\n",
      "At random state 16,the testing accuracy is:- 0.41067733669406037\n",
      "\n",
      "\n",
      "At random state 17,the training accuracy is:- 0.44377740883376404\n",
      "At random state 17,the testing accuracy is:- 0.1106967760480786\n",
      "\n",
      "\n",
      "At random state 18,the training accuracy is:- 0.4756003276491486\n",
      "At random state 18,the testing accuracy is:- -0.35085053123430265\n",
      "\n",
      "\n",
      "At random state 19,the training accuracy is:- 0.46380738574048486\n",
      "At random state 19,the testing accuracy is:- 0.11722691373324123\n",
      "\n",
      "\n",
      "At random state 20,the training accuracy is:- 0.4321654989146332\n",
      "At random state 20,the testing accuracy is:- 0.16277752939525392\n",
      "\n",
      "\n",
      "At random state 21,the training accuracy is:- 0.4723816888815917\n",
      "At random state 21,the testing accuracy is:- 0.018771913202369483\n",
      "\n",
      "\n",
      "At random state 22,the training accuracy is:- 0.4306873651157658\n",
      "At random state 22,the testing accuracy is:- 0.20841038986247384\n",
      "\n",
      "\n",
      "At random state 23,the training accuracy is:- 0.3857492844998913\n",
      "At random state 23,the testing accuracy is:- 0.4592989711791544\n",
      "\n",
      "\n",
      "At random state 24,the training accuracy is:- 0.41131618805949555\n",
      "At random state 24,the testing accuracy is:- 0.12463044139859991\n",
      "\n",
      "\n",
      "At random state 25,the training accuracy is:- 0.4762823351566804\n",
      "At random state 25,the testing accuracy is:- -0.23448572867649098\n",
      "\n",
      "\n",
      "At random state 26,the training accuracy is:- 0.3489224649635435\n",
      "At random state 26,the testing accuracy is:- 0.4951396628284269\n",
      "\n",
      "\n",
      "At random state 27,the training accuracy is:- 0.4510469959733676\n",
      "At random state 27,the testing accuracy is:- -0.4013587031528323\n",
      "\n",
      "\n",
      "At random state 28,the training accuracy is:- 0.45915250785586725\n",
      "At random state 28,the testing accuracy is:- 0.13459742925961238\n",
      "\n",
      "\n",
      "At random state 29,the training accuracy is:- 0.4182983247946611\n",
      "At random state 29,the testing accuracy is:- 0.3546216016473459\n",
      "\n",
      "\n",
      "At random state 30,the training accuracy is:- 0.38397769601426635\n",
      "At random state 30,the testing accuracy is:- 0.5442546002834543\n",
      "\n",
      "\n",
      "At random state 31,the training accuracy is:- 0.4221934778933021\n",
      "At random state 31,the testing accuracy is:- 0.31102625094847003\n",
      "\n",
      "\n",
      "At random state 32,the training accuracy is:- 0.5032704783277524\n",
      "At random state 32,the testing accuracy is:- -0.14853789961092811\n",
      "\n",
      "\n",
      "At random state 33,the training accuracy is:- 0.3273212749002934\n",
      "At random state 33,the testing accuracy is:- 0.632901504888147\n",
      "\n",
      "\n",
      "At random state 34,the training accuracy is:- 0.4382104158969191\n",
      "At random state 34,the testing accuracy is:- 0.1460254856475116\n",
      "\n",
      "\n",
      "At random state 35,the training accuracy is:- 0.45621280936439057\n",
      "At random state 35,the testing accuracy is:- -0.000741483278653865\n",
      "\n",
      "\n",
      "At random state 36,the training accuracy is:- 0.4780378248541005\n",
      "At random state 36,the testing accuracy is:- 0.02237733743682091\n",
      "\n",
      "\n",
      "At random state 37,the training accuracy is:- 0.4067360920632588\n",
      "At random state 37,the testing accuracy is:- 0.2999230709084688\n",
      "\n",
      "\n",
      "At random state 38,the training accuracy is:- 0.43338431809831734\n",
      "At random state 38,the testing accuracy is:- 0.2509542475085771\n",
      "\n",
      "\n",
      "At random state 39,the training accuracy is:- 0.4701697304496172\n",
      "At random state 39,the testing accuracy is:- -0.041512139879955834\n",
      "\n",
      "\n",
      "At random state 40,the training accuracy is:- 0.36397390224149284\n",
      "At random state 40,the testing accuracy is:- 0.5722839778898913\n",
      "\n",
      "\n",
      "At random state 41,the training accuracy is:- 0.4038084312297452\n",
      "At random state 41,the testing accuracy is:- 0.39171204291099737\n",
      "\n",
      "\n",
      "At random state 42,the training accuracy is:- 0.47769692627525784\n",
      "At random state 42,the testing accuracy is:- 0.10631885993988843\n",
      "\n",
      "\n",
      "At random state 43,the training accuracy is:- 0.37599131406115105\n",
      "At random state 43,the testing accuracy is:- 0.5076243845195021\n",
      "\n",
      "\n",
      "At random state 44,the training accuracy is:- 0.4165380913621437\n",
      "At random state 44,the testing accuracy is:- 0.2638440906637417\n",
      "\n",
      "\n",
      "At random state 45,the training accuracy is:- 0.4138876547807653\n",
      "At random state 45,the testing accuracy is:- 0.34137611280640134\n",
      "\n",
      "\n",
      "At random state 46,the training accuracy is:- 0.4805674167244621\n",
      "At random state 46,the testing accuracy is:- -0.1384827052712907\n",
      "\n",
      "\n",
      "At random state 47,the training accuracy is:- 0.358270654236982\n",
      "At random state 47,the testing accuracy is:- 0.5467122066194208\n",
      "\n",
      "\n",
      "At random state 48,the training accuracy is:- 0.39630064522044106\n",
      "At random state 48,the testing accuracy is:- 0.4074444095037473\n",
      "\n",
      "\n",
      "At random state 49,the training accuracy is:- 0.5113935394338621\n",
      "At random state 49,the testing accuracy is:- -0.2467159916009114\n",
      "\n",
      "\n",
      "At random state 50,the training accuracy is:- 0.3966761637194052\n",
      "At random state 50,the testing accuracy is:- 0.4082724385720792\n",
      "\n",
      "\n",
      "At random state 51,the training accuracy is:- 0.5027535722687241\n",
      "At random state 51,the testing accuracy is:- -0.11845971419099843\n",
      "\n",
      "\n",
      "At random state 52,the training accuracy is:- 0.445773258715527\n",
      "At random state 52,the testing accuracy is:- 0.2271210125951285\n",
      "\n",
      "\n",
      "At random state 53,the training accuracy is:- 0.42099314976797375\n",
      "At random state 53,the testing accuracy is:- 0.275379172908109\n",
      "\n",
      "\n",
      "At random state 54,the training accuracy is:- 0.5085075190214063\n",
      "At random state 54,the testing accuracy is:- -0.7039744606716061\n",
      "\n",
      "\n",
      "At random state 55,the training accuracy is:- 0.36941708099453896\n",
      "At random state 55,the testing accuracy is:- 0.5536497650372239\n",
      "\n",
      "\n",
      "At random state 56,the training accuracy is:- 0.38769584153983994\n",
      "At random state 56,the testing accuracy is:- 0.41494512859267985\n",
      "\n",
      "\n",
      "At random state 57,the training accuracy is:- 0.3764189670684892\n",
      "At random state 57,the testing accuracy is:- 0.4759635356762232\n",
      "\n",
      "\n",
      "At random state 58,the training accuracy is:- 0.3651752626932505\n",
      "At random state 58,the testing accuracy is:- 0.4292050317410494\n",
      "\n",
      "\n",
      "At random state 59,the training accuracy is:- 0.42921950734038017\n",
      "At random state 59,the testing accuracy is:- 0.2559005401201695\n",
      "\n",
      "\n",
      "At random state 60,the training accuracy is:- 0.3996633104235904\n",
      "At random state 60,the testing accuracy is:- 0.36902447900660096\n",
      "\n",
      "\n",
      "At random state 61,the training accuracy is:- 0.37784688591427995\n",
      "At random state 61,the testing accuracy is:- 0.45558837209355396\n",
      "\n",
      "\n",
      "At random state 62,the training accuracy is:- 0.4828193273545446\n",
      "At random state 62,the testing accuracy is:- 0.007614397631516612\n",
      "\n",
      "\n",
      "At random state 63,the training accuracy is:- 0.4844865536085181\n",
      "At random state 63,the testing accuracy is:- -0.12264555791750786\n",
      "\n",
      "\n",
      "At random state 64,the training accuracy is:- 0.41556546695872876\n",
      "At random state 64,the testing accuracy is:- 0.23870036506385672\n",
      "\n",
      "\n",
      "At random state 65,the training accuracy is:- 0.41485515718385313\n",
      "At random state 65,the testing accuracy is:- 0.3320100667771727\n",
      "\n",
      "\n",
      "At random state 66,the training accuracy is:- 0.4454956712930882\n",
      "At random state 66,the testing accuracy is:- 0.18383753530039737\n",
      "\n",
      "\n",
      "At random state 67,the training accuracy is:- 0.4955329617658335\n",
      "At random state 67,the testing accuracy is:- 0.045366465921482524\n",
      "\n",
      "\n",
      "At random state 68,the training accuracy is:- 0.47829976410401775\n",
      "At random state 68,the testing accuracy is:- 0.04138696184805035\n",
      "\n",
      "\n",
      "At random state 69,the training accuracy is:- 0.4250565070455087\n",
      "At random state 69,the testing accuracy is:- -0.014440989136918159\n",
      "\n",
      "\n",
      "At random state 70,the training accuracy is:- 0.44248960474257204\n",
      "At random state 70,the testing accuracy is:- 0.12425828012949913\n",
      "\n",
      "\n",
      "At random state 71,the training accuracy is:- 0.4454302453642943\n",
      "At random state 71,the testing accuracy is:- 0.07052141252703004\n",
      "\n",
      "\n",
      "At random state 72,the training accuracy is:- 0.41544491535997496\n",
      "At random state 72,the testing accuracy is:- 0.28456331512838096\n",
      "\n",
      "\n",
      "At random state 73,the training accuracy is:- 0.39723843230415434\n",
      "At random state 73,the testing accuracy is:- 0.4413622314836434\n",
      "\n",
      "\n",
      "At random state 74,the training accuracy is:- 0.3765186234248058\n",
      "At random state 74,the testing accuracy is:- 0.48503144913146623\n",
      "\n",
      "\n",
      "At random state 75,the training accuracy is:- 0.39685523278797963\n",
      "At random state 75,the testing accuracy is:- 0.43409749185332247\n",
      "\n",
      "\n",
      "At random state 76,the training accuracy is:- 0.4519844151659933\n",
      "At random state 76,the testing accuracy is:- 0.11979590166979293\n",
      "\n",
      "\n",
      "At random state 77,the training accuracy is:- 0.4263334112828848\n",
      "At random state 77,the testing accuracy is:- 0.24070686959683485\n",
      "\n",
      "\n",
      "At random state 78,the training accuracy is:- 0.4323536006462859\n",
      "At random state 78,the testing accuracy is:- 0.30105214302391436\n",
      "\n",
      "\n",
      "At random state 79,the training accuracy is:- 0.36792730272872964\n",
      "At random state 79,the testing accuracy is:- 0.446934606420757\n",
      "\n",
      "\n",
      "At random state 80,the training accuracy is:- 0.506501530719049\n",
      "At random state 80,the testing accuracy is:- -0.4329360653310257\n",
      "\n",
      "\n",
      "At random state 81,the training accuracy is:- 0.42858344160402384\n",
      "At random state 81,the testing accuracy is:- 0.3160517836265866\n",
      "\n",
      "\n",
      "At random state 82,the training accuracy is:- 0.43622088077964005\n",
      "At random state 82,the testing accuracy is:- -0.05743984950544423\n",
      "\n",
      "\n",
      "At random state 83,the training accuracy is:- 0.4164396712951005\n",
      "At random state 83,the testing accuracy is:- 0.356318063900827\n",
      "\n",
      "\n",
      "At random state 84,the training accuracy is:- 0.3870776011103918\n",
      "At random state 84,the testing accuracy is:- 0.30290247624312205\n",
      "\n",
      "\n",
      "At random state 85,the training accuracy is:- 0.3894698306057418\n",
      "At random state 85,the testing accuracy is:- 0.46499427310108654\n",
      "\n",
      "\n",
      "At random state 86,the training accuracy is:- 0.34977556347864913\n",
      "At random state 86,the testing accuracy is:- 0.5796473939359519\n",
      "\n",
      "\n",
      "At random state 87,the training accuracy is:- 0.42652149654301497\n",
      "At random state 87,the testing accuracy is:- 0.29800127773313034\n",
      "\n",
      "\n",
      "At random state 88,the training accuracy is:- 0.4710530570626187\n",
      "At random state 88,the testing accuracy is:- -0.20219340706595235\n",
      "\n",
      "\n",
      "At random state 89,the training accuracy is:- 0.43941555415779987\n",
      "At random state 89,the testing accuracy is:- 0.18613151643208992\n",
      "\n",
      "\n",
      "At random state 90,the training accuracy is:- 0.43547778994876307\n",
      "At random state 90,the testing accuracy is:- 0.17088496255038643\n",
      "\n",
      "\n",
      "At random state 91,the training accuracy is:- 0.3863407077542984\n",
      "At random state 91,the testing accuracy is:- 0.49974897168034704\n",
      "\n",
      "\n",
      "At random state 92,the training accuracy is:- 0.47574212458296783\n",
      "At random state 92,the testing accuracy is:- -0.03226817206188182\n",
      "\n",
      "\n",
      "At random state 93,the training accuracy is:- 0.4217327036214802\n",
      "At random state 93,the testing accuracy is:- 0.23440374017607468\n",
      "\n",
      "\n",
      "At random state 94,the training accuracy is:- 0.5069023262211114\n",
      "At random state 94,the testing accuracy is:- -0.031789766017638055\n",
      "\n",
      "\n",
      "At random state 95,the training accuracy is:- 0.3856329794754386\n",
      "At random state 95,the testing accuracy is:- 0.46886516331961203\n",
      "\n",
      "\n",
      "At random state 96,the training accuracy is:- 0.4476734265504564\n",
      "At random state 96,the testing accuracy is:- -0.14476588919925137\n",
      "\n",
      "\n",
      "At random state 97,the training accuracy is:- 0.3996330711149805\n",
      "At random state 97,the testing accuracy is:- 0.2816473106703974\n",
      "\n",
      "\n",
      "At random state 98,the training accuracy is:- 0.42377014941061186\n",
      "At random state 98,the testing accuracy is:- 0.23847226062017046\n",
      "\n",
      "\n",
      "At random state 99,the training accuracy is:- 0.45910441812179037\n",
      "At random state 99,the testing accuracy is:- 0.02714734585404288\n",
      "\n",
      "\n"
     ]
    }
   ],
   "source": [
    "for i in range(0,100):\n",
    "    features_train,features_test,target_train,target_test=train_test_split(features,target,test_size=0.2,random_state=i)\n",
    "    lr.fit(features_train,target_train)\n",
    "    pred_train=lr.predict(features_train)\n",
    "    pred_test=lr.predict(features_test)\n",
    "    print(f'At random state {i},the training accuracy is:- {r2_score(target_train,pred_train)}')\n",
    "    print(f'At random state {i},the testing accuracy is:- {r2_score(target_test,pred_test)}')\n",
    "    print('\\n')"
   ]
  },
  {
   "cell_type": "code",
   "execution_count": 59,
   "id": "6faa618c",
   "metadata": {},
   "outputs": [],
   "source": [
    "features_train,features_test,target_train,target_test=train_test_split(features,target,test_size=0.2,random_state=50)"
   ]
  },
  {
   "cell_type": "markdown",
   "id": "7427a6d0",
   "metadata": {},
   "source": [
    "We choose random state as 50 because the difference between training and testing accuracy is the least there"
   ]
  },
  {
   "cell_type": "code",
   "execution_count": 60,
   "id": "9e59af3e",
   "metadata": {},
   "outputs": [
    {
     "data": {
      "text/html": [
       "<style>#sk-container-id-1 {color: black;background-color: white;}#sk-container-id-1 pre{padding: 0;}#sk-container-id-1 div.sk-toggleable {background-color: white;}#sk-container-id-1 label.sk-toggleable__label {cursor: pointer;display: block;width: 100%;margin-bottom: 0;padding: 0.3em;box-sizing: border-box;text-align: center;}#sk-container-id-1 label.sk-toggleable__label-arrow:before {content: \"▸\";float: left;margin-right: 0.25em;color: #696969;}#sk-container-id-1 label.sk-toggleable__label-arrow:hover:before {color: black;}#sk-container-id-1 div.sk-estimator:hover label.sk-toggleable__label-arrow:before {color: black;}#sk-container-id-1 div.sk-toggleable__content {max-height: 0;max-width: 0;overflow: hidden;text-align: left;background-color: #f0f8ff;}#sk-container-id-1 div.sk-toggleable__content pre {margin: 0.2em;color: black;border-radius: 0.25em;background-color: #f0f8ff;}#sk-container-id-1 input.sk-toggleable__control:checked~div.sk-toggleable__content {max-height: 200px;max-width: 100%;overflow: auto;}#sk-container-id-1 input.sk-toggleable__control:checked~label.sk-toggleable__label-arrow:before {content: \"▾\";}#sk-container-id-1 div.sk-estimator input.sk-toggleable__control:checked~label.sk-toggleable__label {background-color: #d4ebff;}#sk-container-id-1 div.sk-label input.sk-toggleable__control:checked~label.sk-toggleable__label {background-color: #d4ebff;}#sk-container-id-1 input.sk-hidden--visually {border: 0;clip: rect(1px 1px 1px 1px);clip: rect(1px, 1px, 1px, 1px);height: 1px;margin: -1px;overflow: hidden;padding: 0;position: absolute;width: 1px;}#sk-container-id-1 div.sk-estimator {font-family: monospace;background-color: #f0f8ff;border: 1px dotted black;border-radius: 0.25em;box-sizing: border-box;margin-bottom: 0.5em;}#sk-container-id-1 div.sk-estimator:hover {background-color: #d4ebff;}#sk-container-id-1 div.sk-parallel-item::after {content: \"\";width: 100%;border-bottom: 1px solid gray;flex-grow: 1;}#sk-container-id-1 div.sk-label:hover label.sk-toggleable__label {background-color: #d4ebff;}#sk-container-id-1 div.sk-serial::before {content: \"\";position: absolute;border-left: 1px solid gray;box-sizing: border-box;top: 0;bottom: 0;left: 50%;z-index: 0;}#sk-container-id-1 div.sk-serial {display: flex;flex-direction: column;align-items: center;background-color: white;padding-right: 0.2em;padding-left: 0.2em;position: relative;}#sk-container-id-1 div.sk-item {position: relative;z-index: 1;}#sk-container-id-1 div.sk-parallel {display: flex;align-items: stretch;justify-content: center;background-color: white;position: relative;}#sk-container-id-1 div.sk-item::before, #sk-container-id-1 div.sk-parallel-item::before {content: \"\";position: absolute;border-left: 1px solid gray;box-sizing: border-box;top: 0;bottom: 0;left: 50%;z-index: -1;}#sk-container-id-1 div.sk-parallel-item {display: flex;flex-direction: column;z-index: 1;position: relative;background-color: white;}#sk-container-id-1 div.sk-parallel-item:first-child::after {align-self: flex-end;width: 50%;}#sk-container-id-1 div.sk-parallel-item:last-child::after {align-self: flex-start;width: 50%;}#sk-container-id-1 div.sk-parallel-item:only-child::after {width: 0;}#sk-container-id-1 div.sk-dashed-wrapped {border: 1px dashed gray;margin: 0 0.4em 0.5em 0.4em;box-sizing: border-box;padding-bottom: 0.4em;background-color: white;}#sk-container-id-1 div.sk-label label {font-family: monospace;font-weight: bold;display: inline-block;line-height: 1.2em;}#sk-container-id-1 div.sk-label-container {text-align: center;}#sk-container-id-1 div.sk-container {/* jupyter's `normalize.less` sets `[hidden] { display: none; }` but bootstrap.min.css set `[hidden] { display: none !important; }` so we also need the `!important` here to be able to override the default hidden behavior on the sphinx rendered scikit-learn.org. See: https://github.com/scikit-learn/scikit-learn/issues/21755 */display: inline-block !important;position: relative;}#sk-container-id-1 div.sk-text-repr-fallback {display: none;}</style><div id=\"sk-container-id-1\" class=\"sk-top-container\"><div class=\"sk-text-repr-fallback\"><pre>LinearRegression()</pre><b>In a Jupyter environment, please rerun this cell to show the HTML representation or trust the notebook. <br />On GitHub, the HTML representation is unable to render, please try loading this page with nbviewer.org.</b></div><div class=\"sk-container\" hidden><div class=\"sk-item\"><div class=\"sk-estimator sk-toggleable\"><input class=\"sk-toggleable__control sk-hidden--visually\" id=\"sk-estimator-id-1\" type=\"checkbox\" checked><label for=\"sk-estimator-id-1\" class=\"sk-toggleable__label sk-toggleable__label-arrow\">LinearRegression</label><div class=\"sk-toggleable__content\"><pre>LinearRegression()</pre></div></div></div></div></div>"
      ],
      "text/plain": [
       "LinearRegression()"
      ]
     },
     "execution_count": 60,
     "metadata": {},
     "output_type": "execute_result"
    }
   ],
   "source": [
    "lr.fit(features_train,target_train)"
   ]
  },
  {
   "cell_type": "code",
   "execution_count": 61,
   "id": "8d178ce0",
   "metadata": {},
   "outputs": [],
   "source": [
    "pred_test=lr.predict(features_test)"
   ]
  },
  {
   "cell_type": "code",
   "execution_count": 62,
   "id": "842537a4",
   "metadata": {},
   "outputs": [
    {
     "name": "stdout",
     "output_type": "stream",
     "text": [
      "0.4082724385720792\n"
     ]
    }
   ],
   "source": [
    "print(r2_score(target_test,pred_test))"
   ]
  },
  {
   "cell_type": "markdown",
   "id": "cbb16ed6",
   "metadata": {},
   "source": [
    "Cross validation of the model-"
   ]
  },
  {
   "cell_type": "code",
   "execution_count": 63,
   "id": "2b50824b",
   "metadata": {},
   "outputs": [
    {
     "name": "stdout",
     "output_type": "stream",
     "text": [
      "At cross fold 2 the cv score is -0.23338253175918744 and accuracy score for training is -0.6361443171099672 and accuracy for the testing is 0.4082724385720792\n",
      "\n",
      "\n",
      "At cross fold 3 the cv score is 0.14055718989336252 and accuracy score for training is -0.6361443171099672 and accuracy for the testing is 0.4082724385720792\n",
      "\n",
      "\n",
      "At cross fold 4 the cv score is 0.11779411768815476 and accuracy score for training is -0.6361443171099672 and accuracy for the testing is 0.4082724385720792\n",
      "\n",
      "\n",
      "At cross fold 5 the cv score is -0.0335077918505553 and accuracy score for training is -0.6361443171099672 and accuracy for the testing is 0.4082724385720792\n",
      "\n",
      "\n",
      "At cross fold 6 the cv score is 0.08027146975189196 and accuracy score for training is -0.6361443171099672 and accuracy for the testing is 0.4082724385720792\n",
      "\n",
      "\n",
      "At cross fold 7 the cv score is 0.11593382822606915 and accuracy score for training is -0.6361443171099672 and accuracy for the testing is 0.4082724385720792\n",
      "\n",
      "\n",
      "At cross fold 8 the cv score is 0.07946499617884466 and accuracy score for training is -0.6361443171099672 and accuracy for the testing is 0.4082724385720792\n",
      "\n",
      "\n",
      "At cross fold 9 the cv score is -0.08643997241908373 and accuracy score for training is -0.6361443171099672 and accuracy for the testing is 0.4082724385720792\n",
      "\n",
      "\n"
     ]
    }
   ],
   "source": [
    "Train_accuracy=r2_score(target_train,pred_train)\n",
    "Test_accuracy=r2_score(target_test,pred_test)\n",
    "from sklearn.model_selection import cross_val_score\n",
    "for j in range(2,10):\n",
    "    cv_score=cross_val_score(lr,features,target,cv=j)\n",
    "    cv_mean=cv_score.mean()\n",
    "    print(f'At cross fold {j} the cv score is {cv_mean} and accuracy score for training is {Train_accuracy} and accuracy for the testing is {Test_accuracy}')\n",
    "    print('\\n')"
   ]
  },
  {
   "cell_type": "markdown",
   "id": "1d5c52c9",
   "metadata": {},
   "source": [
    "Here, we have handled the problem of the overfitting and the underfitting by checking the training and testing score."
   ]
  },
  {
   "cell_type": "code",
   "execution_count": 65,
   "id": "69785e8f",
   "metadata": {},
   "outputs": [
    {
     "data": {
      "image/png": "[encoded data removed]",
      "text/plain": [
       "<Figure size 576x432 with 1 Axes>"
      ]
     },
     "metadata": {
      "needs_background": "light"
     },
     "output_type": "display_data"
    }
   ],
   "source": [
    "plt.figure(figsize=(8,6))\n",
    "plt.scatter(x=target_test,y=pred_test,color='r')\n",
    "plt.plot(target_test,target_test,color='b')\n",
    "plt.xlabel('Actual Votes',fontsize=14)\n",
    "plt.ylabel('Predicted Votes',fontsize=14)\n",
    "plt.title('Linear Regression',fontsize=14)\n",
    "plt.savefig('lr.png')\n",
    "plt.show()"
   ]
  },
  {
   "cell_type": "markdown",
   "id": "891a910f",
   "metadata": {},
   "source": [
    "Best fit line is covering most of the datapoints which shows good fit of our model. Equation of the line is: y=mx+c"
   ]
  },
  {
   "cell_type": "markdown",
   "id": "5d3a79d9",
   "metadata": {},
   "source": [
    "Regularization-"
   ]
  },
  {
   "cell_type": "code",
   "execution_count": 66,
   "id": "a7ec3822",
   "metadata": {},
   "outputs": [
    {
     "name": "stdout",
     "output_type": "stream",
     "text": [
      "{'alpha': 10, 'random_state': 0}\n"
     ]
    }
   ],
   "source": [
    "from sklearn.model_selection import GridSearchCV\n",
    "from sklearn.linear_model import Lasso\n",
    "parameters={'alpha': [.0001, .001, .01, .1, 1, 10],\n",
    "           'random_state':list(range(0,10))}\n",
    "ls=Lasso()\n",
    "clf= GridSearchCV(ls,parameters)\n",
    "clf.fit(features_train,target_train)\n",
    "print(clf.best_params_)"
   ]
  },
  {
   "cell_type": "markdown",
   "id": "e57da1e8",
   "metadata": {},
   "source": [
    "Final model training-"
   ]
  },
  {
   "cell_type": "code",
   "execution_count": 67,
   "id": "9b3aa2dd",
   "metadata": {},
   "outputs": [
    {
     "data": {
      "text/plain": [
       "69.54057063237282"
      ]
     },
     "execution_count": 67,
     "metadata": {},
     "output_type": "execute_result"
    }
   ],
   "source": [
    "ls=Lasso(alpha=10,random_state=0)\n",
    "ls.fit(features_test,target_test)\n",
    "ls_score_testing=ls.score(features_test,target_test)\n",
    "pred_ls=ls.predict(features_test)\n",
    "ls_score_testing*100"
   ]
  },
  {
   "cell_type": "markdown",
   "id": "24db79ed",
   "metadata": {},
   "source": [
    "Here, we predict the score on our test data to check the model accuracy.\n",
    "\n",
    "Ensemble technique-"
   ]
  },
  {
   "cell_type": "code",
   "execution_count": 68,
   "id": "5275dd15",
   "metadata": {},
   "outputs": [],
   "source": [
    "from sklearn.model_selection import GridSearchCV\n",
    "from sklearn.ensemble import RandomForestRegressor"
   ]
  },
  {
   "cell_type": "code",
   "execution_count": 69,
   "id": "7ddd9965",
   "metadata": {},
   "outputs": [
    {
     "name": "stdout",
     "output_type": "stream",
     "text": [
      "{'criterion': 'mae', 'max_features': 'auto'}\n"
     ]
    }
   ],
   "source": [
    "parameters={'criterion': ['mse','mae'],\n",
    "           'max_features':['auto','sqrt','log2']}\n",
    "rf=RandomForestRegressor()\n",
    "clf= GridSearchCV(rf,parameters)\n",
    "clf.fit(features_train,target_train)\n",
    "print(clf.best_params_)"
   ]
  },
  {
   "cell_type": "code",
   "execution_count": 70,
   "id": "ee42bdb8",
   "metadata": {},
   "outputs": [],
   "source": [
    "from sklearn.model_selection import cross_val_score"
   ]
  },
  {
   "cell_type": "code",
   "execution_count": 72,
   "id": "806f4cdc",
   "metadata": {},
   "outputs": [
    {
     "name": "stdout",
     "output_type": "stream",
     "text": [
      "R2 Score: 47.55814253415278\n",
      "Cross val score: 40.464562684933405\n"
     ]
    }
   ],
   "source": [
    "rf=RandomForestRegressor(criterion='mae',max_features='auto')\n",
    "rf.fit(features_train,target_train)\n",
    "rf.score(features_train,target_train)\n",
    "pred_decision= rf.predict(features_test)\n",
    "rfs=r2_score(target_test,pred_decision)\n",
    "print('R2 Score:',rfs*100)\n",
    "rfscore=cross_val_score(rf,features,target,cv=4)\n",
    "rfc= rfscore.mean()\n",
    "print('Cross val score:',rfc*100)"
   ]
  },
  {
   "cell_type": "markdown",
   "id": "ff833b25",
   "metadata": {},
   "source": [
    "We are getting model accuracy above 47% which shows our model is performing good. We choose cv=4 here because, the accuracy score there is the highest."
   ]
  },
  {
   "cell_type": "markdown",
   "id": "4b2509af",
   "metadata": {},
   "source": [
    "Saving the file-"
   ]
  },
  {
   "cell_type": "code",
   "execution_count": 73,
   "id": "7d070e7b",
   "metadata": {},
   "outputs": [],
   "source": [
    "import pickle\n",
    "filename='votes.pkl'\n",
    "pickle.dump(rf, open(filename, 'wb'))"
   ]
  },
  {
   "cell_type": "markdown",
   "id": "e6922f63",
   "metadata": {},
   "source": [
    "Conclusion-"
   ]
  },
  {
   "cell_type": "code",
   "execution_count": 74,
   "id": "9e16151b",
   "metadata": {},
   "outputs": [
    {
     "name": "stdout",
     "output_type": "stream",
     "text": [
      "47.55814253415278\n"
     ]
    }
   ],
   "source": [
    "loaded_model=pickle.load(open('votes.pkl','rb'))\n",
    "result=loaded_model.score(features_test,target_test)\n",
    "print(result*100)"
   ]
  },
  {
   "cell_type": "code",
   "execution_count": 75,
   "id": "776968d8",
   "metadata": {},
   "outputs": [
    {
     "data": {
      "text/html": [
       "<div>\n",
       "<style scoped>\n",
       "    .dataframe tbody tr th:only-of-type {\n",
       "        vertical-align: middle;\n",
       "    }\n",
       "\n",
       "    .dataframe tbody tr th {\n",
       "        vertical-align: top;\n",
       "    }\n",
       "\n",
       "    .dataframe thead th {\n",
       "        text-align: right;\n",
       "    }\n",
       "</style>\n",
       "<table border=\"1\" class=\"dataframe\">\n",
       "  <thead>\n",
       "    <tr style=\"text-align: right;\">\n",
       "      <th></th>\n",
       "      <th>0</th>\n",
       "      <th>1</th>\n",
       "      <th>2</th>\n",
       "      <th>3</th>\n",
       "      <th>4</th>\n",
       "      <th>5</th>\n",
       "      <th>6</th>\n",
       "      <th>7</th>\n",
       "      <th>8</th>\n",
       "      <th>9</th>\n",
       "      <th>10</th>\n",
       "      <th>11</th>\n",
       "      <th>12</th>\n",
       "      <th>13</th>\n",
       "      <th>14</th>\n",
       "      <th>15</th>\n",
       "      <th>16</th>\n",
       "      <th>17</th>\n",
       "      <th>18</th>\n",
       "      <th>19</th>\n",
       "    </tr>\n",
       "  </thead>\n",
       "  <tbody>\n",
       "    <tr>\n",
       "      <th>Predicted</th>\n",
       "      <td>8.71</td>\n",
       "      <td>57.54</td>\n",
       "      <td>65.49</td>\n",
       "      <td>69.99</td>\n",
       "      <td>63.09</td>\n",
       "      <td>49.23</td>\n",
       "      <td>55.89</td>\n",
       "      <td>65.62</td>\n",
       "      <td>75.61</td>\n",
       "      <td>64.62</td>\n",
       "      <td>43.64</td>\n",
       "      <td>68.27</td>\n",
       "      <td>77.31</td>\n",
       "      <td>56.0</td>\n",
       "      <td>47.8</td>\n",
       "      <td>18.75</td>\n",
       "      <td>70.0</td>\n",
       "      <td>71.42</td>\n",
       "      <td>10.52</td>\n",
       "      <td>49.61</td>\n",
       "    </tr>\n",
       "    <tr>\n",
       "      <th>Original</th>\n",
       "      <td>8.71</td>\n",
       "      <td>57.54</td>\n",
       "      <td>65.49</td>\n",
       "      <td>69.99</td>\n",
       "      <td>63.09</td>\n",
       "      <td>49.23</td>\n",
       "      <td>55.89</td>\n",
       "      <td>65.62</td>\n",
       "      <td>75.61</td>\n",
       "      <td>64.62</td>\n",
       "      <td>43.64</td>\n",
       "      <td>68.27</td>\n",
       "      <td>77.31</td>\n",
       "      <td>56.0</td>\n",
       "      <td>47.8</td>\n",
       "      <td>18.75</td>\n",
       "      <td>70.0</td>\n",
       "      <td>71.42</td>\n",
       "      <td>10.52</td>\n",
       "      <td>49.61</td>\n",
       "    </tr>\n",
       "  </tbody>\n",
       "</table>\n",
       "</div>"
      ],
      "text/plain": [
       "             0      1      2      3      4      5      6      7      8   \\\n",
       "Predicted  8.71  57.54  65.49  69.99  63.09  49.23  55.89  65.62  75.61   \n",
       "Original   8.71  57.54  65.49  69.99  63.09  49.23  55.89  65.62  75.61   \n",
       "\n",
       "              9      10     11     12    13    14     15    16     17     18  \\\n",
       "Predicted  64.62  43.64  68.27  77.31  56.0  47.8  18.75  70.0  71.42  10.52   \n",
       "Original   64.62  43.64  68.27  77.31  56.0  47.8  18.75  70.0  71.42  10.52   \n",
       "\n",
       "              19  \n",
       "Predicted  49.61  \n",
       "Original   49.61  "
      ]
     },
     "execution_count": 75,
     "metadata": {},
     "output_type": "execute_result"
    }
   ],
   "source": [
    "conclusion=pd.DataFrame([loaded_model.predict(features_test)[:],pred_decision[:]],index=['Predicted','Original'])\n",
    "conclusion"
   ]
  },
  {
   "cell_type": "markdown",
   "id": "38044d29",
   "metadata": {},
   "source": [
    "LINEAR REGRESSION MODEL FOR PREDICTING GROSS COLLECTION-"
   ]
  },
  {
   "cell_type": "markdown",
   "id": "d426c0ae",
   "metadata": {},
   "source": [
    "Separating the columns into features and target-"
   ]
  },
  {
   "cell_type": "code",
   "execution_count": 76,
   "id": "e2ea2a2a",
   "metadata": {},
   "outputs": [],
   "source": [
    "features=df.drop('Gross collection',axis=1)\n",
    "target=df['Gross collection']"
   ]
  },
  {
   "cell_type": "markdown",
   "id": "240f7dee",
   "metadata": {},
   "source": [
    "Scaling the data using MinMax scaler-"
   ]
  },
  {
   "cell_type": "code",
   "execution_count": 77,
   "id": "bbb36888",
   "metadata": {},
   "outputs": [],
   "source": [
    "from sklearn.preprocessing import MinMaxScaler\n",
    "mns=MinMaxScaler()\n",
    "from sklearn.linear_model import LinearRegression\n",
    "lr=LinearRegression()\n",
    "from sklearn.metrics import r2_score\n",
    "from sklearn.model_selection import train_test_split"
   ]
  },
  {
   "cell_type": "code",
   "execution_count": 78,
   "id": "f5e371ad",
   "metadata": {},
   "outputs": [],
   "source": [
    "import warnings\n",
    "warnings.filterwarnings('ignore')"
   ]
  },
  {
   "cell_type": "code",
   "execution_count": 79,
   "id": "a41e89cd",
   "metadata": {},
   "outputs": [
    {
     "name": "stdout",
     "output_type": "stream",
     "text": [
      "At random state 0,the training accuracy is:- 0.4654556205843776\n",
      "At random state 0,the testing accuracy is:- 0.1385064681711934\n",
      "\n",
      "\n",
      "At random state 1,the training accuracy is:- 0.45414215021922466\n",
      "At random state 1,the testing accuracy is:- 0.1769380413461813\n",
      "\n",
      "\n",
      "At random state 2,the training accuracy is:- 0.42248665295134136\n",
      "At random state 2,the testing accuracy is:- 0.3653246423802362\n",
      "\n",
      "\n",
      "At random state 3,the training accuracy is:- 0.427645566413262\n",
      "At random state 3,the testing accuracy is:- 0.33223462250950486\n",
      "\n",
      "\n",
      "At random state 4,the training accuracy is:- 0.4536936540311354\n",
      "At random state 4,the testing accuracy is:- 0.05917195336042247\n",
      "\n",
      "\n",
      "At random state 5,the training accuracy is:- 0.469284497468193\n",
      "At random state 5,the testing accuracy is:- 0.07227279529814168\n",
      "\n",
      "\n",
      "At random state 6,the training accuracy is:- 0.3907906042713203\n",
      "At random state 6,the testing accuracy is:- 0.4715542358624044\n",
      "\n",
      "\n",
      "At random state 7,the training accuracy is:- 0.46030672984811927\n",
      "At random state 7,the testing accuracy is:- 0.033984573076589863\n",
      "\n",
      "\n",
      "At random state 8,the training accuracy is:- 0.46191304543362643\n",
      "At random state 8,the testing accuracy is:- 0.21550082668377146\n",
      "\n",
      "\n",
      "At random state 9,the training accuracy is:- 0.48141451578240024\n",
      "At random state 9,the testing accuracy is:- 0.06633976433487787\n",
      "\n",
      "\n",
      "At random state 10,the training accuracy is:- 0.4377952681605414\n",
      "At random state 10,the testing accuracy is:- 0.2959362388917882\n",
      "\n",
      "\n",
      "At random state 11,the training accuracy is:- 0.4823812792099035\n",
      "At random state 11,the testing accuracy is:- -0.13621077108964785\n",
      "\n",
      "\n",
      "At random state 12,the training accuracy is:- 0.3664363056575909\n",
      "At random state 12,the testing accuracy is:- 0.35139645050288737\n",
      "\n",
      "\n",
      "At random state 13,the training accuracy is:- 0.43711262855339483\n",
      "At random state 13,the testing accuracy is:- 0.1080538843474953\n",
      "\n",
      "\n",
      "At random state 14,the training accuracy is:- 0.468630874974979\n",
      "At random state 14,the testing accuracy is:- 0.1352608571412499\n",
      "\n",
      "\n",
      "At random state 15,the training accuracy is:- 0.4272566238154969\n",
      "At random state 15,the testing accuracy is:- 0.28364418081361686\n",
      "\n",
      "\n",
      "At random state 16,the training accuracy is:- 0.4207511717410203\n",
      "At random state 16,the testing accuracy is:- 0.39092149399284515\n",
      "\n",
      "\n",
      "At random state 17,the training accuracy is:- 0.4540681584558701\n",
      "At random state 17,the testing accuracy is:- -0.3181982080141017\n",
      "\n",
      "\n",
      "At random state 18,the training accuracy is:- 0.48173690163273875\n",
      "At random state 18,the testing accuracy is:- -0.4230128747614015\n",
      "\n",
      "\n",
      "At random state 19,the training accuracy is:- 0.456837688126254\n",
      "At random state 19,the testing accuracy is:- 0.09528146963070927\n",
      "\n",
      "\n",
      "At random state 20,the training accuracy is:- 0.39920336723868777\n",
      "At random state 20,the testing accuracy is:- 0.41103155606235153\n",
      "\n",
      "\n",
      "At random state 21,the training accuracy is:- 0.4553406408716608\n",
      "At random state 21,the testing accuracy is:- 0.043186461423434186\n",
      "\n",
      "\n",
      "At random state 22,the training accuracy is:- 0.43588031860294185\n",
      "At random state 22,the testing accuracy is:- 0.32949565251326096\n",
      "\n",
      "\n",
      "At random state 23,the training accuracy is:- 0.4093620924526914\n",
      "At random state 23,the testing accuracy is:- 0.36535059117600843\n",
      "\n",
      "\n",
      "At random state 24,the training accuracy is:- 0.396509484022629\n",
      "At random state 24,the testing accuracy is:- 0.3817341086390179\n",
      "\n",
      "\n",
      "At random state 25,the training accuracy is:- 0.4889826710829175\n",
      "At random state 25,the testing accuracy is:- 0.021298360491676882\n",
      "\n",
      "\n",
      "At random state 26,the training accuracy is:- 0.39667690180948\n",
      "At random state 26,the testing accuracy is:- 0.4267290577706868\n",
      "\n",
      "\n",
      "At random state 27,the training accuracy is:- 0.5292665751641091\n",
      "At random state 27,the testing accuracy is:- -1.0821929550151337\n",
      "\n",
      "\n",
      "At random state 28,the training accuracy is:- 0.4900586982434899\n",
      "At random state 28,the testing accuracy is:- -0.03383865474617265\n",
      "\n",
      "\n",
      "At random state 29,the training accuracy is:- 0.45043214829606715\n",
      "At random state 29,the testing accuracy is:- 0.2880923820823724\n",
      "\n",
      "\n",
      "At random state 30,the training accuracy is:- 0.41619385220459904\n",
      "At random state 30,the testing accuracy is:- 0.24326376584129816\n",
      "\n",
      "\n",
      "At random state 31,the training accuracy is:- 0.4214785426775922\n",
      "At random state 31,the testing accuracy is:- 0.17522757857883853\n",
      "\n",
      "\n",
      "At random state 32,the training accuracy is:- 0.4555330862146242\n",
      "At random state 32,the testing accuracy is:- 0.17354389221218391\n",
      "\n",
      "\n",
      "At random state 33,the training accuracy is:- 0.3467281790883464\n",
      "At random state 33,the testing accuracy is:- 0.6116318991748322\n",
      "\n",
      "\n",
      "At random state 34,the training accuracy is:- 0.45595213367276244\n",
      "At random state 34,the testing accuracy is:- 0.19235952812077484\n",
      "\n",
      "\n",
      "At random state 35,the training accuracy is:- 0.49496189420313885\n",
      "At random state 35,the testing accuracy is:- -1.392805432398418\n",
      "\n",
      "\n",
      "At random state 36,the training accuracy is:- 0.4757544043418085\n",
      "At random state 36,the testing accuracy is:- -0.044051640546366455\n",
      "\n",
      "\n",
      "At random state 37,the training accuracy is:- 0.4164039544436786\n",
      "At random state 37,the testing accuracy is:- 0.33616382520625077\n",
      "\n",
      "\n",
      "At random state 38,the training accuracy is:- 0.4290404156231853\n",
      "At random state 38,the testing accuracy is:- 0.30012785870273484\n",
      "\n",
      "\n",
      "At random state 39,the training accuracy is:- 0.4816192170260504\n",
      "At random state 39,the testing accuracy is:- 0.048496034950753386\n",
      "\n",
      "\n",
      "At random state 40,the training accuracy is:- 0.39876949501014736\n",
      "At random state 40,the testing accuracy is:- 0.2976384544206758\n",
      "\n",
      "\n",
      "At random state 41,the training accuracy is:- 0.47258274393821875\n",
      "At random state 41,the testing accuracy is:- -0.19306957423396698\n",
      "\n",
      "\n",
      "At random state 42,the training accuracy is:- 0.48353188562083627\n",
      "At random state 42,the testing accuracy is:- -0.07070428108858207\n",
      "\n",
      "\n",
      "At random state 43,the training accuracy is:- 0.3979662100963467\n",
      "At random state 43,the testing accuracy is:- 0.4163861851362164\n",
      "\n",
      "\n",
      "At random state 44,the training accuracy is:- 0.42919227127949733\n",
      "At random state 44,the testing accuracy is:- 0.13828808565197892\n",
      "\n",
      "\n",
      "At random state 45,the training accuracy is:- 0.4267518455038818\n",
      "At random state 45,the testing accuracy is:- 0.25301753166543584\n",
      "\n",
      "\n",
      "At random state 46,the training accuracy is:- 0.5149921376690394\n",
      "At random state 46,the testing accuracy is:- -0.0633823805229341\n",
      "\n",
      "\n",
      "At random state 47,the training accuracy is:- 0.3508521136918783\n",
      "At random state 47,the testing accuracy is:- 0.4945200756608006\n",
      "\n",
      "\n",
      "At random state 48,the training accuracy is:- 0.3863823768407173\n",
      "At random state 48,the testing accuracy is:- 0.5700788384274851\n",
      "\n",
      "\n",
      "At random state 49,the training accuracy is:- 0.513769947309346\n",
      "At random state 49,the testing accuracy is:- -0.047318496300343016\n",
      "\n",
      "\n",
      "At random state 50,the training accuracy is:- 0.42325014085369417\n",
      "At random state 50,the testing accuracy is:- 0.1554451697812177\n",
      "\n",
      "\n",
      "At random state 51,the training accuracy is:- 0.476957667957437\n",
      "At random state 51,the testing accuracy is:- -0.22970636181822557\n",
      "\n",
      "\n",
      "At random state 52,the training accuracy is:- 0.4260464490114515\n",
      "At random state 52,the testing accuracy is:- 0.2140208594642833\n",
      "\n",
      "\n",
      "At random state 53,the training accuracy is:- 0.4809887017276532\n",
      "At random state 53,the testing accuracy is:- 0.047295518539249404\n",
      "\n",
      "\n",
      "At random state 54,the training accuracy is:- 0.5431521140980267\n",
      "At random state 54,the testing accuracy is:- -1.2238895836239503\n",
      "\n",
      "\n",
      "At random state 55,the training accuracy is:- 0.4211008805175621\n",
      "At random state 55,the testing accuracy is:- 0.1905065674202946\n",
      "\n",
      "\n",
      "At random state 56,the training accuracy is:- 0.3720949983337368\n",
      "At random state 56,the testing accuracy is:- 0.49799464102876423\n",
      "\n",
      "\n",
      "At random state 57,the training accuracy is:- 0.4059100947283376\n",
      "At random state 57,the testing accuracy is:- 0.42718029074386765\n",
      "\n",
      "\n",
      "At random state 58,the training accuracy is:- 0.4140969727017916\n",
      "At random state 58,the testing accuracy is:- 0.37910213183298525\n",
      "\n",
      "\n",
      "At random state 59,the training accuracy is:- 0.4493269927489275\n",
      "At random state 59,the testing accuracy is:- 0.16955402639072514\n",
      "\n",
      "\n",
      "At random state 60,the training accuracy is:- 0.4417351189172287\n",
      "At random state 60,the testing accuracy is:- 0.2793571788136534\n",
      "\n",
      "\n",
      "At random state 61,the training accuracy is:- 0.40472386137579597\n",
      "At random state 61,the testing accuracy is:- 0.44787006291932907\n",
      "\n",
      "\n",
      "At random state 62,the training accuracy is:- 0.44106386165170464\n",
      "At random state 62,the testing accuracy is:- 0.1834324566306721\n",
      "\n",
      "\n",
      "At random state 63,the training accuracy is:- 0.4590230062913915\n",
      "At random state 63,the testing accuracy is:- 0.06670112900621805\n",
      "\n",
      "\n",
      "At random state 64,the training accuracy is:- 0.4199663955861226\n",
      "At random state 64,the testing accuracy is:- 0.38519834062533775\n",
      "\n",
      "\n",
      "At random state 65,the training accuracy is:- 0.4175910231724884\n",
      "At random state 65,the testing accuracy is:- 0.2912874556483731\n",
      "\n",
      "\n",
      "At random state 66,the training accuracy is:- 0.4496586686865609\n",
      "At random state 66,the testing accuracy is:- 0.2578444900154666\n",
      "\n",
      "\n",
      "At random state 67,the training accuracy is:- 0.4599702725887268\n",
      "At random state 67,the testing accuracy is:- 0.14213226306335758\n",
      "\n",
      "\n",
      "At random state 68,the training accuracy is:- 0.49840833978309174\n",
      "At random state 68,the testing accuracy is:- 0.015207943495055831\n",
      "\n",
      "\n",
      "At random state 69,the training accuracy is:- 0.43356432021513436\n",
      "At random state 69,the testing accuracy is:- 0.2969688058413398\n",
      "\n",
      "\n",
      "At random state 70,the training accuracy is:- 0.48586354813772203\n",
      "At random state 70,the testing accuracy is:- -0.15546582668990494\n",
      "\n",
      "\n",
      "At random state 71,the training accuracy is:- 0.47757201841594754\n",
      "At random state 71,the testing accuracy is:- 0.14048465117454412\n",
      "\n",
      "\n",
      "At random state 72,the training accuracy is:- 0.44810307752932543\n",
      "At random state 72,the testing accuracy is:- 0.08695605744727564\n",
      "\n",
      "\n",
      "At random state 73,the training accuracy is:- 0.3990375565526696\n",
      "At random state 73,the testing accuracy is:- 0.4122071127686232\n",
      "\n",
      "\n",
      "At random state 74,the training accuracy is:- 0.40874899509907114\n",
      "At random state 74,the testing accuracy is:- 0.3234023766900499\n",
      "\n",
      "\n",
      "At random state 75,the training accuracy is:- 0.4414312369073198\n",
      "At random state 75,the testing accuracy is:- 0.3057533312581123\n",
      "\n",
      "\n",
      "At random state 76,the training accuracy is:- 0.44276492607366236\n",
      "At random state 76,the testing accuracy is:- 0.16099634501791038\n",
      "\n",
      "\n",
      "At random state 77,the training accuracy is:- 0.4106349994976153\n",
      "At random state 77,the testing accuracy is:- 0.4805453697262202\n",
      "\n",
      "\n",
      "At random state 78,the training accuracy is:- 0.4230215819465185\n",
      "At random state 78,the testing accuracy is:- 0.3471533083285737\n",
      "\n",
      "\n",
      "At random state 79,the training accuracy is:- 0.400005474188181\n",
      "At random state 79,the testing accuracy is:- 0.4241233549638195\n",
      "\n",
      "\n",
      "At random state 80,the training accuracy is:- 0.5378326805116423\n",
      "At random state 80,the testing accuracy is:- -0.26623123237439783\n",
      "\n",
      "\n",
      "At random state 81,the training accuracy is:- 0.4440209283748493\n",
      "At random state 81,the testing accuracy is:- 0.050223285840345855\n",
      "\n",
      "\n",
      "At random state 82,the training accuracy is:- 0.4413769539107071\n",
      "At random state 82,the testing accuracy is:- 0.22694237968069286\n",
      "\n",
      "\n",
      "At random state 83,the training accuracy is:- 0.4525495679903849\n",
      "At random state 83,the testing accuracy is:- 0.2642816242075311\n",
      "\n",
      "\n",
      "At random state 84,the training accuracy is:- 0.40859238861940606\n",
      "At random state 84,the testing accuracy is:- 0.3289634526161882\n",
      "\n",
      "\n",
      "At random state 85,the training accuracy is:- 0.37720561598599867\n",
      "At random state 85,the testing accuracy is:- 0.5060950478490986\n",
      "\n",
      "\n",
      "At random state 86,the training accuracy is:- 0.4246022178352338\n",
      "At random state 86,the testing accuracy is:- 0.253165424635467\n",
      "\n",
      "\n",
      "At random state 87,the training accuracy is:- 0.47271067378484577\n",
      "At random state 87,the testing accuracy is:- -0.011534183673548526\n",
      "\n",
      "\n",
      "At random state 88,the training accuracy is:- 0.4501686663849165\n",
      "At random state 88,the testing accuracy is:- 0.1411371042507359\n",
      "\n",
      "\n",
      "At random state 89,the training accuracy is:- 0.4476431483213089\n",
      "At random state 89,the testing accuracy is:- 0.277976529047286\n",
      "\n",
      "\n",
      "At random state 90,the training accuracy is:- 0.45578193820346113\n",
      "At random state 90,the testing accuracy is:- 0.1972723927764184\n",
      "\n",
      "\n",
      "At random state 91,the training accuracy is:- 0.42948399697094564\n",
      "At random state 91,the testing accuracy is:- 0.32786570716973795\n",
      "\n",
      "\n",
      "At random state 92,the training accuracy is:- 0.4677859840286631\n",
      "At random state 92,the testing accuracy is:- 0.0587268343608478\n",
      "\n",
      "\n",
      "At random state 93,the training accuracy is:- 0.4149085006468173\n",
      "At random state 93,the testing accuracy is:- 0.36392261286139205\n",
      "\n",
      "\n",
      "At random state 94,the training accuracy is:- 0.504642402345657\n",
      "At random state 94,the testing accuracy is:- -0.1804281438530062\n",
      "\n",
      "\n",
      "At random state 95,the training accuracy is:- 0.46724761853337204\n",
      "At random state 95,the testing accuracy is:- 0.20160983770056695\n",
      "\n",
      "\n",
      "At random state 96,the training accuracy is:- 0.48180117313618487\n",
      "At random state 96,the testing accuracy is:- 0.04090625833637118\n",
      "\n",
      "\n",
      "At random state 97,the training accuracy is:- 0.4145174413023155\n",
      "At random state 97,the testing accuracy is:- 0.43332166737430255\n",
      "\n",
      "\n",
      "At random state 98,the training accuracy is:- 0.4378977400962828\n",
      "At random state 98,the testing accuracy is:- 0.012733584649824992\n",
      "\n",
      "\n",
      "At random state 99,the training accuracy is:- 0.46338093744462616\n",
      "At random state 99,the testing accuracy is:- 0.10665785366922631\n",
      "\n",
      "\n"
     ]
    }
   ],
   "source": [
    "for i in range(0,100):\n",
    "    features_train,features_test,target_train,target_test=train_test_split(features,target,test_size=0.2,random_state=i)\n",
    "    lr.fit(features_train,target_train)\n",
    "    pred_train=lr.predict(features_train)\n",
    "    pred_test=lr.predict(features_test)\n",
    "    print(f'At random state {i},the training accuracy is:- {r2_score(target_train,pred_train)}')\n",
    "    print(f'At random state {i},the testing accuracy is:- {r2_score(target_test,pred_test)}')\n",
    "    print('\\n')"
   ]
  },
  {
   "cell_type": "code",
   "execution_count": 80,
   "id": "bb138000",
   "metadata": {},
   "outputs": [],
   "source": [
    "features_train,features_test,target_train,target_test=train_test_split(features,target,test_size=0.2,random_state=97)"
   ]
  },
  {
   "cell_type": "markdown",
   "id": "bc7ace66",
   "metadata": {},
   "source": [
    "We choose random state as 97 because the difference between training and testing accuracy is the least there"
   ]
  },
  {
   "cell_type": "code",
   "execution_count": 81,
   "id": "7f54f613",
   "metadata": {},
   "outputs": [
    {
     "data": {
      "text/html": [
       "<style>#sk-container-id-2 {color: black;background-color: white;}#sk-container-id-2 pre{padding: 0;}#sk-container-id-2 div.sk-toggleable {background-color: white;}#sk-container-id-2 label.sk-toggleable__label {cursor: pointer;display: block;width: 100%;margin-bottom: 0;padding: 0.3em;box-sizing: border-box;text-align: center;}#sk-container-id-2 label.sk-toggleable__label-arrow:before {content: \"▸\";float: left;margin-right: 0.25em;color: #696969;}#sk-container-id-2 label.sk-toggleable__label-arrow:hover:before {color: black;}#sk-container-id-2 div.sk-estimator:hover label.sk-toggleable__label-arrow:before {color: black;}#sk-container-id-2 div.sk-toggleable__content {max-height: 0;max-width: 0;overflow: hidden;text-align: left;background-color: #f0f8ff;}#sk-container-id-2 div.sk-toggleable__content pre {margin: 0.2em;color: black;border-radius: 0.25em;background-color: #f0f8ff;}#sk-container-id-2 input.sk-toggleable__control:checked~div.sk-toggleable__content {max-height: 200px;max-width: 100%;overflow: auto;}#sk-container-id-2 input.sk-toggleable__control:checked~label.sk-toggleable__label-arrow:before {content: \"▾\";}#sk-container-id-2 div.sk-estimator input.sk-toggleable__control:checked~label.sk-toggleable__label {background-color: #d4ebff;}#sk-container-id-2 div.sk-label input.sk-toggleable__control:checked~label.sk-toggleable__label {background-color: #d4ebff;}#sk-container-id-2 input.sk-hidden--visually {border: 0;clip: rect(1px 1px 1px 1px);clip: rect(1px, 1px, 1px, 1px);height: 1px;margin: -1px;overflow: hidden;padding: 0;position: absolute;width: 1px;}#sk-container-id-2 div.sk-estimator {font-family: monospace;background-color: #f0f8ff;border: 1px dotted black;border-radius: 0.25em;box-sizing: border-box;margin-bottom: 0.5em;}#sk-container-id-2 div.sk-estimator:hover {background-color: #d4ebff;}#sk-container-id-2 div.sk-parallel-item::after {content: \"\";width: 100%;border-bottom: 1px solid gray;flex-grow: 1;}#sk-container-id-2 div.sk-label:hover label.sk-toggleable__label {background-color: #d4ebff;}#sk-container-id-2 div.sk-serial::before {content: \"\";position: absolute;border-left: 1px solid gray;box-sizing: border-box;top: 0;bottom: 0;left: 50%;z-index: 0;}#sk-container-id-2 div.sk-serial {display: flex;flex-direction: column;align-items: center;background-color: white;padding-right: 0.2em;padding-left: 0.2em;position: relative;}#sk-container-id-2 div.sk-item {position: relative;z-index: 1;}#sk-container-id-2 div.sk-parallel {display: flex;align-items: stretch;justify-content: center;background-color: white;position: relative;}#sk-container-id-2 div.sk-item::before, #sk-container-id-2 div.sk-parallel-item::before {content: \"\";position: absolute;border-left: 1px solid gray;box-sizing: border-box;top: 0;bottom: 0;left: 50%;z-index: -1;}#sk-container-id-2 div.sk-parallel-item {display: flex;flex-direction: column;z-index: 1;position: relative;background-color: white;}#sk-container-id-2 div.sk-parallel-item:first-child::after {align-self: flex-end;width: 50%;}#sk-container-id-2 div.sk-parallel-item:last-child::after {align-self: flex-start;width: 50%;}#sk-container-id-2 div.sk-parallel-item:only-child::after {width: 0;}#sk-container-id-2 div.sk-dashed-wrapped {border: 1px dashed gray;margin: 0 0.4em 0.5em 0.4em;box-sizing: border-box;padding-bottom: 0.4em;background-color: white;}#sk-container-id-2 div.sk-label label {font-family: monospace;font-weight: bold;display: inline-block;line-height: 1.2em;}#sk-container-id-2 div.sk-label-container {text-align: center;}#sk-container-id-2 div.sk-container {/* jupyter's `normalize.less` sets `[hidden] { display: none; }` but bootstrap.min.css set `[hidden] { display: none !important; }` so we also need the `!important` here to be able to override the default hidden behavior on the sphinx rendered scikit-learn.org. See: https://github.com/scikit-learn/scikit-learn/issues/21755 */display: inline-block !important;position: relative;}#sk-container-id-2 div.sk-text-repr-fallback {display: none;}</style><div id=\"sk-container-id-2\" class=\"sk-top-container\"><div class=\"sk-text-repr-fallback\"><pre>LinearRegression()</pre><b>In a Jupyter environment, please rerun this cell to show the HTML representation or trust the notebook. <br />On GitHub, the HTML representation is unable to render, please try loading this page with nbviewer.org.</b></div><div class=\"sk-container\" hidden><div class=\"sk-item\"><div class=\"sk-estimator sk-toggleable\"><input class=\"sk-toggleable__control sk-hidden--visually\" id=\"sk-estimator-id-2\" type=\"checkbox\" checked><label for=\"sk-estimator-id-2\" class=\"sk-toggleable__label sk-toggleable__label-arrow\">LinearRegression</label><div class=\"sk-toggleable__content\"><pre>LinearRegression()</pre></div></div></div></div></div>"
      ],
      "text/plain": [
       "LinearRegression()"
      ]
     },
     "execution_count": 81,
     "metadata": {},
     "output_type": "execute_result"
    }
   ],
   "source": [
    "lr.fit(features_train,target_train)"
   ]
  },
  {
   "cell_type": "code",
   "execution_count": 82,
   "id": "71a58bf5",
   "metadata": {},
   "outputs": [],
   "source": [
    "pred_test=lr.predict(features_test)"
   ]
  },
  {
   "cell_type": "code",
   "execution_count": 83,
   "id": "98fdecff",
   "metadata": {},
   "outputs": [
    {
     "name": "stdout",
     "output_type": "stream",
     "text": [
      "0.43332166737430255\n"
     ]
    }
   ],
   "source": [
    "print(r2_score(target_test,pred_test))"
   ]
  },
  {
   "cell_type": "markdown",
   "id": "9364f206",
   "metadata": {},
   "source": [
    "Cross validation of the model-"
   ]
  },
  {
   "cell_type": "code",
   "execution_count": 84,
   "id": "05225029",
   "metadata": {},
   "outputs": [
    {
     "name": "stdout",
     "output_type": "stream",
     "text": [
      "At cross fold 2 the cv score is 0.27376163927314245 and accuracy score for training is -0.5443639736448223 and accuracy for the testing is 0.43332166737430255\n",
      "\n",
      "\n",
      "At cross fold 3 the cv score is 0.04651192694163601 and accuracy score for training is -0.5443639736448223 and accuracy for the testing is 0.43332166737430255\n",
      "\n",
      "\n",
      "At cross fold 4 the cv score is 0.22594638740494055 and accuracy score for training is -0.5443639736448223 and accuracy for the testing is 0.43332166737430255\n",
      "\n",
      "\n",
      "At cross fold 5 the cv score is 0.12937827096083038 and accuracy score for training is -0.5443639736448223 and accuracy for the testing is 0.43332166737430255\n",
      "\n",
      "\n",
      "At cross fold 6 the cv score is -0.183927177367215 and accuracy score for training is -0.5443639736448223 and accuracy for the testing is 0.43332166737430255\n",
      "\n",
      "\n",
      "At cross fold 7 the cv score is -0.5650792729834317 and accuracy score for training is -0.5443639736448223 and accuracy for the testing is 0.43332166737430255\n",
      "\n",
      "\n",
      "At cross fold 8 the cv score is -0.18671615514135287 and accuracy score for training is -0.5443639736448223 and accuracy for the testing is 0.43332166737430255\n",
      "\n",
      "\n",
      "At cross fold 9 the cv score is -0.661930893680807 and accuracy score for training is -0.5443639736448223 and accuracy for the testing is 0.43332166737430255\n",
      "\n",
      "\n"
     ]
    }
   ],
   "source": [
    "Train_accuracy=r2_score(target_train,pred_train)\n",
    "Test_accuracy=r2_score(target_test,pred_test)\n",
    "from sklearn.model_selection import cross_val_score\n",
    "for j in range(2,10):\n",
    "    cv_score=cross_val_score(lr,features,target,cv=j)\n",
    "    cv_mean=cv_score.mean()\n",
    "    print(f'At cross fold {j} the cv score is {cv_mean} and accuracy score for training is {Train_accuracy} and accuracy for the testing is {Test_accuracy}')\n",
    "    print('\\n')"
   ]
  },
  {
   "cell_type": "markdown",
   "id": "5149fbb2",
   "metadata": {},
   "source": [
    "Here, we have handled the problem of the overfitting and the underfitting by checking the training and testing score."
   ]
  },
  {
   "cell_type": "code",
   "execution_count": 85,
   "id": "e03a7a43",
   "metadata": {},
   "outputs": [
    {
     "data": {
      "image/png": "[encoded data removed]",
      "text/plain": [
       "<Figure size 576x432 with 1 Axes>"
      ]
     },
     "metadata": {
      "needs_background": "light"
     },
     "output_type": "display_data"
    }
   ],
   "source": [
    "plt.figure(figsize=(8,6))\n",
    "plt.scatter(x=target_test,y=pred_test,color='r')\n",
    "plt.plot(target_test,target_test,color='b')\n",
    "plt.xlabel('Actual Collection',fontsize=14)\n",
    "plt.ylabel('Predicted Collection',fontsize=14)\n",
    "plt.title('Linear Regression',fontsize=14)\n",
    "plt.savefig('lr-1.png')\n",
    "plt.show()"
   ]
  },
  {
   "cell_type": "markdown",
   "id": "4a01b229",
   "metadata": {},
   "source": [
    "Best fit line is covering most of the datapoints which shows good fit of our model. Equation of the line is: y=mx+c\n",
    "\n",
    "Regularization-"
   ]
  },
  {
   "cell_type": "code",
   "execution_count": 86,
   "id": "9696a1af",
   "metadata": {},
   "outputs": [
    {
     "name": "stdout",
     "output_type": "stream",
     "text": [
      "{'alpha': 10, 'random_state': 0}\n"
     ]
    }
   ],
   "source": [
    "from sklearn.model_selection import GridSearchCV\n",
    "from sklearn.linear_model import Lasso\n",
    "parameters={'alpha': [.0001, .001, .01, .1, 1, 10],\n",
    "           'random_state':list(range(0,10))}\n",
    "ls=Lasso()\n",
    "clf= GridSearchCV(ls,parameters)\n",
    "clf.fit(features_train,target_train)\n",
    "print(clf.best_params_)"
   ]
  },
  {
   "cell_type": "markdown",
   "id": "1a792fad",
   "metadata": {},
   "source": [
    "Final model training-"
   ]
  },
  {
   "cell_type": "code",
   "execution_count": 87,
   "id": "c2d0e170",
   "metadata": {},
   "outputs": [
    {
     "data": {
      "text/plain": [
       "61.95905026251286"
      ]
     },
     "execution_count": 87,
     "metadata": {},
     "output_type": "execute_result"
    }
   ],
   "source": [
    "ls=Lasso(alpha=10,random_state=0)\n",
    "ls.fit(features_test,target_test)\n",
    "ls_score_testing=ls.score(features_test,target_test)\n",
    "pred_ls=ls.predict(features_test)\n",
    "ls_score_testing*100"
   ]
  },
  {
   "cell_type": "markdown",
   "id": "ab84c603",
   "metadata": {},
   "source": [
    "Here, we predict the score on our test data to check the model accuracy.\n",
    "\n",
    "Ensemble technique-"
   ]
  },
  {
   "cell_type": "code",
   "execution_count": 88,
   "id": "01a15599",
   "metadata": {},
   "outputs": [],
   "source": [
    "from sklearn.model_selection import GridSearchCV\n",
    "from sklearn.ensemble import RandomForestRegressor"
   ]
  },
  {
   "cell_type": "code",
   "execution_count": 89,
   "id": "09b94b78",
   "metadata": {},
   "outputs": [
    {
     "name": "stdout",
     "output_type": "stream",
     "text": [
      "{'criterion': 'mae', 'max_features': 'auto'}\n"
     ]
    }
   ],
   "source": [
    "parameters={'criterion': ['mse','mae'],\n",
    "           'max_features':['auto','sqrt','log2']}\n",
    "rf=RandomForestRegressor()\n",
    "clf= GridSearchCV(rf,parameters)\n",
    "clf.fit(features_train,target_train)\n",
    "print(clf.best_params_)"
   ]
  },
  {
   "cell_type": "code",
   "execution_count": 90,
   "id": "53209eb5",
   "metadata": {},
   "outputs": [],
   "source": [
    "from sklearn.model_selection import cross_val_score"
   ]
  },
  {
   "cell_type": "code",
   "execution_count": 91,
   "id": "de910584",
   "metadata": {},
   "outputs": [
    {
     "name": "stdout",
     "output_type": "stream",
     "text": [
      "R2 Score: 40.68307567478917\n",
      "Cross val score: 10.61960195400666\n"
     ]
    }
   ],
   "source": [
    "rf=RandomForestRegressor(criterion='mae',max_features='auto')\n",
    "rf.fit(features_train,target_train)\n",
    "rf.score(features_train,target_train)\n",
    "pred_decision= rf.predict(features_test)\n",
    "rfs=r2_score(target_test,pred_decision)\n",
    "print('R2 Score:',rfs*100)\n",
    "rfscore=cross_val_score(rf,features,target,cv=4)\n",
    "rfc= rfscore.mean()\n",
    "print('Cross val score:',rfc*100)"
   ]
  },
  {
   "cell_type": "markdown",
   "id": "acc506ff",
   "metadata": {},
   "source": [
    "We are getting model accuracy above 40% which shows our model is performing good. We choose cv=4 here because, the accuracy score there is the highest.\n",
    "\n",
    "Saving the file-"
   ]
  },
  {
   "cell_type": "code",
   "execution_count": 92,
   "id": "52b5b166",
   "metadata": {},
   "outputs": [],
   "source": [
    "import pickle\n",
    "filename='gross-collection.pkl'\n",
    "pickle.dump(rf, open(filename, 'wb'))"
   ]
  },
  {
   "cell_type": "markdown",
   "id": "266123bb",
   "metadata": {},
   "source": [
    "Conclusion-"
   ]
  },
  {
   "cell_type": "code",
   "execution_count": 93,
   "id": "322b9b85",
   "metadata": {},
   "outputs": [
    {
     "name": "stdout",
     "output_type": "stream",
     "text": [
      "40.68307567478917\n"
     ]
    }
   ],
   "source": [
    "loaded_model=pickle.load(open('gross-collection.pkl','rb'))\n",
    "result=loaded_model.score(features_test,target_test)\n",
    "print(result*100)"
   ]
  },
  {
   "cell_type": "code",
   "execution_count": 94,
   "id": "43c75144",
   "metadata": {},
   "outputs": [
    {
     "data": {
      "text/html": [
       "<div>\n",
       "<style scoped>\n",
       "    .dataframe tbody tr th:only-of-type {\n",
       "        vertical-align: middle;\n",
       "    }\n",
       "\n",
       "    .dataframe tbody tr th {\n",
       "        vertical-align: top;\n",
       "    }\n",
       "\n",
       "    .dataframe thead th {\n",
       "        text-align: right;\n",
       "    }\n",
       "</style>\n",
       "<table border=\"1\" class=\"dataframe\">\n",
       "  <thead>\n",
       "    <tr style=\"text-align: right;\">\n",
       "      <th></th>\n",
       "      <th>0</th>\n",
       "      <th>1</th>\n",
       "      <th>2</th>\n",
       "      <th>3</th>\n",
       "      <th>4</th>\n",
       "      <th>5</th>\n",
       "      <th>6</th>\n",
       "      <th>7</th>\n",
       "      <th>8</th>\n",
       "      <th>9</th>\n",
       "      <th>10</th>\n",
       "      <th>11</th>\n",
       "      <th>12</th>\n",
       "      <th>13</th>\n",
       "      <th>14</th>\n",
       "      <th>15</th>\n",
       "      <th>16</th>\n",
       "      <th>17</th>\n",
       "      <th>18</th>\n",
       "      <th>19</th>\n",
       "    </tr>\n",
       "  </thead>\n",
       "  <tbody>\n",
       "    <tr>\n",
       "      <th>Predicted</th>\n",
       "      <td>22.1</td>\n",
       "      <td>14.43</td>\n",
       "      <td>25.83</td>\n",
       "      <td>15.77</td>\n",
       "      <td>40.17</td>\n",
       "      <td>23.08</td>\n",
       "      <td>42.96</td>\n",
       "      <td>51.23</td>\n",
       "      <td>29.89</td>\n",
       "      <td>45.05</td>\n",
       "      <td>28.48</td>\n",
       "      <td>12.89</td>\n",
       "      <td>24.5</td>\n",
       "      <td>24.46</td>\n",
       "      <td>32.76</td>\n",
       "      <td>13.86</td>\n",
       "      <td>33.96</td>\n",
       "      <td>13.54</td>\n",
       "      <td>32.7</td>\n",
       "      <td>29.37</td>\n",
       "    </tr>\n",
       "    <tr>\n",
       "      <th>Original</th>\n",
       "      <td>22.1</td>\n",
       "      <td>14.43</td>\n",
       "      <td>25.83</td>\n",
       "      <td>15.77</td>\n",
       "      <td>40.17</td>\n",
       "      <td>23.08</td>\n",
       "      <td>42.96</td>\n",
       "      <td>51.23</td>\n",
       "      <td>29.89</td>\n",
       "      <td>45.05</td>\n",
       "      <td>28.48</td>\n",
       "      <td>12.89</td>\n",
       "      <td>24.5</td>\n",
       "      <td>24.46</td>\n",
       "      <td>32.76</td>\n",
       "      <td>13.86</td>\n",
       "      <td>33.96</td>\n",
       "      <td>13.54</td>\n",
       "      <td>32.7</td>\n",
       "      <td>29.37</td>\n",
       "    </tr>\n",
       "  </tbody>\n",
       "</table>\n",
       "</div>"
      ],
      "text/plain": [
       "             0      1      2      3      4      5      6      7      8   \\\n",
       "Predicted  22.1  14.43  25.83  15.77  40.17  23.08  42.96  51.23  29.89   \n",
       "Original   22.1  14.43  25.83  15.77  40.17  23.08  42.96  51.23  29.89   \n",
       "\n",
       "              9      10     11    12     13     14     15     16     17    18  \\\n",
       "Predicted  45.05  28.48  12.89  24.5  24.46  32.76  13.86  33.96  13.54  32.7   \n",
       "Original   45.05  28.48  12.89  24.5  24.46  32.76  13.86  33.96  13.54  32.7   \n",
       "\n",
       "              19  \n",
       "Predicted  29.37  \n",
       "Original   29.37  "
      ]
     },
     "execution_count": 94,
     "metadata": {},
     "output_type": "execute_result"
    }
   ],
   "source": [
    "conclusion=pd.DataFrame([loaded_model.predict(features_test)[:],pred_decision[:]],index=['Predicted','Original'])\n",
    "conclusion"
   ]
  },
  {
   "cell_type": "markdown",
   "id": "c03b09db",
   "metadata": {},
   "source": [
    "THE END"
   ]
  },
  {
   "cell_type": "code",
   "execution_count": null,
   "id": "a99952b4",
   "metadata": {},
   "outputs": [],
   "source": []
  }
 ],
 "metadata": {
  "kernelspec": {
   "display_name": "Python 3 (ipykernel)",
   "language": "python",
   "name": "python3"
  },
  "language_info": {
   "codemirror_mode": {
    "name": "ipython",
    "version": 3
   },
   "file_extension": ".py",
   "mimetype": "text/x-python",
   "name": "python",
   "nbconvert_exporter": "python",
   "pygments_lexer": "ipython3",
   "version": "3.9.12"
  }
 },
 "nbformat": 4,
 "nbformat_minor": 5
}
